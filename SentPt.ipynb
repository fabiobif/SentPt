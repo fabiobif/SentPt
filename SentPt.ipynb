{
  "nbformat": 4,
  "nbformat_minor": 0,
  "metadata": {
    "colab": {
      "provenance": [],
      "collapsed_sections": [],
      "machine_shape": "hm",
      "include_colab_link": true
    },
    "kernelspec": {
      "name": "python3",
      "display_name": "Python 3"
    },
    "accelerator": "GPU",
    "widgets": {
      "application/vnd.jupyter.widget-state+json": {
        "abb9501cc70045ec96baceea54a02176": {
          "model_module": "@jupyter-widgets/controls",
          "model_name": "HBoxModel",
          "model_module_version": "1.5.0",
          "state": {
            "_view_name": "HBoxView",
            "_dom_classes": [],
            "_model_name": "HBoxModel",
            "_view_module": "@jupyter-widgets/controls",
            "_model_module_version": "1.5.0",
            "_view_count": null,
            "_view_module_version": "1.5.0",
            "box_style": "",
            "layout": "IPY_MODEL_b78606af039b4a8ab73ec33a9a8ec67d",
            "_model_module": "@jupyter-widgets/controls",
            "children": [
              "IPY_MODEL_751e8bab117e425c886682b7fb30ca7e",
              "IPY_MODEL_bbd1afd73bc943c0a20a3652533d2048",
              "IPY_MODEL_84723d3cf3074b23a91c95214e2646e9"
            ]
          }
        },
        "b78606af039b4a8ab73ec33a9a8ec67d": {
          "model_module": "@jupyter-widgets/base",
          "model_name": "LayoutModel",
          "model_module_version": "1.2.0",
          "state": {
            "_view_name": "LayoutView",
            "grid_template_rows": null,
            "right": null,
            "justify_content": null,
            "_view_module": "@jupyter-widgets/base",
            "overflow": null,
            "_model_module_version": "1.2.0",
            "_view_count": null,
            "flex_flow": null,
            "width": null,
            "min_width": null,
            "border": null,
            "align_items": null,
            "bottom": null,
            "_model_module": "@jupyter-widgets/base",
            "top": null,
            "grid_column": null,
            "overflow_y": null,
            "overflow_x": null,
            "grid_auto_flow": null,
            "grid_area": null,
            "grid_template_columns": null,
            "flex": null,
            "_model_name": "LayoutModel",
            "justify_items": null,
            "grid_row": null,
            "max_height": null,
            "align_content": null,
            "visibility": null,
            "align_self": null,
            "height": null,
            "min_height": null,
            "padding": null,
            "grid_auto_rows": null,
            "grid_gap": null,
            "max_width": null,
            "order": null,
            "_view_module_version": "1.2.0",
            "grid_template_areas": null,
            "object_position": null,
            "object_fit": null,
            "grid_auto_columns": null,
            "margin": null,
            "display": null,
            "left": null
          }
        },
        "751e8bab117e425c886682b7fb30ca7e": {
          "model_module": "@jupyter-widgets/controls",
          "model_name": "HTMLModel",
          "model_module_version": "1.5.0",
          "state": {
            "_view_name": "HTMLView",
            "style": "IPY_MODEL_471725c8bceb4154a7e3c8a5e2fbc0e7",
            "_dom_classes": [],
            "description": "",
            "_model_name": "HTMLModel",
            "placeholder": "​",
            "_view_module": "@jupyter-widgets/controls",
            "_model_module_version": "1.5.0",
            "value": "Downloading: 100%",
            "_view_count": null,
            "_view_module_version": "1.5.0",
            "description_tooltip": null,
            "_model_module": "@jupyter-widgets/controls",
            "layout": "IPY_MODEL_c211e0e4851a41929a9be74750b95699"
          }
        },
        "bbd1afd73bc943c0a20a3652533d2048": {
          "model_module": "@jupyter-widgets/controls",
          "model_name": "FloatProgressModel",
          "model_module_version": "1.5.0",
          "state": {
            "_view_name": "ProgressView",
            "style": "IPY_MODEL_a67cf650bfe44dab929155b73d792655",
            "_dom_classes": [],
            "description": "",
            "_model_name": "FloatProgressModel",
            "bar_style": "success",
            "max": 209528,
            "_view_module": "@jupyter-widgets/controls",
            "_model_module_version": "1.5.0",
            "value": 209528,
            "_view_count": null,
            "_view_module_version": "1.5.0",
            "orientation": "horizontal",
            "min": 0,
            "description_tooltip": null,
            "_model_module": "@jupyter-widgets/controls",
            "layout": "IPY_MODEL_50f4d3b593e8403fa818e5bece5767b9"
          }
        },
        "84723d3cf3074b23a91c95214e2646e9": {
          "model_module": "@jupyter-widgets/controls",
          "model_name": "HTMLModel",
          "model_module_version": "1.5.0",
          "state": {
            "_view_name": "HTMLView",
            "style": "IPY_MODEL_3487d1900d874a1c9b86f59f0083fc3d",
            "_dom_classes": [],
            "description": "",
            "_model_name": "HTMLModel",
            "placeholder": "​",
            "_view_module": "@jupyter-widgets/controls",
            "_model_module_version": "1.5.0",
            "value": " 210k/210k [00:00&lt;00:00, 2.11MB/s]",
            "_view_count": null,
            "_view_module_version": "1.5.0",
            "description_tooltip": null,
            "_model_module": "@jupyter-widgets/controls",
            "layout": "IPY_MODEL_272274c2898b41b189333405a6128e8d"
          }
        },
        "471725c8bceb4154a7e3c8a5e2fbc0e7": {
          "model_module": "@jupyter-widgets/controls",
          "model_name": "DescriptionStyleModel",
          "model_module_version": "1.5.0",
          "state": {
            "_view_name": "StyleView",
            "_model_name": "DescriptionStyleModel",
            "description_width": "",
            "_view_module": "@jupyter-widgets/base",
            "_model_module_version": "1.5.0",
            "_view_count": null,
            "_view_module_version": "1.2.0",
            "_model_module": "@jupyter-widgets/controls"
          }
        },
        "c211e0e4851a41929a9be74750b95699": {
          "model_module": "@jupyter-widgets/base",
          "model_name": "LayoutModel",
          "model_module_version": "1.2.0",
          "state": {
            "_view_name": "LayoutView",
            "grid_template_rows": null,
            "right": null,
            "justify_content": null,
            "_view_module": "@jupyter-widgets/base",
            "overflow": null,
            "_model_module_version": "1.2.0",
            "_view_count": null,
            "flex_flow": null,
            "width": null,
            "min_width": null,
            "border": null,
            "align_items": null,
            "bottom": null,
            "_model_module": "@jupyter-widgets/base",
            "top": null,
            "grid_column": null,
            "overflow_y": null,
            "overflow_x": null,
            "grid_auto_flow": null,
            "grid_area": null,
            "grid_template_columns": null,
            "flex": null,
            "_model_name": "LayoutModel",
            "justify_items": null,
            "grid_row": null,
            "max_height": null,
            "align_content": null,
            "visibility": null,
            "align_self": null,
            "height": null,
            "min_height": null,
            "padding": null,
            "grid_auto_rows": null,
            "grid_gap": null,
            "max_width": null,
            "order": null,
            "_view_module_version": "1.2.0",
            "grid_template_areas": null,
            "object_position": null,
            "object_fit": null,
            "grid_auto_columns": null,
            "margin": null,
            "display": null,
            "left": null
          }
        },
        "a67cf650bfe44dab929155b73d792655": {
          "model_module": "@jupyter-widgets/controls",
          "model_name": "ProgressStyleModel",
          "model_module_version": "1.5.0",
          "state": {
            "_view_name": "StyleView",
            "_model_name": "ProgressStyleModel",
            "description_width": "",
            "_view_module": "@jupyter-widgets/base",
            "_model_module_version": "1.5.0",
            "_view_count": null,
            "_view_module_version": "1.2.0",
            "bar_color": null,
            "_model_module": "@jupyter-widgets/controls"
          }
        },
        "50f4d3b593e8403fa818e5bece5767b9": {
          "model_module": "@jupyter-widgets/base",
          "model_name": "LayoutModel",
          "model_module_version": "1.2.0",
          "state": {
            "_view_name": "LayoutView",
            "grid_template_rows": null,
            "right": null,
            "justify_content": null,
            "_view_module": "@jupyter-widgets/base",
            "overflow": null,
            "_model_module_version": "1.2.0",
            "_view_count": null,
            "flex_flow": null,
            "width": null,
            "min_width": null,
            "border": null,
            "align_items": null,
            "bottom": null,
            "_model_module": "@jupyter-widgets/base",
            "top": null,
            "grid_column": null,
            "overflow_y": null,
            "overflow_x": null,
            "grid_auto_flow": null,
            "grid_area": null,
            "grid_template_columns": null,
            "flex": null,
            "_model_name": "LayoutModel",
            "justify_items": null,
            "grid_row": null,
            "max_height": null,
            "align_content": null,
            "visibility": null,
            "align_self": null,
            "height": null,
            "min_height": null,
            "padding": null,
            "grid_auto_rows": null,
            "grid_gap": null,
            "max_width": null,
            "order": null,
            "_view_module_version": "1.2.0",
            "grid_template_areas": null,
            "object_position": null,
            "object_fit": null,
            "grid_auto_columns": null,
            "margin": null,
            "display": null,
            "left": null
          }
        },
        "3487d1900d874a1c9b86f59f0083fc3d": {
          "model_module": "@jupyter-widgets/controls",
          "model_name": "DescriptionStyleModel",
          "model_module_version": "1.5.0",
          "state": {
            "_view_name": "StyleView",
            "_model_name": "DescriptionStyleModel",
            "description_width": "",
            "_view_module": "@jupyter-widgets/base",
            "_model_module_version": "1.5.0",
            "_view_count": null,
            "_view_module_version": "1.2.0",
            "_model_module": "@jupyter-widgets/controls"
          }
        },
        "272274c2898b41b189333405a6128e8d": {
          "model_module": "@jupyter-widgets/base",
          "model_name": "LayoutModel",
          "model_module_version": "1.2.0",
          "state": {
            "_view_name": "LayoutView",
            "grid_template_rows": null,
            "right": null,
            "justify_content": null,
            "_view_module": "@jupyter-widgets/base",
            "overflow": null,
            "_model_module_version": "1.2.0",
            "_view_count": null,
            "flex_flow": null,
            "width": null,
            "min_width": null,
            "border": null,
            "align_items": null,
            "bottom": null,
            "_model_module": "@jupyter-widgets/base",
            "top": null,
            "grid_column": null,
            "overflow_y": null,
            "overflow_x": null,
            "grid_auto_flow": null,
            "grid_area": null,
            "grid_template_columns": null,
            "flex": null,
            "_model_name": "LayoutModel",
            "justify_items": null,
            "grid_row": null,
            "max_height": null,
            "align_content": null,
            "visibility": null,
            "align_self": null,
            "height": null,
            "min_height": null,
            "padding": null,
            "grid_auto_rows": null,
            "grid_gap": null,
            "max_width": null,
            "order": null,
            "_view_module_version": "1.2.0",
            "grid_template_areas": null,
            "object_position": null,
            "object_fit": null,
            "grid_auto_columns": null,
            "margin": null,
            "display": null,
            "left": null
          }
        },
        "be57dbaf36b6489393596dfc361737b8": {
          "model_module": "@jupyter-widgets/controls",
          "model_name": "HBoxModel",
          "model_module_version": "1.5.0",
          "state": {
            "_view_name": "HBoxView",
            "_dom_classes": [],
            "_model_name": "HBoxModel",
            "_view_module": "@jupyter-widgets/controls",
            "_model_module_version": "1.5.0",
            "_view_count": null,
            "_view_module_version": "1.5.0",
            "box_style": "",
            "layout": "IPY_MODEL_93335519978244eb8efa96fe29307497",
            "_model_module": "@jupyter-widgets/controls",
            "children": [
              "IPY_MODEL_c33a6244a97b403e82209b765daf8132",
              "IPY_MODEL_69fe5db3f3a64a45904f86741883b4e8",
              "IPY_MODEL_3a5726e30cfe469885df47861958a0cb"
            ]
          }
        },
        "93335519978244eb8efa96fe29307497": {
          "model_module": "@jupyter-widgets/base",
          "model_name": "LayoutModel",
          "model_module_version": "1.2.0",
          "state": {
            "_view_name": "LayoutView",
            "grid_template_rows": null,
            "right": null,
            "justify_content": null,
            "_view_module": "@jupyter-widgets/base",
            "overflow": null,
            "_model_module_version": "1.2.0",
            "_view_count": null,
            "flex_flow": null,
            "width": null,
            "min_width": null,
            "border": null,
            "align_items": null,
            "bottom": null,
            "_model_module": "@jupyter-widgets/base",
            "top": null,
            "grid_column": null,
            "overflow_y": null,
            "overflow_x": null,
            "grid_auto_flow": null,
            "grid_area": null,
            "grid_template_columns": null,
            "flex": null,
            "_model_name": "LayoutModel",
            "justify_items": null,
            "grid_row": null,
            "max_height": null,
            "align_content": null,
            "visibility": null,
            "align_self": null,
            "height": null,
            "min_height": null,
            "padding": null,
            "grid_auto_rows": null,
            "grid_gap": null,
            "max_width": null,
            "order": null,
            "_view_module_version": "1.2.0",
            "grid_template_areas": null,
            "object_position": null,
            "object_fit": null,
            "grid_auto_columns": null,
            "margin": null,
            "display": null,
            "left": null
          }
        },
        "c33a6244a97b403e82209b765daf8132": {
          "model_module": "@jupyter-widgets/controls",
          "model_name": "HTMLModel",
          "model_module_version": "1.5.0",
          "state": {
            "_view_name": "HTMLView",
            "style": "IPY_MODEL_fbba0581a2c74cb794ebc2d8fb80e9e2",
            "_dom_classes": [],
            "description": "",
            "_model_name": "HTMLModel",
            "placeholder": "​",
            "_view_module": "@jupyter-widgets/controls",
            "_model_module_version": "1.5.0",
            "value": "Downloading: 100%",
            "_view_count": null,
            "_view_module_version": "1.5.0",
            "description_tooltip": null,
            "_model_module": "@jupyter-widgets/controls",
            "layout": "IPY_MODEL_23bc419761204f5c9d13d010a2e83c72"
          }
        },
        "69fe5db3f3a64a45904f86741883b4e8": {
          "model_module": "@jupyter-widgets/controls",
          "model_name": "FloatProgressModel",
          "model_module_version": "1.5.0",
          "state": {
            "_view_name": "ProgressView",
            "style": "IPY_MODEL_a428d982179f40a596350ac13cc3c3d2",
            "_dom_classes": [],
            "description": "",
            "_model_name": "FloatProgressModel",
            "bar_style": "success",
            "max": 2,
            "_view_module": "@jupyter-widgets/controls",
            "_model_module_version": "1.5.0",
            "value": 2,
            "_view_count": null,
            "_view_module_version": "1.5.0",
            "orientation": "horizontal",
            "min": 0,
            "description_tooltip": null,
            "_model_module": "@jupyter-widgets/controls",
            "layout": "IPY_MODEL_e6a44cfdb46b4c5aa5dbeaa5e986857f"
          }
        },
        "3a5726e30cfe469885df47861958a0cb": {
          "model_module": "@jupyter-widgets/controls",
          "model_name": "HTMLModel",
          "model_module_version": "1.5.0",
          "state": {
            "_view_name": "HTMLView",
            "style": "IPY_MODEL_2b9627e028284c5bba87ed7fff37d9c4",
            "_dom_classes": [],
            "description": "",
            "_model_name": "HTMLModel",
            "placeholder": "​",
            "_view_module": "@jupyter-widgets/controls",
            "_model_module_version": "1.5.0",
            "value": " 2.00/2.00 [00:00&lt;00:00, 66.1B/s]",
            "_view_count": null,
            "_view_module_version": "1.5.0",
            "description_tooltip": null,
            "_model_module": "@jupyter-widgets/controls",
            "layout": "IPY_MODEL_2434e1f07b9646079b318c9ee0fc146d"
          }
        },
        "fbba0581a2c74cb794ebc2d8fb80e9e2": {
          "model_module": "@jupyter-widgets/controls",
          "model_name": "DescriptionStyleModel",
          "model_module_version": "1.5.0",
          "state": {
            "_view_name": "StyleView",
            "_model_name": "DescriptionStyleModel",
            "description_width": "",
            "_view_module": "@jupyter-widgets/base",
            "_model_module_version": "1.5.0",
            "_view_count": null,
            "_view_module_version": "1.2.0",
            "_model_module": "@jupyter-widgets/controls"
          }
        },
        "23bc419761204f5c9d13d010a2e83c72": {
          "model_module": "@jupyter-widgets/base",
          "model_name": "LayoutModel",
          "model_module_version": "1.2.0",
          "state": {
            "_view_name": "LayoutView",
            "grid_template_rows": null,
            "right": null,
            "justify_content": null,
            "_view_module": "@jupyter-widgets/base",
            "overflow": null,
            "_model_module_version": "1.2.0",
            "_view_count": null,
            "flex_flow": null,
            "width": null,
            "min_width": null,
            "border": null,
            "align_items": null,
            "bottom": null,
            "_model_module": "@jupyter-widgets/base",
            "top": null,
            "grid_column": null,
            "overflow_y": null,
            "overflow_x": null,
            "grid_auto_flow": null,
            "grid_area": null,
            "grid_template_columns": null,
            "flex": null,
            "_model_name": "LayoutModel",
            "justify_items": null,
            "grid_row": null,
            "max_height": null,
            "align_content": null,
            "visibility": null,
            "align_self": null,
            "height": null,
            "min_height": null,
            "padding": null,
            "grid_auto_rows": null,
            "grid_gap": null,
            "max_width": null,
            "order": null,
            "_view_module_version": "1.2.0",
            "grid_template_areas": null,
            "object_position": null,
            "object_fit": null,
            "grid_auto_columns": null,
            "margin": null,
            "display": null,
            "left": null
          }
        },
        "a428d982179f40a596350ac13cc3c3d2": {
          "model_module": "@jupyter-widgets/controls",
          "model_name": "ProgressStyleModel",
          "model_module_version": "1.5.0",
          "state": {
            "_view_name": "StyleView",
            "_model_name": "ProgressStyleModel",
            "description_width": "",
            "_view_module": "@jupyter-widgets/base",
            "_model_module_version": "1.5.0",
            "_view_count": null,
            "_view_module_version": "1.2.0",
            "bar_color": null,
            "_model_module": "@jupyter-widgets/controls"
          }
        },
        "e6a44cfdb46b4c5aa5dbeaa5e986857f": {
          "model_module": "@jupyter-widgets/base",
          "model_name": "LayoutModel",
          "model_module_version": "1.2.0",
          "state": {
            "_view_name": "LayoutView",
            "grid_template_rows": null,
            "right": null,
            "justify_content": null,
            "_view_module": "@jupyter-widgets/base",
            "overflow": null,
            "_model_module_version": "1.2.0",
            "_view_count": null,
            "flex_flow": null,
            "width": null,
            "min_width": null,
            "border": null,
            "align_items": null,
            "bottom": null,
            "_model_module": "@jupyter-widgets/base",
            "top": null,
            "grid_column": null,
            "overflow_y": null,
            "overflow_x": null,
            "grid_auto_flow": null,
            "grid_area": null,
            "grid_template_columns": null,
            "flex": null,
            "_model_name": "LayoutModel",
            "justify_items": null,
            "grid_row": null,
            "max_height": null,
            "align_content": null,
            "visibility": null,
            "align_self": null,
            "height": null,
            "min_height": null,
            "padding": null,
            "grid_auto_rows": null,
            "grid_gap": null,
            "max_width": null,
            "order": null,
            "_view_module_version": "1.2.0",
            "grid_template_areas": null,
            "object_position": null,
            "object_fit": null,
            "grid_auto_columns": null,
            "margin": null,
            "display": null,
            "left": null
          }
        },
        "2b9627e028284c5bba87ed7fff37d9c4": {
          "model_module": "@jupyter-widgets/controls",
          "model_name": "DescriptionStyleModel",
          "model_module_version": "1.5.0",
          "state": {
            "_view_name": "StyleView",
            "_model_name": "DescriptionStyleModel",
            "description_width": "",
            "_view_module": "@jupyter-widgets/base",
            "_model_module_version": "1.5.0",
            "_view_count": null,
            "_view_module_version": "1.2.0",
            "_model_module": "@jupyter-widgets/controls"
          }
        },
        "2434e1f07b9646079b318c9ee0fc146d": {
          "model_module": "@jupyter-widgets/base",
          "model_name": "LayoutModel",
          "model_module_version": "1.2.0",
          "state": {
            "_view_name": "LayoutView",
            "grid_template_rows": null,
            "right": null,
            "justify_content": null,
            "_view_module": "@jupyter-widgets/base",
            "overflow": null,
            "_model_module_version": "1.2.0",
            "_view_count": null,
            "flex_flow": null,
            "width": null,
            "min_width": null,
            "border": null,
            "align_items": null,
            "bottom": null,
            "_model_module": "@jupyter-widgets/base",
            "top": null,
            "grid_column": null,
            "overflow_y": null,
            "overflow_x": null,
            "grid_auto_flow": null,
            "grid_area": null,
            "grid_template_columns": null,
            "flex": null,
            "_model_name": "LayoutModel",
            "justify_items": null,
            "grid_row": null,
            "max_height": null,
            "align_content": null,
            "visibility": null,
            "align_self": null,
            "height": null,
            "min_height": null,
            "padding": null,
            "grid_auto_rows": null,
            "grid_gap": null,
            "max_width": null,
            "order": null,
            "_view_module_version": "1.2.0",
            "grid_template_areas": null,
            "object_position": null,
            "object_fit": null,
            "grid_auto_columns": null,
            "margin": null,
            "display": null,
            "left": null
          }
        },
        "39b9a710da9c49bb8cece820ee1d8d70": {
          "model_module": "@jupyter-widgets/controls",
          "model_name": "HBoxModel",
          "model_module_version": "1.5.0",
          "state": {
            "_view_name": "HBoxView",
            "_dom_classes": [],
            "_model_name": "HBoxModel",
            "_view_module": "@jupyter-widgets/controls",
            "_model_module_version": "1.5.0",
            "_view_count": null,
            "_view_module_version": "1.5.0",
            "box_style": "",
            "layout": "IPY_MODEL_fbf93e77ecf24e5bade18984a8b674a8",
            "_model_module": "@jupyter-widgets/controls",
            "children": [
              "IPY_MODEL_377cbc69683b4f02b73928e5c25a5370",
              "IPY_MODEL_7d6453678cab4118a2297adfc82ea444",
              "IPY_MODEL_de12b4021edd45f5a7a64c339efacdd3"
            ]
          }
        },
        "fbf93e77ecf24e5bade18984a8b674a8": {
          "model_module": "@jupyter-widgets/base",
          "model_name": "LayoutModel",
          "model_module_version": "1.2.0",
          "state": {
            "_view_name": "LayoutView",
            "grid_template_rows": null,
            "right": null,
            "justify_content": null,
            "_view_module": "@jupyter-widgets/base",
            "overflow": null,
            "_model_module_version": "1.2.0",
            "_view_count": null,
            "flex_flow": null,
            "width": null,
            "min_width": null,
            "border": null,
            "align_items": null,
            "bottom": null,
            "_model_module": "@jupyter-widgets/base",
            "top": null,
            "grid_column": null,
            "overflow_y": null,
            "overflow_x": null,
            "grid_auto_flow": null,
            "grid_area": null,
            "grid_template_columns": null,
            "flex": null,
            "_model_name": "LayoutModel",
            "justify_items": null,
            "grid_row": null,
            "max_height": null,
            "align_content": null,
            "visibility": null,
            "align_self": null,
            "height": null,
            "min_height": null,
            "padding": null,
            "grid_auto_rows": null,
            "grid_gap": null,
            "max_width": null,
            "order": null,
            "_view_module_version": "1.2.0",
            "grid_template_areas": null,
            "object_position": null,
            "object_fit": null,
            "grid_auto_columns": null,
            "margin": null,
            "display": null,
            "left": null
          }
        },
        "377cbc69683b4f02b73928e5c25a5370": {
          "model_module": "@jupyter-widgets/controls",
          "model_name": "HTMLModel",
          "model_module_version": "1.5.0",
          "state": {
            "_view_name": "HTMLView",
            "style": "IPY_MODEL_6d9c92e6cc3741ff9935c99b9b5d7f6d",
            "_dom_classes": [],
            "description": "",
            "_model_name": "HTMLModel",
            "placeholder": "​",
            "_view_module": "@jupyter-widgets/controls",
            "_model_module_version": "1.5.0",
            "value": "Downloading: 100%",
            "_view_count": null,
            "_view_module_version": "1.5.0",
            "description_tooltip": null,
            "_model_module": "@jupyter-widgets/controls",
            "layout": "IPY_MODEL_f3a5cfcd3f31467b9456c0478fd16908"
          }
        },
        "7d6453678cab4118a2297adfc82ea444": {
          "model_module": "@jupyter-widgets/controls",
          "model_name": "FloatProgressModel",
          "model_module_version": "1.5.0",
          "state": {
            "_view_name": "ProgressView",
            "style": "IPY_MODEL_a3225ebf2ff641a68d5d5ec3817e09df",
            "_dom_classes": [],
            "description": "",
            "_model_name": "FloatProgressModel",
            "bar_style": "success",
            "max": 112,
            "_view_module": "@jupyter-widgets/controls",
            "_model_module_version": "1.5.0",
            "value": 112,
            "_view_count": null,
            "_view_module_version": "1.5.0",
            "orientation": "horizontal",
            "min": 0,
            "description_tooltip": null,
            "_model_module": "@jupyter-widgets/controls",
            "layout": "IPY_MODEL_129dfcc020b8409398e7be0e32fbf08b"
          }
        },
        "de12b4021edd45f5a7a64c339efacdd3": {
          "model_module": "@jupyter-widgets/controls",
          "model_name": "HTMLModel",
          "model_module_version": "1.5.0",
          "state": {
            "_view_name": "HTMLView",
            "style": "IPY_MODEL_ca17958ad0584a5ea165f0dbece81f9b",
            "_dom_classes": [],
            "description": "",
            "_model_name": "HTMLModel",
            "placeholder": "​",
            "_view_module": "@jupyter-widgets/controls",
            "_model_module_version": "1.5.0",
            "value": " 112/112 [00:00&lt;00:00, 3.27kB/s]",
            "_view_count": null,
            "_view_module_version": "1.5.0",
            "description_tooltip": null,
            "_model_module": "@jupyter-widgets/controls",
            "layout": "IPY_MODEL_cf68eb73b69c47098844d7fc38be1fe4"
          }
        },
        "6d9c92e6cc3741ff9935c99b9b5d7f6d": {
          "model_module": "@jupyter-widgets/controls",
          "model_name": "DescriptionStyleModel",
          "model_module_version": "1.5.0",
          "state": {
            "_view_name": "StyleView",
            "_model_name": "DescriptionStyleModel",
            "description_width": "",
            "_view_module": "@jupyter-widgets/base",
            "_model_module_version": "1.5.0",
            "_view_count": null,
            "_view_module_version": "1.2.0",
            "_model_module": "@jupyter-widgets/controls"
          }
        },
        "f3a5cfcd3f31467b9456c0478fd16908": {
          "model_module": "@jupyter-widgets/base",
          "model_name": "LayoutModel",
          "model_module_version": "1.2.0",
          "state": {
            "_view_name": "LayoutView",
            "grid_template_rows": null,
            "right": null,
            "justify_content": null,
            "_view_module": "@jupyter-widgets/base",
            "overflow": null,
            "_model_module_version": "1.2.0",
            "_view_count": null,
            "flex_flow": null,
            "width": null,
            "min_width": null,
            "border": null,
            "align_items": null,
            "bottom": null,
            "_model_module": "@jupyter-widgets/base",
            "top": null,
            "grid_column": null,
            "overflow_y": null,
            "overflow_x": null,
            "grid_auto_flow": null,
            "grid_area": null,
            "grid_template_columns": null,
            "flex": null,
            "_model_name": "LayoutModel",
            "justify_items": null,
            "grid_row": null,
            "max_height": null,
            "align_content": null,
            "visibility": null,
            "align_self": null,
            "height": null,
            "min_height": null,
            "padding": null,
            "grid_auto_rows": null,
            "grid_gap": null,
            "max_width": null,
            "order": null,
            "_view_module_version": "1.2.0",
            "grid_template_areas": null,
            "object_position": null,
            "object_fit": null,
            "grid_auto_columns": null,
            "margin": null,
            "display": null,
            "left": null
          }
        },
        "a3225ebf2ff641a68d5d5ec3817e09df": {
          "model_module": "@jupyter-widgets/controls",
          "model_name": "ProgressStyleModel",
          "model_module_version": "1.5.0",
          "state": {
            "_view_name": "StyleView",
            "_model_name": "ProgressStyleModel",
            "description_width": "",
            "_view_module": "@jupyter-widgets/base",
            "_model_module_version": "1.5.0",
            "_view_count": null,
            "_view_module_version": "1.2.0",
            "bar_color": null,
            "_model_module": "@jupyter-widgets/controls"
          }
        },
        "129dfcc020b8409398e7be0e32fbf08b": {
          "model_module": "@jupyter-widgets/base",
          "model_name": "LayoutModel",
          "model_module_version": "1.2.0",
          "state": {
            "_view_name": "LayoutView",
            "grid_template_rows": null,
            "right": null,
            "justify_content": null,
            "_view_module": "@jupyter-widgets/base",
            "overflow": null,
            "_model_module_version": "1.2.0",
            "_view_count": null,
            "flex_flow": null,
            "width": null,
            "min_width": null,
            "border": null,
            "align_items": null,
            "bottom": null,
            "_model_module": "@jupyter-widgets/base",
            "top": null,
            "grid_column": null,
            "overflow_y": null,
            "overflow_x": null,
            "grid_auto_flow": null,
            "grid_area": null,
            "grid_template_columns": null,
            "flex": null,
            "_model_name": "LayoutModel",
            "justify_items": null,
            "grid_row": null,
            "max_height": null,
            "align_content": null,
            "visibility": null,
            "align_self": null,
            "height": null,
            "min_height": null,
            "padding": null,
            "grid_auto_rows": null,
            "grid_gap": null,
            "max_width": null,
            "order": null,
            "_view_module_version": "1.2.0",
            "grid_template_areas": null,
            "object_position": null,
            "object_fit": null,
            "grid_auto_columns": null,
            "margin": null,
            "display": null,
            "left": null
          }
        },
        "ca17958ad0584a5ea165f0dbece81f9b": {
          "model_module": "@jupyter-widgets/controls",
          "model_name": "DescriptionStyleModel",
          "model_module_version": "1.5.0",
          "state": {
            "_view_name": "StyleView",
            "_model_name": "DescriptionStyleModel",
            "description_width": "",
            "_view_module": "@jupyter-widgets/base",
            "_model_module_version": "1.5.0",
            "_view_count": null,
            "_view_module_version": "1.2.0",
            "_model_module": "@jupyter-widgets/controls"
          }
        },
        "cf68eb73b69c47098844d7fc38be1fe4": {
          "model_module": "@jupyter-widgets/base",
          "model_name": "LayoutModel",
          "model_module_version": "1.2.0",
          "state": {
            "_view_name": "LayoutView",
            "grid_template_rows": null,
            "right": null,
            "justify_content": null,
            "_view_module": "@jupyter-widgets/base",
            "overflow": null,
            "_model_module_version": "1.2.0",
            "_view_count": null,
            "flex_flow": null,
            "width": null,
            "min_width": null,
            "border": null,
            "align_items": null,
            "bottom": null,
            "_model_module": "@jupyter-widgets/base",
            "top": null,
            "grid_column": null,
            "overflow_y": null,
            "overflow_x": null,
            "grid_auto_flow": null,
            "grid_area": null,
            "grid_template_columns": null,
            "flex": null,
            "_model_name": "LayoutModel",
            "justify_items": null,
            "grid_row": null,
            "max_height": null,
            "align_content": null,
            "visibility": null,
            "align_self": null,
            "height": null,
            "min_height": null,
            "padding": null,
            "grid_auto_rows": null,
            "grid_gap": null,
            "max_width": null,
            "order": null,
            "_view_module_version": "1.2.0",
            "grid_template_areas": null,
            "object_position": null,
            "object_fit": null,
            "grid_auto_columns": null,
            "margin": null,
            "display": null,
            "left": null
          }
        },
        "bf624d684e53460ea4cac908b6b26096": {
          "model_module": "@jupyter-widgets/controls",
          "model_name": "HBoxModel",
          "model_module_version": "1.5.0",
          "state": {
            "_view_name": "HBoxView",
            "_dom_classes": [],
            "_model_name": "HBoxModel",
            "_view_module": "@jupyter-widgets/controls",
            "_model_module_version": "1.5.0",
            "_view_count": null,
            "_view_module_version": "1.5.0",
            "box_style": "",
            "layout": "IPY_MODEL_fff45638212d4e628f8f3a547ea88483",
            "_model_module": "@jupyter-widgets/controls",
            "children": [
              "IPY_MODEL_3f7769a48cf14e96b15b51dbd2fab2ba",
              "IPY_MODEL_540efd1ce41344c095956b6567f77759",
              "IPY_MODEL_f9ef1c8671db4a4fa563064db54c865b"
            ]
          }
        },
        "fff45638212d4e628f8f3a547ea88483": {
          "model_module": "@jupyter-widgets/base",
          "model_name": "LayoutModel",
          "model_module_version": "1.2.0",
          "state": {
            "_view_name": "LayoutView",
            "grid_template_rows": null,
            "right": null,
            "justify_content": null,
            "_view_module": "@jupyter-widgets/base",
            "overflow": null,
            "_model_module_version": "1.2.0",
            "_view_count": null,
            "flex_flow": null,
            "width": null,
            "min_width": null,
            "border": null,
            "align_items": null,
            "bottom": null,
            "_model_module": "@jupyter-widgets/base",
            "top": null,
            "grid_column": null,
            "overflow_y": null,
            "overflow_x": null,
            "grid_auto_flow": null,
            "grid_area": null,
            "grid_template_columns": null,
            "flex": null,
            "_model_name": "LayoutModel",
            "justify_items": null,
            "grid_row": null,
            "max_height": null,
            "align_content": null,
            "visibility": null,
            "align_self": null,
            "height": null,
            "min_height": null,
            "padding": null,
            "grid_auto_rows": null,
            "grid_gap": null,
            "max_width": null,
            "order": null,
            "_view_module_version": "1.2.0",
            "grid_template_areas": null,
            "object_position": null,
            "object_fit": null,
            "grid_auto_columns": null,
            "margin": null,
            "display": null,
            "left": null
          }
        },
        "3f7769a48cf14e96b15b51dbd2fab2ba": {
          "model_module": "@jupyter-widgets/controls",
          "model_name": "HTMLModel",
          "model_module_version": "1.5.0",
          "state": {
            "_view_name": "HTMLView",
            "style": "IPY_MODEL_77211a95b1714b2b89a5bf991459c3d4",
            "_dom_classes": [],
            "description": "",
            "_model_name": "HTMLModel",
            "placeholder": "​",
            "_view_module": "@jupyter-widgets/controls",
            "_model_module_version": "1.5.0",
            "value": "Downloading: 100%",
            "_view_count": null,
            "_view_module_version": "1.5.0",
            "description_tooltip": null,
            "_model_module": "@jupyter-widgets/controls",
            "layout": "IPY_MODEL_9b156e1923c64fbdbcebe1f70db44e6c"
          }
        },
        "540efd1ce41344c095956b6567f77759": {
          "model_module": "@jupyter-widgets/controls",
          "model_name": "FloatProgressModel",
          "model_module_version": "1.5.0",
          "state": {
            "_view_name": "ProgressView",
            "style": "IPY_MODEL_ed2cf81bfc704864827ad2bad073badf",
            "_dom_classes": [],
            "description": "",
            "_model_name": "FloatProgressModel",
            "bar_style": "success",
            "max": 43,
            "_view_module": "@jupyter-widgets/controls",
            "_model_module_version": "1.5.0",
            "value": 43,
            "_view_count": null,
            "_view_module_version": "1.5.0",
            "orientation": "horizontal",
            "min": 0,
            "description_tooltip": null,
            "_model_module": "@jupyter-widgets/controls",
            "layout": "IPY_MODEL_d3494da8e82b4879ac4a04d90703e7db"
          }
        },
        "f9ef1c8671db4a4fa563064db54c865b": {
          "model_module": "@jupyter-widgets/controls",
          "model_name": "HTMLModel",
          "model_module_version": "1.5.0",
          "state": {
            "_view_name": "HTMLView",
            "style": "IPY_MODEL_2ea478b66ff348909e7a3fac18fe976f",
            "_dom_classes": [],
            "description": "",
            "_model_name": "HTMLModel",
            "placeholder": "​",
            "_view_module": "@jupyter-widgets/controls",
            "_model_module_version": "1.5.0",
            "value": " 43.0/43.0 [00:00&lt;00:00, 1.27kB/s]",
            "_view_count": null,
            "_view_module_version": "1.5.0",
            "description_tooltip": null,
            "_model_module": "@jupyter-widgets/controls",
            "layout": "IPY_MODEL_b22c1be456a14f9a9b8878e69be29248"
          }
        },
        "77211a95b1714b2b89a5bf991459c3d4": {
          "model_module": "@jupyter-widgets/controls",
          "model_name": "DescriptionStyleModel",
          "model_module_version": "1.5.0",
          "state": {
            "_view_name": "StyleView",
            "_model_name": "DescriptionStyleModel",
            "description_width": "",
            "_view_module": "@jupyter-widgets/base",
            "_model_module_version": "1.5.0",
            "_view_count": null,
            "_view_module_version": "1.2.0",
            "_model_module": "@jupyter-widgets/controls"
          }
        },
        "9b156e1923c64fbdbcebe1f70db44e6c": {
          "model_module": "@jupyter-widgets/base",
          "model_name": "LayoutModel",
          "model_module_version": "1.2.0",
          "state": {
            "_view_name": "LayoutView",
            "grid_template_rows": null,
            "right": null,
            "justify_content": null,
            "_view_module": "@jupyter-widgets/base",
            "overflow": null,
            "_model_module_version": "1.2.0",
            "_view_count": null,
            "flex_flow": null,
            "width": null,
            "min_width": null,
            "border": null,
            "align_items": null,
            "bottom": null,
            "_model_module": "@jupyter-widgets/base",
            "top": null,
            "grid_column": null,
            "overflow_y": null,
            "overflow_x": null,
            "grid_auto_flow": null,
            "grid_area": null,
            "grid_template_columns": null,
            "flex": null,
            "_model_name": "LayoutModel",
            "justify_items": null,
            "grid_row": null,
            "max_height": null,
            "align_content": null,
            "visibility": null,
            "align_self": null,
            "height": null,
            "min_height": null,
            "padding": null,
            "grid_auto_rows": null,
            "grid_gap": null,
            "max_width": null,
            "order": null,
            "_view_module_version": "1.2.0",
            "grid_template_areas": null,
            "object_position": null,
            "object_fit": null,
            "grid_auto_columns": null,
            "margin": null,
            "display": null,
            "left": null
          }
        },
        "ed2cf81bfc704864827ad2bad073badf": {
          "model_module": "@jupyter-widgets/controls",
          "model_name": "ProgressStyleModel",
          "model_module_version": "1.5.0",
          "state": {
            "_view_name": "StyleView",
            "_model_name": "ProgressStyleModel",
            "description_width": "",
            "_view_module": "@jupyter-widgets/base",
            "_model_module_version": "1.5.0",
            "_view_count": null,
            "_view_module_version": "1.2.0",
            "bar_color": null,
            "_model_module": "@jupyter-widgets/controls"
          }
        },
        "d3494da8e82b4879ac4a04d90703e7db": {
          "model_module": "@jupyter-widgets/base",
          "model_name": "LayoutModel",
          "model_module_version": "1.2.0",
          "state": {
            "_view_name": "LayoutView",
            "grid_template_rows": null,
            "right": null,
            "justify_content": null,
            "_view_module": "@jupyter-widgets/base",
            "overflow": null,
            "_model_module_version": "1.2.0",
            "_view_count": null,
            "flex_flow": null,
            "width": null,
            "min_width": null,
            "border": null,
            "align_items": null,
            "bottom": null,
            "_model_module": "@jupyter-widgets/base",
            "top": null,
            "grid_column": null,
            "overflow_y": null,
            "overflow_x": null,
            "grid_auto_flow": null,
            "grid_area": null,
            "grid_template_columns": null,
            "flex": null,
            "_model_name": "LayoutModel",
            "justify_items": null,
            "grid_row": null,
            "max_height": null,
            "align_content": null,
            "visibility": null,
            "align_self": null,
            "height": null,
            "min_height": null,
            "padding": null,
            "grid_auto_rows": null,
            "grid_gap": null,
            "max_width": null,
            "order": null,
            "_view_module_version": "1.2.0",
            "grid_template_areas": null,
            "object_position": null,
            "object_fit": null,
            "grid_auto_columns": null,
            "margin": null,
            "display": null,
            "left": null
          }
        },
        "2ea478b66ff348909e7a3fac18fe976f": {
          "model_module": "@jupyter-widgets/controls",
          "model_name": "DescriptionStyleModel",
          "model_module_version": "1.5.0",
          "state": {
            "_view_name": "StyleView",
            "_model_name": "DescriptionStyleModel",
            "description_width": "",
            "_view_module": "@jupyter-widgets/base",
            "_model_module_version": "1.5.0",
            "_view_count": null,
            "_view_module_version": "1.2.0",
            "_model_module": "@jupyter-widgets/controls"
          }
        },
        "b22c1be456a14f9a9b8878e69be29248": {
          "model_module": "@jupyter-widgets/base",
          "model_name": "LayoutModel",
          "model_module_version": "1.2.0",
          "state": {
            "_view_name": "LayoutView",
            "grid_template_rows": null,
            "right": null,
            "justify_content": null,
            "_view_module": "@jupyter-widgets/base",
            "overflow": null,
            "_model_module_version": "1.2.0",
            "_view_count": null,
            "flex_flow": null,
            "width": null,
            "min_width": null,
            "border": null,
            "align_items": null,
            "bottom": null,
            "_model_module": "@jupyter-widgets/base",
            "top": null,
            "grid_column": null,
            "overflow_y": null,
            "overflow_x": null,
            "grid_auto_flow": null,
            "grid_area": null,
            "grid_template_columns": null,
            "flex": null,
            "_model_name": "LayoutModel",
            "justify_items": null,
            "grid_row": null,
            "max_height": null,
            "align_content": null,
            "visibility": null,
            "align_self": null,
            "height": null,
            "min_height": null,
            "padding": null,
            "grid_auto_rows": null,
            "grid_gap": null,
            "max_width": null,
            "order": null,
            "_view_module_version": "1.2.0",
            "grid_template_areas": null,
            "object_position": null,
            "object_fit": null,
            "grid_auto_columns": null,
            "margin": null,
            "display": null,
            "left": null
          }
        },
        "9d4cbcc70d3e4574a3762141f7aae800": {
          "model_module": "@jupyter-widgets/controls",
          "model_name": "HBoxModel",
          "model_module_version": "1.5.0",
          "state": {
            "_view_name": "HBoxView",
            "_dom_classes": [],
            "_model_name": "HBoxModel",
            "_view_module": "@jupyter-widgets/controls",
            "_model_module_version": "1.5.0",
            "_view_count": null,
            "_view_module_version": "1.5.0",
            "box_style": "",
            "layout": "IPY_MODEL_756da2e4b47e4e66935ca9f50d2b8280",
            "_model_module": "@jupyter-widgets/controls",
            "children": [
              "IPY_MODEL_44e3ab19f3c04c73bebad9612ebe44ca",
              "IPY_MODEL_0995abe5ce944a80a73ad291ead62cef",
              "IPY_MODEL_e2f68718d94340e687cae3419871c811"
            ]
          }
        },
        "756da2e4b47e4e66935ca9f50d2b8280": {
          "model_module": "@jupyter-widgets/base",
          "model_name": "LayoutModel",
          "model_module_version": "1.2.0",
          "state": {
            "_view_name": "LayoutView",
            "grid_template_rows": null,
            "right": null,
            "justify_content": null,
            "_view_module": "@jupyter-widgets/base",
            "overflow": null,
            "_model_module_version": "1.2.0",
            "_view_count": null,
            "flex_flow": null,
            "width": null,
            "min_width": null,
            "border": null,
            "align_items": null,
            "bottom": null,
            "_model_module": "@jupyter-widgets/base",
            "top": null,
            "grid_column": null,
            "overflow_y": null,
            "overflow_x": null,
            "grid_auto_flow": null,
            "grid_area": null,
            "grid_template_columns": null,
            "flex": null,
            "_model_name": "LayoutModel",
            "justify_items": null,
            "grid_row": null,
            "max_height": null,
            "align_content": null,
            "visibility": null,
            "align_self": null,
            "height": null,
            "min_height": null,
            "padding": null,
            "grid_auto_rows": null,
            "grid_gap": null,
            "max_width": null,
            "order": null,
            "_view_module_version": "1.2.0",
            "grid_template_areas": null,
            "object_position": null,
            "object_fit": null,
            "grid_auto_columns": null,
            "margin": null,
            "display": null,
            "left": null
          }
        },
        "44e3ab19f3c04c73bebad9612ebe44ca": {
          "model_module": "@jupyter-widgets/controls",
          "model_name": "HTMLModel",
          "model_module_version": "1.5.0",
          "state": {
            "_view_name": "HTMLView",
            "style": "IPY_MODEL_69ab3253db01449e8eb79c8243b75da2",
            "_dom_classes": [],
            "description": "",
            "_model_name": "HTMLModel",
            "placeholder": "​",
            "_view_module": "@jupyter-widgets/controls",
            "_model_module_version": "1.5.0",
            "value": "Downloading: 100%",
            "_view_count": null,
            "_view_module_version": "1.5.0",
            "description_tooltip": null,
            "_model_module": "@jupyter-widgets/controls",
            "layout": "IPY_MODEL_3086ce3800f44e1c91a23d35fa8f0598"
          }
        },
        "0995abe5ce944a80a73ad291ead62cef": {
          "model_module": "@jupyter-widgets/controls",
          "model_name": "FloatProgressModel",
          "model_module_version": "1.5.0",
          "state": {
            "_view_name": "ProgressView",
            "style": "IPY_MODEL_9366cba079244059943afd67d2376039",
            "_dom_classes": [],
            "description": "",
            "_model_name": "FloatProgressModel",
            "bar_style": "success",
            "max": 647,
            "_view_module": "@jupyter-widgets/controls",
            "_model_module_version": "1.5.0",
            "value": 647,
            "_view_count": null,
            "_view_module_version": "1.5.0",
            "orientation": "horizontal",
            "min": 0,
            "description_tooltip": null,
            "_model_module": "@jupyter-widgets/controls",
            "layout": "IPY_MODEL_e773b015886e4c78a55b4179605fcde7"
          }
        },
        "e2f68718d94340e687cae3419871c811": {
          "model_module": "@jupyter-widgets/controls",
          "model_name": "HTMLModel",
          "model_module_version": "1.5.0",
          "state": {
            "_view_name": "HTMLView",
            "style": "IPY_MODEL_a12e2e2e28ab400f8921a4c299613491",
            "_dom_classes": [],
            "description": "",
            "_model_name": "HTMLModel",
            "placeholder": "​",
            "_view_module": "@jupyter-widgets/controls",
            "_model_module_version": "1.5.0",
            "value": " 647/647 [00:00&lt;00:00, 17.4kB/s]",
            "_view_count": null,
            "_view_module_version": "1.5.0",
            "description_tooltip": null,
            "_model_module": "@jupyter-widgets/controls",
            "layout": "IPY_MODEL_40c0b1197965460690077b8a5ab09239"
          }
        },
        "69ab3253db01449e8eb79c8243b75da2": {
          "model_module": "@jupyter-widgets/controls",
          "model_name": "DescriptionStyleModel",
          "model_module_version": "1.5.0",
          "state": {
            "_view_name": "StyleView",
            "_model_name": "DescriptionStyleModel",
            "description_width": "",
            "_view_module": "@jupyter-widgets/base",
            "_model_module_version": "1.5.0",
            "_view_count": null,
            "_view_module_version": "1.2.0",
            "_model_module": "@jupyter-widgets/controls"
          }
        },
        "3086ce3800f44e1c91a23d35fa8f0598": {
          "model_module": "@jupyter-widgets/base",
          "model_name": "LayoutModel",
          "model_module_version": "1.2.0",
          "state": {
            "_view_name": "LayoutView",
            "grid_template_rows": null,
            "right": null,
            "justify_content": null,
            "_view_module": "@jupyter-widgets/base",
            "overflow": null,
            "_model_module_version": "1.2.0",
            "_view_count": null,
            "flex_flow": null,
            "width": null,
            "min_width": null,
            "border": null,
            "align_items": null,
            "bottom": null,
            "_model_module": "@jupyter-widgets/base",
            "top": null,
            "grid_column": null,
            "overflow_y": null,
            "overflow_x": null,
            "grid_auto_flow": null,
            "grid_area": null,
            "grid_template_columns": null,
            "flex": null,
            "_model_name": "LayoutModel",
            "justify_items": null,
            "grid_row": null,
            "max_height": null,
            "align_content": null,
            "visibility": null,
            "align_self": null,
            "height": null,
            "min_height": null,
            "padding": null,
            "grid_auto_rows": null,
            "grid_gap": null,
            "max_width": null,
            "order": null,
            "_view_module_version": "1.2.0",
            "grid_template_areas": null,
            "object_position": null,
            "object_fit": null,
            "grid_auto_columns": null,
            "margin": null,
            "display": null,
            "left": null
          }
        },
        "9366cba079244059943afd67d2376039": {
          "model_module": "@jupyter-widgets/controls",
          "model_name": "ProgressStyleModel",
          "model_module_version": "1.5.0",
          "state": {
            "_view_name": "StyleView",
            "_model_name": "ProgressStyleModel",
            "description_width": "",
            "_view_module": "@jupyter-widgets/base",
            "_model_module_version": "1.5.0",
            "_view_count": null,
            "_view_module_version": "1.2.0",
            "bar_color": null,
            "_model_module": "@jupyter-widgets/controls"
          }
        },
        "e773b015886e4c78a55b4179605fcde7": {
          "model_module": "@jupyter-widgets/base",
          "model_name": "LayoutModel",
          "model_module_version": "1.2.0",
          "state": {
            "_view_name": "LayoutView",
            "grid_template_rows": null,
            "right": null,
            "justify_content": null,
            "_view_module": "@jupyter-widgets/base",
            "overflow": null,
            "_model_module_version": "1.2.0",
            "_view_count": null,
            "flex_flow": null,
            "width": null,
            "min_width": null,
            "border": null,
            "align_items": null,
            "bottom": null,
            "_model_module": "@jupyter-widgets/base",
            "top": null,
            "grid_column": null,
            "overflow_y": null,
            "overflow_x": null,
            "grid_auto_flow": null,
            "grid_area": null,
            "grid_template_columns": null,
            "flex": null,
            "_model_name": "LayoutModel",
            "justify_items": null,
            "grid_row": null,
            "max_height": null,
            "align_content": null,
            "visibility": null,
            "align_self": null,
            "height": null,
            "min_height": null,
            "padding": null,
            "grid_auto_rows": null,
            "grid_gap": null,
            "max_width": null,
            "order": null,
            "_view_module_version": "1.2.0",
            "grid_template_areas": null,
            "object_position": null,
            "object_fit": null,
            "grid_auto_columns": null,
            "margin": null,
            "display": null,
            "left": null
          }
        },
        "a12e2e2e28ab400f8921a4c299613491": {
          "model_module": "@jupyter-widgets/controls",
          "model_name": "DescriptionStyleModel",
          "model_module_version": "1.5.0",
          "state": {
            "_view_name": "StyleView",
            "_model_name": "DescriptionStyleModel",
            "description_width": "",
            "_view_module": "@jupyter-widgets/base",
            "_model_module_version": "1.5.0",
            "_view_count": null,
            "_view_module_version": "1.2.0",
            "_model_module": "@jupyter-widgets/controls"
          }
        },
        "40c0b1197965460690077b8a5ab09239": {
          "model_module": "@jupyter-widgets/base",
          "model_name": "LayoutModel",
          "model_module_version": "1.2.0",
          "state": {
            "_view_name": "LayoutView",
            "grid_template_rows": null,
            "right": null,
            "justify_content": null,
            "_view_module": "@jupyter-widgets/base",
            "overflow": null,
            "_model_module_version": "1.2.0",
            "_view_count": null,
            "flex_flow": null,
            "width": null,
            "min_width": null,
            "border": null,
            "align_items": null,
            "bottom": null,
            "_model_module": "@jupyter-widgets/base",
            "top": null,
            "grid_column": null,
            "overflow_y": null,
            "overflow_x": null,
            "grid_auto_flow": null,
            "grid_area": null,
            "grid_template_columns": null,
            "flex": null,
            "_model_name": "LayoutModel",
            "justify_items": null,
            "grid_row": null,
            "max_height": null,
            "align_content": null,
            "visibility": null,
            "align_self": null,
            "height": null,
            "min_height": null,
            "padding": null,
            "grid_auto_rows": null,
            "grid_gap": null,
            "max_width": null,
            "order": null,
            "_view_module_version": "1.2.0",
            "grid_template_areas": null,
            "object_position": null,
            "object_fit": null,
            "grid_auto_columns": null,
            "margin": null,
            "display": null,
            "left": null
          }
        },
        "2f23b9bdec174e59b48d935f4469cfbd": {
          "model_module": "@jupyter-widgets/controls",
          "model_name": "HBoxModel",
          "model_module_version": "1.5.0",
          "state": {
            "_view_name": "HBoxView",
            "_dom_classes": [],
            "_model_name": "HBoxModel",
            "_view_module": "@jupyter-widgets/controls",
            "_model_module_version": "1.5.0",
            "_view_count": null,
            "_view_module_version": "1.5.0",
            "box_style": "",
            "layout": "IPY_MODEL_95b3704e61744f628337515ea60c69af",
            "_model_module": "@jupyter-widgets/controls",
            "children": [
              "IPY_MODEL_a513e992904747f5a5a55328fe0d3a4f",
              "IPY_MODEL_50d380f5bde44036a19da2bd6eb89561",
              "IPY_MODEL_51057abcdd3f48d2b5ef8ca53c077657"
            ]
          }
        },
        "95b3704e61744f628337515ea60c69af": {
          "model_module": "@jupyter-widgets/base",
          "model_name": "LayoutModel",
          "model_module_version": "1.2.0",
          "state": {
            "_view_name": "LayoutView",
            "grid_template_rows": null,
            "right": null,
            "justify_content": null,
            "_view_module": "@jupyter-widgets/base",
            "overflow": null,
            "_model_module_version": "1.2.0",
            "_view_count": null,
            "flex_flow": null,
            "width": null,
            "min_width": null,
            "border": null,
            "align_items": null,
            "bottom": null,
            "_model_module": "@jupyter-widgets/base",
            "top": null,
            "grid_column": null,
            "overflow_y": null,
            "overflow_x": null,
            "grid_auto_flow": null,
            "grid_area": null,
            "grid_template_columns": null,
            "flex": null,
            "_model_name": "LayoutModel",
            "justify_items": null,
            "grid_row": null,
            "max_height": null,
            "align_content": null,
            "visibility": null,
            "align_self": null,
            "height": null,
            "min_height": null,
            "padding": null,
            "grid_auto_rows": null,
            "grid_gap": null,
            "max_width": null,
            "order": null,
            "_view_module_version": "1.2.0",
            "grid_template_areas": null,
            "object_position": null,
            "object_fit": null,
            "grid_auto_columns": null,
            "margin": null,
            "display": null,
            "left": null
          }
        },
        "a513e992904747f5a5a55328fe0d3a4f": {
          "model_module": "@jupyter-widgets/controls",
          "model_name": "HTMLModel",
          "model_module_version": "1.5.0",
          "state": {
            "_view_name": "HTMLView",
            "style": "IPY_MODEL_b2cfa696219d4297adde59759cdbd061",
            "_dom_classes": [],
            "description": "",
            "_model_name": "HTMLModel",
            "placeholder": "​",
            "_view_module": "@jupyter-widgets/controls",
            "_model_module_version": "1.5.0",
            "value": "Downloading: 100%",
            "_view_count": null,
            "_view_module_version": "1.5.0",
            "description_tooltip": null,
            "_model_module": "@jupyter-widgets/controls",
            "layout": "IPY_MODEL_142d441cec404ef7b17f6b4fec1bd38a"
          }
        },
        "50d380f5bde44036a19da2bd6eb89561": {
          "model_module": "@jupyter-widgets/controls",
          "model_name": "FloatProgressModel",
          "model_module_version": "1.5.0",
          "state": {
            "_view_name": "ProgressView",
            "style": "IPY_MODEL_2616bcad961c435a8d760b9b6450fc28",
            "_dom_classes": [],
            "description": "",
            "_model_name": "FloatProgressModel",
            "bar_style": "success",
            "max": 438235074,
            "_view_module": "@jupyter-widgets/controls",
            "_model_module_version": "1.5.0",
            "value": 438235074,
            "_view_count": null,
            "_view_module_version": "1.5.0",
            "orientation": "horizontal",
            "min": 0,
            "description_tooltip": null,
            "_model_module": "@jupyter-widgets/controls",
            "layout": "IPY_MODEL_f2f943abcb5e4968ae2722fc1ccac81b"
          }
        },
        "51057abcdd3f48d2b5ef8ca53c077657": {
          "model_module": "@jupyter-widgets/controls",
          "model_name": "HTMLModel",
          "model_module_version": "1.5.0",
          "state": {
            "_view_name": "HTMLView",
            "style": "IPY_MODEL_22f95a52460745afa1eea5c417b9f6a7",
            "_dom_classes": [],
            "description": "",
            "_model_name": "HTMLModel",
            "placeholder": "​",
            "_view_module": "@jupyter-widgets/controls",
            "_model_module_version": "1.5.0",
            "value": " 438M/438M [00:28&lt;00:00, 25.3MB/s]",
            "_view_count": null,
            "_view_module_version": "1.5.0",
            "description_tooltip": null,
            "_model_module": "@jupyter-widgets/controls",
            "layout": "IPY_MODEL_11c303ede59549038957fdc27ae0992a"
          }
        },
        "b2cfa696219d4297adde59759cdbd061": {
          "model_module": "@jupyter-widgets/controls",
          "model_name": "DescriptionStyleModel",
          "model_module_version": "1.5.0",
          "state": {
            "_view_name": "StyleView",
            "_model_name": "DescriptionStyleModel",
            "description_width": "",
            "_view_module": "@jupyter-widgets/base",
            "_model_module_version": "1.5.0",
            "_view_count": null,
            "_view_module_version": "1.2.0",
            "_model_module": "@jupyter-widgets/controls"
          }
        },
        "142d441cec404ef7b17f6b4fec1bd38a": {
          "model_module": "@jupyter-widgets/base",
          "model_name": "LayoutModel",
          "model_module_version": "1.2.0",
          "state": {
            "_view_name": "LayoutView",
            "grid_template_rows": null,
            "right": null,
            "justify_content": null,
            "_view_module": "@jupyter-widgets/base",
            "overflow": null,
            "_model_module_version": "1.2.0",
            "_view_count": null,
            "flex_flow": null,
            "width": null,
            "min_width": null,
            "border": null,
            "align_items": null,
            "bottom": null,
            "_model_module": "@jupyter-widgets/base",
            "top": null,
            "grid_column": null,
            "overflow_y": null,
            "overflow_x": null,
            "grid_auto_flow": null,
            "grid_area": null,
            "grid_template_columns": null,
            "flex": null,
            "_model_name": "LayoutModel",
            "justify_items": null,
            "grid_row": null,
            "max_height": null,
            "align_content": null,
            "visibility": null,
            "align_self": null,
            "height": null,
            "min_height": null,
            "padding": null,
            "grid_auto_rows": null,
            "grid_gap": null,
            "max_width": null,
            "order": null,
            "_view_module_version": "1.2.0",
            "grid_template_areas": null,
            "object_position": null,
            "object_fit": null,
            "grid_auto_columns": null,
            "margin": null,
            "display": null,
            "left": null
          }
        },
        "2616bcad961c435a8d760b9b6450fc28": {
          "model_module": "@jupyter-widgets/controls",
          "model_name": "ProgressStyleModel",
          "model_module_version": "1.5.0",
          "state": {
            "_view_name": "StyleView",
            "_model_name": "ProgressStyleModel",
            "description_width": "",
            "_view_module": "@jupyter-widgets/base",
            "_model_module_version": "1.5.0",
            "_view_count": null,
            "_view_module_version": "1.2.0",
            "bar_color": null,
            "_model_module": "@jupyter-widgets/controls"
          }
        },
        "f2f943abcb5e4968ae2722fc1ccac81b": {
          "model_module": "@jupyter-widgets/base",
          "model_name": "LayoutModel",
          "model_module_version": "1.2.0",
          "state": {
            "_view_name": "LayoutView",
            "grid_template_rows": null,
            "right": null,
            "justify_content": null,
            "_view_module": "@jupyter-widgets/base",
            "overflow": null,
            "_model_module_version": "1.2.0",
            "_view_count": null,
            "flex_flow": null,
            "width": null,
            "min_width": null,
            "border": null,
            "align_items": null,
            "bottom": null,
            "_model_module": "@jupyter-widgets/base",
            "top": null,
            "grid_column": null,
            "overflow_y": null,
            "overflow_x": null,
            "grid_auto_flow": null,
            "grid_area": null,
            "grid_template_columns": null,
            "flex": null,
            "_model_name": "LayoutModel",
            "justify_items": null,
            "grid_row": null,
            "max_height": null,
            "align_content": null,
            "visibility": null,
            "align_self": null,
            "height": null,
            "min_height": null,
            "padding": null,
            "grid_auto_rows": null,
            "grid_gap": null,
            "max_width": null,
            "order": null,
            "_view_module_version": "1.2.0",
            "grid_template_areas": null,
            "object_position": null,
            "object_fit": null,
            "grid_auto_columns": null,
            "margin": null,
            "display": null,
            "left": null
          }
        },
        "22f95a52460745afa1eea5c417b9f6a7": {
          "model_module": "@jupyter-widgets/controls",
          "model_name": "DescriptionStyleModel",
          "model_module_version": "1.5.0",
          "state": {
            "_view_name": "StyleView",
            "_model_name": "DescriptionStyleModel",
            "description_width": "",
            "_view_module": "@jupyter-widgets/base",
            "_model_module_version": "1.5.0",
            "_view_count": null,
            "_view_module_version": "1.2.0",
            "_model_module": "@jupyter-widgets/controls"
          }
        },
        "11c303ede59549038957fdc27ae0992a": {
          "model_module": "@jupyter-widgets/base",
          "model_name": "LayoutModel",
          "model_module_version": "1.2.0",
          "state": {
            "_view_name": "LayoutView",
            "grid_template_rows": null,
            "right": null,
            "justify_content": null,
            "_view_module": "@jupyter-widgets/base",
            "overflow": null,
            "_model_module_version": "1.2.0",
            "_view_count": null,
            "flex_flow": null,
            "width": null,
            "min_width": null,
            "border": null,
            "align_items": null,
            "bottom": null,
            "_model_module": "@jupyter-widgets/base",
            "top": null,
            "grid_column": null,
            "overflow_y": null,
            "overflow_x": null,
            "grid_auto_flow": null,
            "grid_area": null,
            "grid_template_columns": null,
            "flex": null,
            "_model_name": "LayoutModel",
            "justify_items": null,
            "grid_row": null,
            "max_height": null,
            "align_content": null,
            "visibility": null,
            "align_self": null,
            "height": null,
            "min_height": null,
            "padding": null,
            "grid_auto_rows": null,
            "grid_gap": null,
            "max_width": null,
            "order": null,
            "_view_module_version": "1.2.0",
            "grid_template_areas": null,
            "object_position": null,
            "object_fit": null,
            "grid_auto_columns": null,
            "margin": null,
            "display": null,
            "left": null
          }
        }
      }
    }
  },
  "cells": [
    {
      "cell_type": "markdown",
      "metadata": {
        "id": "view-in-github",
        "colab_type": "text"
      },
      "source": [
        "<a href=\"https://colab.research.google.com/github/fabiobif/SentPt/blob/main/SentPt.ipynb\" target=\"_parent\"><img src=\"https://colab.research.google.com/assets/colab-badge.svg\" alt=\"Open In Colab\"/></a>"
      ]
    },
    {
      "cell_type": "markdown",
      "metadata": {
        "id": "PGnlRWvkY-2c"
      },
      "source": [
        "# Sentiment Analysis with BERT for PT data"
      ]
    },
    {
      "cell_type": "code",
      "metadata": {
        "id": "NJ6MhJYYBCwu",
        "colab": {
          "base_uri": "https://localhost:8080/"
        },
        "outputId": "85664b0d-7996-457a-f61b-a72796ba44de"
      },
      "source": [
        "!nvidia-smi"
      ],
      "execution_count": null,
      "outputs": [
        {
          "output_type": "stream",
          "name": "stdout",
          "text": [
            "Mon Dec 13 11:41:09 2021       \n",
            "+-----------------------------------------------------------------------------+\n",
            "| NVIDIA-SMI 495.44       Driver Version: 460.32.03    CUDA Version: 11.2     |\n",
            "|-------------------------------+----------------------+----------------------+\n",
            "| GPU  Name        Persistence-M| Bus-Id        Disp.A | Volatile Uncorr. ECC |\n",
            "| Fan  Temp  Perf  Pwr:Usage/Cap|         Memory-Usage | GPU-Util  Compute M. |\n",
            "|                               |                      |               MIG M. |\n",
            "|===============================+======================+======================|\n",
            "|   0  Tesla P100-PCIE...  Off  | 00000000:00:04.0 Off |                    0 |\n",
            "| N/A   37C    P0    26W / 250W |      0MiB / 16280MiB |      0%      Default |\n",
            "|                               |                      |                  N/A |\n",
            "+-------------------------------+----------------------+----------------------+\n",
            "                                                                               \n",
            "+-----------------------------------------------------------------------------+\n",
            "| Processes:                                                                  |\n",
            "|  GPU   GI   CI        PID   Type   Process name                  GPU Memory |\n",
            "|        ID   ID                                                   Usage      |\n",
            "|=============================================================================|\n",
            "|  No running processes found                                                 |\n",
            "+-----------------------------------------------------------------------------+\n"
          ]
        }
      ]
    },
    {
      "cell_type": "code",
      "metadata": {
        "id": "-eKrwvwEkmHQ",
        "colab": {
          "base_uri": "https://localhost:8080/"
        },
        "outputId": "fa18788f-cfc5-4848-bfde-756173f2525a"
      },
      "source": [
        "gpu_info = !nvidia-smi\n",
        "gpu_info = '\\n'.join(gpu_info)\n",
        "if gpu_info.find('failed') >= 0:\n",
        "  print('Not connected to a GPU')\n",
        "else:\n",
        "  print(gpu_info)"
      ],
      "execution_count": null,
      "outputs": [
        {
          "output_type": "stream",
          "name": "stdout",
          "text": [
            "Mon Dec 13 11:41:32 2021       \n",
            "+-----------------------------------------------------------------------------+\n",
            "| NVIDIA-SMI 495.44       Driver Version: 460.32.03    CUDA Version: 11.2     |\n",
            "|-------------------------------+----------------------+----------------------+\n",
            "| GPU  Name        Persistence-M| Bus-Id        Disp.A | Volatile Uncorr. ECC |\n",
            "| Fan  Temp  Perf  Pwr:Usage/Cap|         Memory-Usage | GPU-Util  Compute M. |\n",
            "|                               |                      |               MIG M. |\n",
            "|===============================+======================+======================|\n",
            "|   0  Tesla P100-PCIE...  Off  | 00000000:00:04.0 Off |                    0 |\n",
            "| N/A   38C    P0    26W / 250W |      0MiB / 16280MiB |      0%      Default |\n",
            "|                               |                      |                  N/A |\n",
            "+-------------------------------+----------------------+----------------------+\n",
            "                                                                               \n",
            "+-----------------------------------------------------------------------------+\n",
            "| Processes:                                                                  |\n",
            "|  GPU   GI   CI        PID   Type   Process name                  GPU Memory |\n",
            "|        ID   ID                                                   Usage      |\n",
            "|=============================================================================|\n",
            "|  No running processes found                                                 |\n",
            "+-----------------------------------------------------------------------------+\n"
          ]
        }
      ]
    },
    {
      "cell_type": "code",
      "metadata": {
        "id": "F86WD8eClQbH",
        "colab": {
          "base_uri": "https://localhost:8080/"
        },
        "outputId": "d0f7ff82-f76b-4a80-bb20-5df63a40c076"
      },
      "source": [
        "from psutil import virtual_memory\n",
        "ram_gb = virtual_memory().total / 1e9\n",
        "print('Your runtime has {:.1f} gigabytes of available RAM\\n'.format(ram_gb))\n",
        "\n",
        "if ram_gb < 20:\n",
        "  print('Not using a high-RAM runtime')\n",
        "else:\n",
        "  print('You are using a high-RAM runtime!')"
      ],
      "execution_count": null,
      "outputs": [
        {
          "output_type": "stream",
          "name": "stdout",
          "text": [
            "Your runtime has 27.3 gigabytes of available RAM\n",
            "\n",
            "You are using a high-RAM runtime!\n"
          ]
        }
      ]
    },
    {
      "cell_type": "markdown",
      "metadata": {
        "id": "wmj22-TcZMef"
      },
      "source": [
        "## Setup\n",
        "\n",
        "We'll need [the Transformers library](https://huggingface.co/transformers/) by Hugging Face:"
      ]
    },
    {
      "cell_type": "code",
      "metadata": {
        "id": "Kj_7Tz0-pK69",
        "colab": {
          "base_uri": "https://localhost:8080/"
        },
        "outputId": "65fed8e7-cc2f-4714-df70-8dbe73b7f8f0"
      },
      "source": [
        "!pip install watermark"
      ],
      "execution_count": null,
      "outputs": [
        {
          "output_type": "stream",
          "name": "stdout",
          "text": [
            "Collecting watermark\n",
            "  Downloading watermark-2.2.0-py2.py3-none-any.whl (6.8 kB)\n",
            "Collecting importlib-metadata<3.0\n",
            "  Downloading importlib_metadata-2.1.2-py2.py3-none-any.whl (10 kB)\n",
            "Requirement already satisfied: ipython in /usr/local/lib/python3.7/dist-packages (from watermark) (5.5.0)\n",
            "Requirement already satisfied: zipp>=0.5 in /usr/local/lib/python3.7/dist-packages (from importlib-metadata<3.0->watermark) (3.6.0)\n",
            "Requirement already satisfied: pickleshare in /usr/local/lib/python3.7/dist-packages (from ipython->watermark) (0.7.5)\n",
            "Requirement already satisfied: setuptools>=18.5 in /usr/local/lib/python3.7/dist-packages (from ipython->watermark) (57.4.0)\n",
            "Requirement already satisfied: decorator in /usr/local/lib/python3.7/dist-packages (from ipython->watermark) (4.4.2)\n",
            "Requirement already satisfied: pexpect in /usr/local/lib/python3.7/dist-packages (from ipython->watermark) (4.8.0)\n",
            "Requirement already satisfied: simplegeneric>0.8 in /usr/local/lib/python3.7/dist-packages (from ipython->watermark) (0.8.1)\n",
            "Requirement already satisfied: traitlets>=4.2 in /usr/local/lib/python3.7/dist-packages (from ipython->watermark) (5.1.1)\n",
            "Requirement already satisfied: prompt-toolkit<2.0.0,>=1.0.4 in /usr/local/lib/python3.7/dist-packages (from ipython->watermark) (1.0.18)\n",
            "Requirement already satisfied: pygments in /usr/local/lib/python3.7/dist-packages (from ipython->watermark) (2.6.1)\n",
            "Requirement already satisfied: wcwidth in /usr/local/lib/python3.7/dist-packages (from prompt-toolkit<2.0.0,>=1.0.4->ipython->watermark) (0.2.5)\n",
            "Requirement already satisfied: six>=1.9.0 in /usr/local/lib/python3.7/dist-packages (from prompt-toolkit<2.0.0,>=1.0.4->ipython->watermark) (1.15.0)\n",
            "Requirement already satisfied: ptyprocess>=0.5 in /usr/local/lib/python3.7/dist-packages (from pexpect->ipython->watermark) (0.7.0)\n",
            "Installing collected packages: importlib-metadata, watermark\n",
            "  Attempting uninstall: importlib-metadata\n",
            "    Found existing installation: importlib-metadata 4.8.2\n",
            "    Uninstalling importlib-metadata-4.8.2:\n",
            "      Successfully uninstalled importlib-metadata-4.8.2\n",
            "\u001b[31mERROR: pip's dependency resolver does not currently take into account all the packages that are installed. This behaviour is the source of the following dependency conflicts.\n",
            "markdown 3.3.6 requires importlib-metadata>=4.4; python_version < \"3.10\", but you have importlib-metadata 2.1.2 which is incompatible.\u001b[0m\n",
            "Successfully installed importlib-metadata-2.1.2 watermark-2.2.0\n"
          ]
        }
      ]
    },
    {
      "cell_type": "code",
      "metadata": {
        "id": "eXcHgobpV2b1"
      },
      "source": [
        "#numpy 1.18.2\n",
        "#pandas 1.0.3\n",
        "#torch 1.4.0\n",
        "#transformers 2.8.0"
      ],
      "execution_count": null,
      "outputs": []
    },
    {
      "cell_type": "code",
      "metadata": {
        "id": "ji9aXqvUWGfc"
      },
      "source": [
        "#!pip install torch==1.4.0\n",
        "!pip install torch"
      ],
      "execution_count": null,
      "outputs": []
    },
    {
      "cell_type": "code",
      "metadata": {
        "id": "ynbv4ImWWK5V"
      },
      "source": [
        "#!pip install pandas==1.0.3\n",
        "!pip install pandas"
      ],
      "execution_count": null,
      "outputs": []
    },
    {
      "cell_type": "code",
      "metadata": {
        "id": "zgjH9KtfWQnk"
      },
      "source": [
        "#!pip install numpy==1.18.2\n",
        "!pip install numpy"
      ],
      "execution_count": null,
      "outputs": []
    },
    {
      "cell_type": "code",
      "metadata": {
        "id": "0jQrDOdZV7HD"
      },
      "source": [
        "#!pip install transformers==2.8.0\n",
        "!pip install transformers==2.8.0"
      ],
      "execution_count": null,
      "outputs": []
    },
    {
      "cell_type": "code",
      "metadata": {
        "id": "M-fAznEzVGbo",
        "colab": {
          "base_uri": "https://localhost:8080/"
        },
        "outputId": "5c739af4-985f-4628-c6bd-0a2d2dfccd8b"
      },
      "source": [
        "%reload_ext watermark\n",
        "%watermark -v -p numpy,pandas,torch,transformers"
      ],
      "execution_count": null,
      "outputs": [
        {
          "output_type": "stream",
          "name": "stdout",
          "text": [
            "Python implementation: CPython\n",
            "Python version       : 3.7.12\n",
            "IPython version      : 5.5.0\n",
            "\n",
            "numpy       : 1.19.5\n",
            "pandas      : 1.1.5\n",
            "torch       : 1.10.0+cu111\n",
            "transformers: 2.8.0\n",
            "\n"
          ]
        }
      ]
    },
    {
      "cell_type": "code",
      "metadata": {
        "id": "w68CZpOwFoly",
        "colab": {
          "base_uri": "https://localhost:8080/"
        },
        "outputId": "58ad1acb-e25a-4a55-ab9b-beb6d8e68ed4"
      },
      "source": [
        "#@title Setup & Config\n",
        "import transformers\n",
        "from transformers import BertModel, BertTokenizer, AdamW, get_linear_schedule_with_warmup\n",
        "import torch\n",
        "\n",
        "import numpy as np\n",
        "import pandas as pd\n",
        "import seaborn as sns\n",
        "from pylab import rcParams\n",
        "import matplotlib.pyplot as plt\n",
        "from matplotlib import rc\n",
        "from sklearn.model_selection import train_test_split\n",
        "from sklearn.metrics import confusion_matrix, classification_report\n",
        "from collections import defaultdict\n",
        "from textwrap import wrap\n",
        "\n",
        "from torch import nn, optim\n",
        "from torch.utils.data import Dataset, DataLoader\n",
        "import torch.nn.functional as F\n",
        "\n",
        "%matplotlib inline\n",
        "%config InlineBackend.figure_format='retina'\n",
        "\n",
        "sns.set(style='whitegrid', palette='muted', font_scale=1.2)\n",
        "\n",
        "HAPPY_COLORS_PALETTE = [\"#01BEFE\", \"#FFDD00\", \"#FF7D00\", \"#FF006D\", \"#ADFF02\", \"#8F00FF\"]\n",
        "\n",
        "sns.set_palette(sns.color_palette(HAPPY_COLORS_PALETTE))\n",
        "\n",
        "rcParams['figure.figsize'] = 12, 8\n",
        "\n",
        "RANDOM_SEED = 42\n",
        "np.random.seed(RANDOM_SEED)\n",
        "torch.manual_seed(RANDOM_SEED)\n",
        "\n",
        "device = torch.device(\"cuda:0\" if torch.cuda.is_available() else \"cpu\")\n",
        "device"
      ],
      "execution_count": null,
      "outputs": [
        {
          "output_type": "execute_result",
          "data": {
            "text/plain": [
              "device(type='cuda', index=0)"
            ]
          },
          "metadata": {},
          "execution_count": 10
        }
      ]
    },
    {
      "cell_type": "markdown",
      "metadata": {
        "id": "ufzPdoTtNikq"
      },
      "source": [
        "## Data Exploration\n"
      ]
    },
    {
      "cell_type": "code",
      "metadata": {
        "id": "V-155O-SFSqE"
      },
      "source": [
        "class_names = ['negative', 'neutral', 'positive']"
      ],
      "execution_count": null,
      "outputs": []
    },
    {
      "cell_type": "code",
      "metadata": {
        "id": "rAbVpPf5Dox5",
        "colab": {
          "base_uri": "https://localhost:8080/"
        },
        "outputId": "1c8a2e62-b633-41f3-a993-cb8483e757a8"
      },
      "source": [
        "from google.colab import drive\n",
        "drive.mount('/content/drive')"
      ],
      "execution_count": null,
      "outputs": [
        {
          "output_type": "stream",
          "name": "stdout",
          "text": [
            "Mounted at /content/drive\n"
          ]
        }
      ]
    },
    {
      "cell_type": "code",
      "metadata": {
        "id": "R1XmqVZRDlF0",
        "colab": {
          "base_uri": "https://localhost:8080/"
        },
        "outputId": "810d28a0-08a5-4037-8d09-e5b8c4511232"
      },
      "source": [
        "df = pd.read_csv('/content/drive/MyDrive/Colab_datasets/Sentiment-pt/sentiment_data_pt7.csv')\n",
        "df.info()"
      ],
      "execution_count": null,
      "outputs": [
        {
          "output_type": "stream",
          "name": "stdout",
          "text": [
            "<class 'pandas.core.frame.DataFrame'>\n",
            "RangeIndex: 191371 entries, 0 to 191370\n",
            "Data columns (total 3 columns):\n",
            " #   Column    Non-Null Count   Dtype  \n",
            "---  ------    --------------   -----  \n",
            " 0   Sentence  191370 non-null  object \n",
            " 1   V         191371 non-null  float64\n",
            " 2   Label     191371 non-null  float64\n",
            "dtypes: float64(2), object(1)\n",
            "memory usage: 4.4+ MB\n"
          ]
        }
      ]
    },
    {
      "cell_type": "markdown",
      "metadata": {
        "id": "tOssB4CKnAX2"
      },
      "source": [
        "The balance was (mostly) restored."
      ]
    },
    {
      "cell_type": "markdown",
      "metadata": {
        "id": "9aHyGuTFgyPO"
      },
      "source": [
        "## Data Preprocessing\n"
      ]
    },
    {
      "cell_type": "code",
      "metadata": {
        "id": "E7Mj-0ne--5t"
      },
      "source": [
        "PRE_TRAINED_MODEL_NAME = 'neuralmind/bert-base-portuguese-cased'"
      ],
      "execution_count": null,
      "outputs": []
    },
    {
      "cell_type": "code",
      "metadata": {
        "id": "H3AfJSZ8NNLF",
        "colab": {
          "base_uri": "https://localhost:8080/",
          "height": 145,
          "referenced_widgets": [
            "abb9501cc70045ec96baceea54a02176",
            "b78606af039b4a8ab73ec33a9a8ec67d",
            "751e8bab117e425c886682b7fb30ca7e",
            "bbd1afd73bc943c0a20a3652533d2048",
            "84723d3cf3074b23a91c95214e2646e9",
            "471725c8bceb4154a7e3c8a5e2fbc0e7",
            "c211e0e4851a41929a9be74750b95699",
            "a67cf650bfe44dab929155b73d792655",
            "50f4d3b593e8403fa818e5bece5767b9",
            "3487d1900d874a1c9b86f59f0083fc3d",
            "272274c2898b41b189333405a6128e8d",
            "be57dbaf36b6489393596dfc361737b8",
            "93335519978244eb8efa96fe29307497",
            "c33a6244a97b403e82209b765daf8132",
            "69fe5db3f3a64a45904f86741883b4e8",
            "3a5726e30cfe469885df47861958a0cb",
            "fbba0581a2c74cb794ebc2d8fb80e9e2",
            "23bc419761204f5c9d13d010a2e83c72",
            "a428d982179f40a596350ac13cc3c3d2",
            "e6a44cfdb46b4c5aa5dbeaa5e986857f",
            "2b9627e028284c5bba87ed7fff37d9c4",
            "2434e1f07b9646079b318c9ee0fc146d",
            "39b9a710da9c49bb8cece820ee1d8d70",
            "fbf93e77ecf24e5bade18984a8b674a8",
            "377cbc69683b4f02b73928e5c25a5370",
            "7d6453678cab4118a2297adfc82ea444",
            "de12b4021edd45f5a7a64c339efacdd3",
            "6d9c92e6cc3741ff9935c99b9b5d7f6d",
            "f3a5cfcd3f31467b9456c0478fd16908",
            "a3225ebf2ff641a68d5d5ec3817e09df",
            "129dfcc020b8409398e7be0e32fbf08b",
            "ca17958ad0584a5ea165f0dbece81f9b",
            "cf68eb73b69c47098844d7fc38be1fe4",
            "bf624d684e53460ea4cac908b6b26096",
            "fff45638212d4e628f8f3a547ea88483",
            "3f7769a48cf14e96b15b51dbd2fab2ba",
            "540efd1ce41344c095956b6567f77759",
            "f9ef1c8671db4a4fa563064db54c865b",
            "77211a95b1714b2b89a5bf991459c3d4",
            "9b156e1923c64fbdbcebe1f70db44e6c",
            "ed2cf81bfc704864827ad2bad073badf",
            "d3494da8e82b4879ac4a04d90703e7db",
            "2ea478b66ff348909e7a3fac18fe976f",
            "b22c1be456a14f9a9b8878e69be29248"
          ]
        },
        "outputId": "24a046ec-9205-4671-decb-b831d66fb3f0"
      },
      "source": [
        "tokenizer = BertTokenizer.from_pretrained(PRE_TRAINED_MODEL_NAME)"
      ],
      "execution_count": null,
      "outputs": [
        {
          "output_type": "display_data",
          "data": {
            "application/vnd.jupyter.widget-view+json": {
              "model_id": "abb9501cc70045ec96baceea54a02176",
              "version_minor": 0,
              "version_major": 2
            },
            "text/plain": [
              "Downloading:   0%|          | 0.00/210k [00:00<?, ?B/s]"
            ]
          },
          "metadata": {}
        },
        {
          "output_type": "display_data",
          "data": {
            "application/vnd.jupyter.widget-view+json": {
              "model_id": "be57dbaf36b6489393596dfc361737b8",
              "version_minor": 0,
              "version_major": 2
            },
            "text/plain": [
              "Downloading:   0%|          | 0.00/2.00 [00:00<?, ?B/s]"
            ]
          },
          "metadata": {}
        },
        {
          "output_type": "display_data",
          "data": {
            "application/vnd.jupyter.widget-view+json": {
              "model_id": "39b9a710da9c49bb8cece820ee1d8d70",
              "version_minor": 0,
              "version_major": 2
            },
            "text/plain": [
              "Downloading:   0%|          | 0.00/112 [00:00<?, ?B/s]"
            ]
          },
          "metadata": {}
        },
        {
          "output_type": "display_data",
          "data": {
            "application/vnd.jupyter.widget-view+json": {
              "model_id": "bf624d684e53460ea4cac908b6b26096",
              "version_minor": 0,
              "version_major": 2
            },
            "text/plain": [
              "Downloading:   0%|          | 0.00/43.0 [00:00<?, ?B/s]"
            ]
          },
          "metadata": {}
        }
      ]
    },
    {
      "cell_type": "markdown",
      "metadata": {
        "id": "W9ap7jdL0LYU"
      },
      "source": [
        "All of that work can be done using the [`encode_plus()`](https://huggingface.co/transformers/main_classes/tokenizer.html#transformers.PreTrainedTokenizer.encode_plus) method:"
      ]
    },
    {
      "cell_type": "code",
      "metadata": {
        "id": "QEPhyL4-f6Kv"
      },
      "source": [
        "sample_txt = 'Olá este é apenas um texte para.'"
      ],
      "execution_count": null,
      "outputs": []
    },
    {
      "cell_type": "code",
      "metadata": {
        "id": "AKuAOh5qgHnO",
        "colab": {
          "base_uri": "https://localhost:8080/"
        },
        "outputId": "601866f3-d539-445c-af45-73f74c899110"
      },
      "source": [
        "tokens = tokenizer.tokenize(sample_txt)\n",
        "token_ids = tokenizer.convert_tokens_to_ids(tokens)\n",
        "\n",
        "print(f' Sentence: {sample_txt}')\n",
        "print(f'   Tokens: {tokens}')\n",
        "print(f'Token IDs: {token_ids}')"
      ],
      "execution_count": null,
      "outputs": [
        {
          "output_type": "stream",
          "name": "stdout",
          "text": [
            " Sentence: Olá este é apenas um texte para.\n",
            "   Tokens: ['Ol', '##á', 'este', 'é', 'apenas', 'um', 'tex', '##te', 'para', '.']\n",
            "Token IDs: [1651, 22303, 860, 253, 820, 222, 4509, 185, 221, 119]\n"
          ]
        }
      ]
    },
    {
      "cell_type": "code",
      "metadata": {
        "id": "Vea9edaaxSPO",
        "colab": {
          "base_uri": "https://localhost:8080/"
        },
        "outputId": "2055bc71-d0b4-4776-ab79-2d3049e60f53"
      },
      "source": [
        "encoding = tokenizer.encode_plus(\n",
        "  sample_txt,\n",
        "  max_length=32,\n",
        "  add_special_tokens=True, # Add '[CLS]' and '[SEP]'\n",
        "  return_token_type_ids=False,\n",
        "  pad_to_max_length=True,\n",
        "  return_attention_mask=True,\n",
        "  return_tensors='pt',  # Return PyTorch tensors\n",
        ")\n",
        "\n",
        "encoding.keys()"
      ],
      "execution_count": null,
      "outputs": [
        {
          "output_type": "execute_result",
          "data": {
            "text/plain": [
              "dict_keys(['input_ids', 'attention_mask'])"
            ]
          },
          "metadata": {},
          "execution_count": 18
        }
      ]
    },
    {
      "cell_type": "code",
      "metadata": {
        "id": "XZ-1w7xgEzMF",
        "colab": {
          "base_uri": "https://localhost:8080/",
          "height": 424
        },
        "outputId": "c572ed45-4623-45bc-8169-623a9b885325"
      },
      "source": [
        "df"
      ],
      "execution_count": null,
      "outputs": [
        {
          "output_type": "execute_result",
          "data": {
            "text/html": [
              "<div>\n",
              "<style scoped>\n",
              "    .dataframe tbody tr th:only-of-type {\n",
              "        vertical-align: middle;\n",
              "    }\n",
              "\n",
              "    .dataframe tbody tr th {\n",
              "        vertical-align: top;\n",
              "    }\n",
              "\n",
              "    .dataframe thead th {\n",
              "        text-align: right;\n",
              "    }\n",
              "</style>\n",
              "<table border=\"1\" class=\"dataframe\">\n",
              "  <thead>\n",
              "    <tr style=\"text-align: right;\">\n",
              "      <th></th>\n",
              "      <th>Sentence</th>\n",
              "      <th>V</th>\n",
              "      <th>Label</th>\n",
              "    </tr>\n",
              "  </thead>\n",
              "  <tbody>\n",
              "    <tr>\n",
              "      <th>0</th>\n",
              "      <td>desfalecida</td>\n",
              "      <td>0.000</td>\n",
              "      <td>0.0</td>\n",
              "    </tr>\n",
              "    <tr>\n",
              "      <th>1</th>\n",
              "      <td>Se o cartel conseguir chantagear as autoridad...</td>\n",
              "      <td>0.510</td>\n",
              "      <td>1.0</td>\n",
              "    </tr>\n",
              "    <tr>\n",
              "      <th>2</th>\n",
              "      <td>Meu pai me levou para ver esse filme quando fo...</td>\n",
              "      <td>0.000</td>\n",
              "      <td>2.0</td>\n",
              "    </tr>\n",
              "    <tr>\n",
              "      <th>3</th>\n",
              "      <td>Um filme incomum para um público fora dos EUA....</td>\n",
              "      <td>0.000</td>\n",
              "      <td>2.0</td>\n",
              "    </tr>\n",
              "    <tr>\n",
              "      <th>4</th>\n",
              "      <td>não for levado a sério não ser levado a sério</td>\n",
              "      <td>0.000</td>\n",
              "      <td>0.0</td>\n",
              "    </tr>\n",
              "    <tr>\n",
              "      <th>...</th>\n",
              "      <td>...</td>\n",
              "      <td>...</td>\n",
              "      <td>...</td>\n",
              "    </tr>\n",
              "    <tr>\n",
              "      <th>191366</th>\n",
              "      <td>imitámo</td>\n",
              "      <td>0.500</td>\n",
              "      <td>1.0</td>\n",
              "    </tr>\n",
              "    <tr>\n",
              "      <th>191367</th>\n",
              "      <td>Não chore confie em mim</td>\n",
              "      <td>0.500</td>\n",
              "      <td>1.0</td>\n",
              "    </tr>\n",
              "    <tr>\n",
              "      <th>191368</th>\n",
              "      <td>ultrajámos</td>\n",
              "      <td>0.500</td>\n",
              "      <td>1.0</td>\n",
              "    </tr>\n",
              "    <tr>\n",
              "      <th>191369</th>\n",
              "      <td>passas desta para melhor passar desta para melhor</td>\n",
              "      <td>0.000</td>\n",
              "      <td>0.0</td>\n",
              "    </tr>\n",
              "    <tr>\n",
              "      <th>191370</th>\n",
              "      <td>imerso</td>\n",
              "      <td>0.555</td>\n",
              "      <td>1.0</td>\n",
              "    </tr>\n",
              "  </tbody>\n",
              "</table>\n",
              "<p>191371 rows × 3 columns</p>\n",
              "</div>"
            ],
            "text/plain": [
              "                                                 Sentence      V  Label\n",
              "0                                             desfalecida  0.000    0.0\n",
              "1        Se o cartel conseguir chantagear as autoridad...  0.510    1.0\n",
              "2       Meu pai me levou para ver esse filme quando fo...  0.000    2.0\n",
              "3       Um filme incomum para um público fora dos EUA....  0.000    2.0\n",
              "4           não for levado a sério não ser levado a sério  0.000    0.0\n",
              "...                                                   ...    ...    ...\n",
              "191366                                            imitámo  0.500    1.0\n",
              "191367                            Não chore confie em mim  0.500    1.0\n",
              "191368                                         ultrajámos  0.500    1.0\n",
              "191369  passas desta para melhor passar desta para melhor  0.000    0.0\n",
              "191370                                             imerso  0.555    1.0\n",
              "\n",
              "[191371 rows x 3 columns]"
            ]
          },
          "metadata": {},
          "execution_count": 19
        }
      ]
    },
    {
      "cell_type": "code",
      "metadata": {
        "id": "8GqLiJbJFQ_V",
        "colab": {
          "base_uri": "https://localhost:8080/"
        },
        "outputId": "35291b80-88b0-4196-874f-3503735659e8"
      },
      "source": [
        "check_for_nan = df.Sentence.isnull().values.any()\n",
        "print (check_for_nan)"
      ],
      "execution_count": null,
      "outputs": [
        {
          "output_type": "stream",
          "name": "stdout",
          "text": [
            "True\n"
          ]
        }
      ]
    },
    {
      "cell_type": "code",
      "metadata": {
        "id": "oNZjE7h3GInf"
      },
      "source": [
        "df = df.dropna(subset=[\"Sentence\"])"
      ],
      "execution_count": null,
      "outputs": []
    },
    {
      "cell_type": "code",
      "metadata": {
        "id": "JSWi1OgKGS4j",
        "colab": {
          "base_uri": "https://localhost:8080/",
          "height": 424
        },
        "outputId": "8e9aad79-cfd9-48b6-e0e2-59c04cd8d29a"
      },
      "source": [
        "df"
      ],
      "execution_count": null,
      "outputs": [
        {
          "output_type": "execute_result",
          "data": {
            "text/html": [
              "<div>\n",
              "<style scoped>\n",
              "    .dataframe tbody tr th:only-of-type {\n",
              "        vertical-align: middle;\n",
              "    }\n",
              "\n",
              "    .dataframe tbody tr th {\n",
              "        vertical-align: top;\n",
              "    }\n",
              "\n",
              "    .dataframe thead th {\n",
              "        text-align: right;\n",
              "    }\n",
              "</style>\n",
              "<table border=\"1\" class=\"dataframe\">\n",
              "  <thead>\n",
              "    <tr style=\"text-align: right;\">\n",
              "      <th></th>\n",
              "      <th>Sentence</th>\n",
              "      <th>V</th>\n",
              "      <th>Label</th>\n",
              "    </tr>\n",
              "  </thead>\n",
              "  <tbody>\n",
              "    <tr>\n",
              "      <th>0</th>\n",
              "      <td>desfalecida</td>\n",
              "      <td>0.000</td>\n",
              "      <td>0.0</td>\n",
              "    </tr>\n",
              "    <tr>\n",
              "      <th>1</th>\n",
              "      <td>Se o cartel conseguir chantagear as autoridad...</td>\n",
              "      <td>0.510</td>\n",
              "      <td>1.0</td>\n",
              "    </tr>\n",
              "    <tr>\n",
              "      <th>2</th>\n",
              "      <td>Meu pai me levou para ver esse filme quando fo...</td>\n",
              "      <td>0.000</td>\n",
              "      <td>2.0</td>\n",
              "    </tr>\n",
              "    <tr>\n",
              "      <th>3</th>\n",
              "      <td>Um filme incomum para um público fora dos EUA....</td>\n",
              "      <td>0.000</td>\n",
              "      <td>2.0</td>\n",
              "    </tr>\n",
              "    <tr>\n",
              "      <th>4</th>\n",
              "      <td>não for levado a sério não ser levado a sério</td>\n",
              "      <td>0.000</td>\n",
              "      <td>0.0</td>\n",
              "    </tr>\n",
              "    <tr>\n",
              "      <th>...</th>\n",
              "      <td>...</td>\n",
              "      <td>...</td>\n",
              "      <td>...</td>\n",
              "    </tr>\n",
              "    <tr>\n",
              "      <th>191366</th>\n",
              "      <td>imitámo</td>\n",
              "      <td>0.500</td>\n",
              "      <td>1.0</td>\n",
              "    </tr>\n",
              "    <tr>\n",
              "      <th>191367</th>\n",
              "      <td>Não chore confie em mim</td>\n",
              "      <td>0.500</td>\n",
              "      <td>1.0</td>\n",
              "    </tr>\n",
              "    <tr>\n",
              "      <th>191368</th>\n",
              "      <td>ultrajámos</td>\n",
              "      <td>0.500</td>\n",
              "      <td>1.0</td>\n",
              "    </tr>\n",
              "    <tr>\n",
              "      <th>191369</th>\n",
              "      <td>passas desta para melhor passar desta para melhor</td>\n",
              "      <td>0.000</td>\n",
              "      <td>0.0</td>\n",
              "    </tr>\n",
              "    <tr>\n",
              "      <th>191370</th>\n",
              "      <td>imerso</td>\n",
              "      <td>0.555</td>\n",
              "      <td>1.0</td>\n",
              "    </tr>\n",
              "  </tbody>\n",
              "</table>\n",
              "<p>191370 rows × 3 columns</p>\n",
              "</div>"
            ],
            "text/plain": [
              "                                                 Sentence      V  Label\n",
              "0                                             desfalecida  0.000    0.0\n",
              "1        Se o cartel conseguir chantagear as autoridad...  0.510    1.0\n",
              "2       Meu pai me levou para ver esse filme quando fo...  0.000    2.0\n",
              "3       Um filme incomum para um público fora dos EUA....  0.000    2.0\n",
              "4           não for levado a sério não ser levado a sério  0.000    0.0\n",
              "...                                                   ...    ...    ...\n",
              "191366                                            imitámo  0.500    1.0\n",
              "191367                            Não chore confie em mim  0.500    1.0\n",
              "191368                                         ultrajámos  0.500    1.0\n",
              "191369  passas desta para melhor passar desta para melhor  0.000    0.0\n",
              "191370                                             imerso  0.555    1.0\n",
              "\n",
              "[191370 rows x 3 columns]"
            ]
          },
          "metadata": {},
          "execution_count": 22
        }
      ]
    },
    {
      "cell_type": "code",
      "metadata": {
        "id": "BUnE5CT9hbeZ"
      },
      "source": [
        "token_lens = []\n",
        "\n",
        "for txt in df.Sentence:\n",
        "  tokens = tokenizer.encode(txt, max_length=512)\n",
        "  token_lens.append(len(tokens))"
      ],
      "execution_count": null,
      "outputs": []
    },
    {
      "cell_type": "markdown",
      "metadata": {
        "id": "tI4goUrHf6da"
      },
      "source": [
        "and plot the distribution:"
      ]
    },
    {
      "cell_type": "code",
      "metadata": {
        "id": "SzE1j4jxmUtd",
        "colab": {
          "base_uri": "https://localhost:8080/",
          "height": 563
        },
        "outputId": "e9df43f3-10ef-4e71-8bfc-9c4f0cb57f18"
      },
      "source": [
        "sns.distplot(token_lens)\n",
        "plt.xlim([0, 400]);\n",
        "plt.xlabel('Token count');"
      ],
      "execution_count": null,
      "outputs": [
        {
          "output_type": "stream",
          "name": "stderr",
          "text": [
            "/usr/local/lib/python3.7/dist-packages/seaborn/distributions.py:2619: FutureWarning: `distplot` is a deprecated function and will be removed in a future version. Please adapt your code to use either `displot` (a figure-level function with similar flexibility) or `histplot` (an axes-level function for histograms).\n",
            "  warnings.warn(msg, FutureWarning)\n"
          ]
        },
        {
          "output_type": "display_data",
          "data": {
            "image/png": "[encoded data removed]",
            "text/plain": [
              "<Figure size 864x576 with 1 Axes>"
            ]
          },
          "metadata": {
            "image/png": {
              "width": 753,
              "height": 489
            }
          }
        }
      ]
    },
    {
      "cell_type": "markdown",
      "metadata": {
        "id": "oW6ajl30t6du"
      },
      "source": [
        "Most of the reviews seem to contain less than 128 tokens, but we'll be on the safe side and choose a maximum length of 160."
      ]
    },
    {
      "cell_type": "code",
      "metadata": {
        "id": "t7xSmJtLuoxW"
      },
      "source": [
        "MAX_LEN = 300\n",
        "#MAX_LEN = 180"
      ],
      "execution_count": null,
      "outputs": []
    },
    {
      "cell_type": "markdown",
      "metadata": {
        "id": "XvvcoU6nurHy"
      },
      "source": [
        "We have all building blocks required to create a PyTorch dataset. Let's do it:"
      ]
    },
    {
      "cell_type": "code",
      "metadata": {
        "id": "E2BPgRJ7YBK0"
      },
      "source": [
        "class GPReviewDataset(Dataset):\n",
        "\n",
        "  def __init__(self, reviews, targets, tokenizer, max_len):\n",
        "    self.reviews = reviews\n",
        "    self.targets = targets\n",
        "    self.tokenizer = tokenizer\n",
        "    self.max_len = max_len\n",
        "  \n",
        "  def __len__(self):\n",
        "    return len(self.reviews)\n",
        "  \n",
        "  def __getitem__(self, item):\n",
        "    review = str(self.reviews[item])\n",
        "    target = self.targets[item]\n",
        "\n",
        "    encoding = self.tokenizer.encode_plus(\n",
        "      review,\n",
        "      add_special_tokens=True,\n",
        "      max_length=self.max_len,\n",
        "      return_token_type_ids=False,\n",
        "      pad_to_max_length=True,\n",
        "      return_attention_mask=True,\n",
        "      return_tensors='pt',\n",
        "    )\n",
        "\n",
        "    return {\n",
        "      'review_text': review,\n",
        "      'input_ids': encoding['input_ids'].flatten(),\n",
        "      'attention_mask': encoding['attention_mask'].flatten(),\n",
        "      'targets': torch.tensor(target, dtype=torch.long)\n",
        "    }"
      ],
      "execution_count": null,
      "outputs": []
    },
    {
      "cell_type": "markdown",
      "metadata": {
        "id": "x2uwsvCYqDJK"
      },
      "source": [
        "The tokenizer is doing most of the heavy lifting for us. We also return the review texts, so it'll be easier to evaluate the predictions from our model. Let's split the data:"
      ]
    },
    {
      "cell_type": "code",
      "metadata": {
        "id": "B-vWzoo81dvO"
      },
      "source": [
        "df_train, df_test = train_test_split(df, test_size=0.15, random_state=RANDOM_SEED, stratify=df.Label)\n",
        "df_val, df_test = train_test_split(df_test, test_size=0.5, random_state=RANDOM_SEED, stratify=df_test.Label)"
      ],
      "execution_count": null,
      "outputs": []
    },
    {
      "cell_type": "code",
      "metadata": {
        "id": "xz3ZOQXVPCwh",
        "colab": {
          "base_uri": "https://localhost:8080/"
        },
        "outputId": "a67f5fa3-5c22-443e-ccfc-3f71fc67698c"
      },
      "source": [
        "df_train.shape, df_val.shape, df_test.shape"
      ],
      "execution_count": null,
      "outputs": [
        {
          "output_type": "execute_result",
          "data": {
            "text/plain": [
              "((162664, 3), (14353, 3), (14353, 3))"
            ]
          },
          "metadata": {},
          "execution_count": 30
        }
      ]
    },
    {
      "cell_type": "code",
      "metadata": {
        "id": "ruZwiKtOzBAh",
        "colab": {
          "base_uri": "https://localhost:8080/",
          "height": 424
        },
        "outputId": "fc58b7a3-9b16-4e1c-d85c-f104f4d2782a"
      },
      "source": [
        "df_test"
      ],
      "execution_count": null,
      "outputs": [
        {
          "output_type": "execute_result",
          "data": {
            "text/html": [
              "<div>\n",
              "<style scoped>\n",
              "    .dataframe tbody tr th:only-of-type {\n",
              "        vertical-align: middle;\n",
              "    }\n",
              "\n",
              "    .dataframe tbody tr th {\n",
              "        vertical-align: top;\n",
              "    }\n",
              "\n",
              "    .dataframe thead th {\n",
              "        text-align: right;\n",
              "    }\n",
              "</style>\n",
              "<table border=\"1\" class=\"dataframe\">\n",
              "  <thead>\n",
              "    <tr style=\"text-align: right;\">\n",
              "      <th></th>\n",
              "      <th>Sentence</th>\n",
              "      <th>V</th>\n",
              "      <th>Label</th>\n",
              "    </tr>\n",
              "  </thead>\n",
              "  <tbody>\n",
              "    <tr>\n",
              "      <th>124247</th>\n",
              "      <td>mostraria atitude mostrar atitude</td>\n",
              "      <td>1.0</td>\n",
              "      <td>2.0</td>\n",
              "    </tr>\n",
              "    <tr>\n",
              "      <th>34106</th>\n",
              "      <td>não teríamos onde cair morto não ter onde cair...</td>\n",
              "      <td>0.0</td>\n",
              "      <td>0.0</td>\n",
              "    </tr>\n",
              "    <tr>\n",
              "      <th>122777</th>\n",
              "      <td>Este straight-to-video duffer é outro prego no...</td>\n",
              "      <td>0.0</td>\n",
              "      <td>0.0</td>\n",
              "    </tr>\n",
              "    <tr>\n",
              "      <th>117659</th>\n",
              "      <td>Isso não é ótimo cinema. O filme é clichês e e...</td>\n",
              "      <td>0.0</td>\n",
              "      <td>0.0</td>\n",
              "    </tr>\n",
              "    <tr>\n",
              "      <th>180090</th>\n",
              "      <td>ludibrioso</td>\n",
              "      <td>0.0</td>\n",
              "      <td>0.0</td>\n",
              "    </tr>\n",
              "    <tr>\n",
              "      <th>...</th>\n",
              "      <td>...</td>\n",
              "      <td>...</td>\n",
              "      <td>...</td>\n",
              "    </tr>\n",
              "    <tr>\n",
              "      <th>185354</th>\n",
              "      <td>vomitasses vomitarse</td>\n",
              "      <td>0.0</td>\n",
              "      <td>0.0</td>\n",
              "    </tr>\n",
              "    <tr>\n",
              "      <th>89052</th>\n",
              "      <td>intempestivo intempestivo</td>\n",
              "      <td>0.0</td>\n",
              "      <td>0.0</td>\n",
              "    </tr>\n",
              "    <tr>\n",
              "      <th>25335</th>\n",
              "      <td>Ele estava ligando para bases em todo os Estad...</td>\n",
              "      <td>0.6</td>\n",
              "      <td>1.0</td>\n",
              "    </tr>\n",
              "    <tr>\n",
              "      <th>64278</th>\n",
              "      <td>Eu realmente devo ter pegado um filme diferent...</td>\n",
              "      <td>0.0</td>\n",
              "      <td>0.0</td>\n",
              "    </tr>\n",
              "    <tr>\n",
              "      <th>62679</th>\n",
              "      <td>benévolas benévolo</td>\n",
              "      <td>1.0</td>\n",
              "      <td>2.0</td>\n",
              "    </tr>\n",
              "  </tbody>\n",
              "</table>\n",
              "<p>14353 rows × 3 columns</p>\n",
              "</div>"
            ],
            "text/plain": [
              "                                                 Sentence    V  Label\n",
              "124247                  mostraria atitude mostrar atitude  1.0    2.0\n",
              "34106   não teríamos onde cair morto não ter onde cair...  0.0    0.0\n",
              "122777  Este straight-to-video duffer é outro prego no...  0.0    0.0\n",
              "117659  Isso não é ótimo cinema. O filme é clichês e e...  0.0    0.0\n",
              "180090                                         ludibrioso  0.0    0.0\n",
              "...                                                   ...  ...    ...\n",
              "185354                               vomitasses vomitarse  0.0    0.0\n",
              "89052                           intempestivo intempestivo  0.0    0.0\n",
              "25335   Ele estava ligando para bases em todo os Estad...  0.6    1.0\n",
              "64278   Eu realmente devo ter pegado um filme diferent...  0.0    0.0\n",
              "62679                                  benévolas benévolo  1.0    2.0\n",
              "\n",
              "[14353 rows x 3 columns]"
            ]
          },
          "metadata": {},
          "execution_count": 31
        }
      ]
    },
    {
      "cell_type": "markdown",
      "metadata": {
        "id": "J4tQ1x-vqNab"
      },
      "source": [
        "We also need to create a couple of data loaders. Here's a helper function to do it:"
      ]
    },
    {
      "cell_type": "code",
      "metadata": {
        "id": "KEGqcvkuOuTX"
      },
      "source": [
        "def create_data_loader(df, tokenizer, max_len, batch_size):\n",
        "  ds = GPReviewDataset(\n",
        "    reviews=df.Sentence.to_numpy(),\n",
        "    targets=df.Label.to_numpy(),\n",
        "    tokenizer=tokenizer,\n",
        "    max_len=max_len\n",
        "  )\n",
        "\n",
        "  return DataLoader(\n",
        "    ds,\n",
        "    batch_size=batch_size,\n",
        "    num_workers=4\n",
        "  )"
      ],
      "execution_count": null,
      "outputs": []
    },
    {
      "cell_type": "code",
      "metadata": {
        "id": "vODDxMKsPHqI"
      },
      "source": [
        "BATCH_SIZE = 16\n",
        "\n",
        "train_data_loader = create_data_loader(df_train, tokenizer, MAX_LEN, BATCH_SIZE)\n",
        "val_data_loader = create_data_loader(df_val, tokenizer, MAX_LEN, BATCH_SIZE)\n",
        "test_data_loader = create_data_loader(df_test, tokenizer, MAX_LEN, BATCH_SIZE)"
      ],
      "execution_count": null,
      "outputs": []
    },
    {
      "cell_type": "markdown",
      "metadata": {
        "id": "A6dlOptwqlhF"
      },
      "source": [
        "Let's have a look at an example batch from our training data loader:"
      ]
    },
    {
      "cell_type": "code",
      "metadata": {
        "id": "Y93ldSN47FeT",
        "colab": {
          "base_uri": "https://localhost:8080/"
        },
        "outputId": "2e467ac1-8bc7-48b3-9cc6-a403884571a1"
      },
      "source": [
        "data = next(iter(train_data_loader))\n",
        "data.keys()"
      ],
      "execution_count": null,
      "outputs": [
        {
          "output_type": "execute_result",
          "data": {
            "text/plain": [
              "dict_keys(['review_text', 'input_ids', 'attention_mask', 'targets'])"
            ]
          },
          "metadata": {},
          "execution_count": 34
        }
      ]
    },
    {
      "cell_type": "code",
      "metadata": {
        "id": "IdU4YVqb7N8M",
        "colab": {
          "base_uri": "https://localhost:8080/"
        },
        "outputId": "965fca80-56ab-48ca-b010-270f8800fad0"
      },
      "source": [
        "print(data['input_ids'].shape)\n",
        "print(data['attention_mask'].shape)\n",
        "print(data['targets'].shape)"
      ],
      "execution_count": null,
      "outputs": [
        {
          "output_type": "stream",
          "name": "stdout",
          "text": [
            "torch.Size([16, 300])\n",
            "torch.Size([16, 300])\n",
            "torch.Size([16])\n"
          ]
        }
      ]
    },
    {
      "cell_type": "markdown",
      "metadata": {
        "id": "H63Y-TjyRC7S"
      },
      "source": [
        "## Sentiment Classification with BERT and Hugging Face"
      ]
    },
    {
      "cell_type": "markdown",
      "metadata": {
        "id": "440Nd31VTHER"
      },
      "source": [
        "There are a lot of helpers that make using BERT easy with the Transformers library. Depending on the task you might want to use [BertForSequenceClassification](https://huggingface.co/transformers/model_doc/bert.html#bertforsequenceclassification), [BertForQuestionAnswering](https://huggingface.co/transformers/model_doc/bert.html#bertforquestionanswering) or something else. \n",
        "\n",
        "But who cares, right? We're *hardcore*! We'll use the basic [BertModel](https://huggingface.co/transformers/model_doc/bert.html#bertmodel) and build our sentiment classifier on top of it. Let's load the model:"
      ]
    },
    {
      "cell_type": "code",
      "metadata": {
        "id": "0P41FayISNRI",
        "colab": {
          "base_uri": "https://localhost:8080/",
          "height": 81,
          "referenced_widgets": [
            "9d4cbcc70d3e4574a3762141f7aae800",
            "756da2e4b47e4e66935ca9f50d2b8280",
            "44e3ab19f3c04c73bebad9612ebe44ca",
            "0995abe5ce944a80a73ad291ead62cef",
            "e2f68718d94340e687cae3419871c811",
            "69ab3253db01449e8eb79c8243b75da2",
            "3086ce3800f44e1c91a23d35fa8f0598",
            "9366cba079244059943afd67d2376039",
            "e773b015886e4c78a55b4179605fcde7",
            "a12e2e2e28ab400f8921a4c299613491",
            "40c0b1197965460690077b8a5ab09239",
            "2f23b9bdec174e59b48d935f4469cfbd",
            "95b3704e61744f628337515ea60c69af",
            "a513e992904747f5a5a55328fe0d3a4f",
            "50d380f5bde44036a19da2bd6eb89561",
            "51057abcdd3f48d2b5ef8ca53c077657",
            "b2cfa696219d4297adde59759cdbd061",
            "142d441cec404ef7b17f6b4fec1bd38a",
            "2616bcad961c435a8d760b9b6450fc28",
            "f2f943abcb5e4968ae2722fc1ccac81b",
            "22f95a52460745afa1eea5c417b9f6a7",
            "11c303ede59549038957fdc27ae0992a"
          ]
        },
        "outputId": "cad2d4c2-6f7a-4430-b47a-1658e75c95d5"
      },
      "source": [
        "bert_model = BertModel.from_pretrained(PRE_TRAINED_MODEL_NAME)"
      ],
      "execution_count": null,
      "outputs": [
        {
          "output_type": "display_data",
          "data": {
            "application/vnd.jupyter.widget-view+json": {
              "model_id": "9d4cbcc70d3e4574a3762141f7aae800",
              "version_minor": 0,
              "version_major": 2
            },
            "text/plain": [
              "Downloading:   0%|          | 0.00/647 [00:00<?, ?B/s]"
            ]
          },
          "metadata": {}
        },
        {
          "output_type": "display_data",
          "data": {
            "application/vnd.jupyter.widget-view+json": {
              "model_id": "2f23b9bdec174e59b48d935f4469cfbd",
              "version_minor": 0,
              "version_major": 2
            },
            "text/plain": [
              "Downloading:   0%|          | 0.00/438M [00:00<?, ?B/s]"
            ]
          },
          "metadata": {}
        }
      ]
    },
    {
      "cell_type": "markdown",
      "metadata": {
        "id": "aFE7YSbFdY4t"
      },
      "source": [
        "And try to use it on the encoding of our sample text:"
      ]
    },
    {
      "cell_type": "code",
      "metadata": {
        "id": "s1aoFxbQSn15"
      },
      "source": [
        "last_hidden_state, pooled_output = bert_model(\n",
        "  input_ids=encoding['input_ids'], \n",
        "  attention_mask=encoding['attention_mask']\n",
        ")"
      ],
      "execution_count": null,
      "outputs": []
    },
    {
      "cell_type": "markdown",
      "metadata": {
        "id": "mLLu8zmqbaHV"
      },
      "source": [
        "The `last_hidden_state` is a sequence of hidden states of the last layer of the model. Obtaining the `pooled_output` is done by applying the [BertPooler](https://github.com/huggingface/transformers/blob/edf0582c0be87b60f94f41c659ea779876efc7be/src/transformers/modeling_bert.py#L426) on `last_hidden_state`:"
      ]
    },
    {
      "cell_type": "code",
      "metadata": {
        "id": "mUJHXNpIbcci",
        "colab": {
          "base_uri": "https://localhost:8080/"
        },
        "outputId": "f287a030-62c9-40b1-9155-bbb490f79df4"
      },
      "source": [
        "last_hidden_state.shape"
      ],
      "execution_count": null,
      "outputs": [
        {
          "output_type": "execute_result",
          "data": {
            "text/plain": [
              "torch.Size([1, 32, 768])"
            ]
          },
          "metadata": {},
          "execution_count": 38
        }
      ]
    },
    {
      "cell_type": "markdown",
      "metadata": {
        "id": "Q4dAot4zbz8k"
      },
      "source": [
        "We have the hidden state for each of our 32 tokens (the length of our example sequence). But why 768? This is the number of hidden units in the feedforward-networks. We can verify that by checking the config:"
      ]
    },
    {
      "cell_type": "code",
      "metadata": {
        "id": "nsxB7Qy7b5YN",
        "colab": {
          "base_uri": "https://localhost:8080/"
        },
        "outputId": "bf41a5da-04e3-4098-dd88-52dcd7864fb6"
      },
      "source": [
        "bert_model.config.hidden_size"
      ],
      "execution_count": null,
      "outputs": [
        {
          "output_type": "execute_result",
          "data": {
            "text/plain": [
              "768"
            ]
          },
          "metadata": {},
          "execution_count": 39
        }
      ]
    },
    {
      "cell_type": "markdown",
      "metadata": {
        "id": "wTKi8-rTd_j4"
      },
      "source": [
        "\n",
        "\n",
        "You can think of the `pooled_output` as a summary of the content, according to BERT. Albeit, you might try and do better. Let's look at the shape of the output:"
      ]
    },
    {
      "cell_type": "code",
      "metadata": {
        "id": "2jIAtRhaSz9c",
        "colab": {
          "base_uri": "https://localhost:8080/"
        },
        "outputId": "d903821c-8401-4f01-b916-33045f4fe08a"
      },
      "source": [
        "pooled_output.shape"
      ],
      "execution_count": null,
      "outputs": [
        {
          "output_type": "execute_result",
          "data": {
            "text/plain": [
              "torch.Size([1, 768])"
            ]
          },
          "metadata": {},
          "execution_count": 40
        }
      ]
    },
    {
      "cell_type": "markdown",
      "metadata": {
        "id": "0o_NiS3WgOFf"
      },
      "source": [
        "We can use all of this knowledge to create a classifier that uses the BERT model:"
      ]
    },
    {
      "cell_type": "code",
      "metadata": {
        "id": "m_mRflxPl32F"
      },
      "source": [
        "class SentimentClassifier(nn.Module):\n",
        "\n",
        "  def __init__(self, n_classes):\n",
        "    super(SentimentClassifier, self).__init__()\n",
        "    self.bert = BertModel.from_pretrained(PRE_TRAINED_MODEL_NAME)\n",
        "    self.drop = nn.Dropout(p=0.3)\n",
        "    self.out = nn.Linear(self.bert.config.hidden_size, n_classes)\n",
        "  \n",
        "  def forward(self, input_ids, attention_mask):\n",
        "    _, pooled_output = self.bert(\n",
        "      input_ids=input_ids,\n",
        "      attention_mask=attention_mask\n",
        "    )\n",
        "    output = self.drop(pooled_output)\n",
        "    return self.out(output)"
      ],
      "execution_count": null,
      "outputs": []
    },
    {
      "cell_type": "markdown",
      "metadata": {
        "id": "UJg8m3NQJahc"
      },
      "source": [
        "Our classifier delegates most of the heavy lifting to the BertModel. We use a dropout layer for some regularization and a fully-connected layer for our output. Note that we're returning the raw output of the last layer since that is required for the cross-entropy loss function in PyTorch to work.\n",
        "\n",
        "This should work like any other PyTorch model. Let's create an instance and move it to the GPU:"
      ]
    },
    {
      "cell_type": "code",
      "metadata": {
        "id": "i0yQnuSFsjDp"
      },
      "source": [
        "model = SentimentClassifier(len(class_names))\n",
        "model = model.to(device)"
      ],
      "execution_count": null,
      "outputs": []
    },
    {
      "cell_type": "markdown",
      "metadata": {
        "id": "VCPCFDLlKIQd"
      },
      "source": [
        "We'll move the example batch of our training data to the GPU:"
      ]
    },
    {
      "cell_type": "code",
      "metadata": {
        "id": "mz7p__CqdaMO",
        "colab": {
          "base_uri": "https://localhost:8080/"
        },
        "outputId": "f7a30d1e-0e1c-4e6e-b60a-a37d63a0d775"
      },
      "source": [
        "input_ids = data['input_ids'].to(device)\n",
        "attention_mask = data['attention_mask'].to(device)\n",
        "\n",
        "print(input_ids.shape) # batch size x seq length\n",
        "print(attention_mask.shape) # batch size x seq length"
      ],
      "execution_count": null,
      "outputs": [
        {
          "output_type": "stream",
          "name": "stdout",
          "text": [
            "torch.Size([16, 300])\n",
            "torch.Size([16, 300])\n"
          ]
        }
      ]
    },
    {
      "cell_type": "code",
      "metadata": {
        "id": "GVIKVNPIR6Hi",
        "colab": {
          "base_uri": "https://localhost:8080/"
        },
        "outputId": "920276d8-7ab8-478e-a649-f058c3054e26"
      },
      "source": [
        "print(input_ids)"
      ],
      "execution_count": null,
      "outputs": [
        {
          "output_type": "stream",
          "name": "stdout",
          "text": [
            "tensor([[  101,  2471,   123,  ...,     0,     0,     0],\n",
            "        [  101,  2533,   784,  ...,     0,     0,     0],\n",
            "        [  101,   346, 16649,  ...,     0,     0,     0],\n",
            "        ...,\n",
            "        [  101, 16936, 18613,  ...,     0,     0,     0],\n",
            "        [  101,   349,  2373,  ...,     0,     0,     0],\n",
            "        [  101,  8573,   147,  ...,     0,     0,     0]], device='cuda:0')\n"
          ]
        }
      ]
    },
    {
      "cell_type": "markdown",
      "metadata": {
        "id": "Hr1EgkEtKOIB"
      },
      "source": [
        "To get the predicted probabilities from our trained model, we'll apply the softmax function to the outputs:"
      ]
    },
    {
      "cell_type": "code",
      "metadata": {
        "id": "2rTCj46Zamry",
        "colab": {
          "base_uri": "https://localhost:8080/"
        },
        "outputId": "211eb97e-61bc-44fd-e6d7-0b5e4a2de842"
      },
      "source": [
        "F.softmax(model(input_ids, attention_mask), dim=1)"
      ],
      "execution_count": null,
      "outputs": [
        {
          "output_type": "execute_result",
          "data": {
            "text/plain": [
              "tensor([[0.3172, 0.2990, 0.3838],\n",
              "        [0.3047, 0.3043, 0.3909],\n",
              "        [0.3778, 0.2955, 0.3267],\n",
              "        [0.3785, 0.2868, 0.3347],\n",
              "        [0.3796, 0.3060, 0.3144],\n",
              "        [0.3236, 0.2819, 0.3946],\n",
              "        [0.3136, 0.3275, 0.3589],\n",
              "        [0.3686, 0.2563, 0.3751],\n",
              "        [0.4291, 0.2670, 0.3039],\n",
              "        [0.4832, 0.2043, 0.3125],\n",
              "        [0.3093, 0.3262, 0.3645],\n",
              "        [0.3785, 0.3035, 0.3181],\n",
              "        [0.3033, 0.3579, 0.3387],\n",
              "        [0.3744, 0.2759, 0.3496],\n",
              "        [0.3491, 0.3073, 0.3437],\n",
              "        [0.2764, 0.3504, 0.3733]], device='cuda:0', grad_fn=<SoftmaxBackward0>)"
            ]
          },
          "metadata": {},
          "execution_count": 45
        }
      ]
    },
    {
      "cell_type": "markdown",
      "metadata": {
        "id": "g9xikRdtRN1N"
      },
      "source": [
        "### Training"
      ]
    },
    {
      "cell_type": "markdown",
      "metadata": {
        "id": "76g7FV85H-T8"
      },
      "source": [
        "To reproduce the training procedure from the BERT paper, we'll use the [AdamW](https://huggingface.co/transformers/main_classes/optimizer_schedules.html#adamw) optimizer provided by Hugging Face. It corrects weight decay, so it's similar to the original paper. We'll also use a linear scheduler with no warmup steps:"
      ]
    },
    {
      "cell_type": "code",
      "metadata": {
        "id": "5v-ArJ2fCCcU"
      },
      "source": [
        "EPOCHS = 5\n",
        "\n",
        "optimizer = AdamW(model.parameters(), lr=2e-5, correct_bias=False)\n",
        "total_steps = len(train_data_loader) * EPOCHS\n",
        "\n",
        "scheduler = get_linear_schedule_with_warmup(\n",
        "  optimizer,\n",
        "  num_warmup_steps=0,\n",
        "  num_training_steps=total_steps\n",
        ")\n",
        "\n",
        "loss_fn = nn.CrossEntropyLoss().to(device)"
      ],
      "execution_count": null,
      "outputs": []
    },
    {
      "cell_type": "markdown",
      "metadata": {
        "id": "A8522g7JIu5J"
      },
      "source": [
        "How do we come up with all hyperparameters? The BERT authors have some recommendations for fine-tuning:\n",
        "\n",
        "- Batch size: 16, 32\n",
        "- Learning rate (Adam): 5e-5, 3e-5, 2e-5\n",
        "- Number of epochs: 2, 3, 4\n",
        "\n",
        "We're going to ignore the number of epochs recommendation but stick with the rest. Note that increasing the batch size reduces the training time significantly, but gives you lower accuracy.\n",
        "\n",
        "Let's continue with writing a helper function for training our model for one epoch:"
      ]
    },
    {
      "cell_type": "code",
      "metadata": {
        "id": "bzl9UhuNx1_Q"
      },
      "source": [
        "def train_epoch(\n",
        "  model, \n",
        "  data_loader, \n",
        "  loss_fn, \n",
        "  optimizer, \n",
        "  device, \n",
        "  scheduler, \n",
        "  n_examples\n",
        "):\n",
        "  model = model.train()\n",
        "\n",
        "  losses = []\n",
        "  correct_predictions = 0\n",
        "  \n",
        "  for d in data_loader:\n",
        "    input_ids = d[\"input_ids\"].to(device)\n",
        "    attention_mask = d[\"attention_mask\"].to(device)\n",
        "    targets = d[\"targets\"].to(device)\n",
        "\n",
        "    outputs = model(\n",
        "      input_ids=input_ids,\n",
        "      attention_mask=attention_mask\n",
        "    )\n",
        "\n",
        "    _, preds = torch.max(outputs, dim=1)\n",
        "    loss = loss_fn(outputs, targets)\n",
        "\n",
        "    correct_predictions += torch.sum(preds == targets)\n",
        "    losses.append(loss.item())\n",
        "\n",
        "    loss.backward()\n",
        "    nn.utils.clip_grad_norm_(model.parameters(), max_norm=1.0)\n",
        "    optimizer.step()\n",
        "    scheduler.step()\n",
        "    optimizer.zero_grad()\n",
        "\n",
        "  return correct_predictions.double() / n_examples, np.mean(losses)"
      ],
      "execution_count": null,
      "outputs": []
    },
    {
      "cell_type": "markdown",
      "metadata": {
        "id": "E4PniYIte0fr"
      },
      "source": [
        "Training the model should look familiar, except for two things. The scheduler gets called every time a batch is fed to the model. We're avoiding exploding gradients by clipping the gradients of the model using [clip_grad_norm_](https://pytorch.org/docs/stable/nn.html#clip-grad-norm).\n",
        "\n",
        "Let's write another one that helps us evaluate the model on a given data loader:"
      ]
    },
    {
      "cell_type": "code",
      "metadata": {
        "id": "CXeRorVGIKre"
      },
      "source": [
        "def eval_model(model, data_loader, loss_fn, device, n_examples):\n",
        "  model = model.eval()\n",
        "\n",
        "  losses = []\n",
        "  correct_predictions = 0\n",
        "\n",
        "  with torch.no_grad():\n",
        "    for d in data_loader:\n",
        "      input_ids = d[\"input_ids\"].to(device)\n",
        "      attention_mask = d[\"attention_mask\"].to(device)\n",
        "      targets = d[\"targets\"].to(device)\n",
        "\n",
        "      outputs = model(\n",
        "        input_ids=input_ids,\n",
        "        attention_mask=attention_mask\n",
        "      )\n",
        "      _, preds = torch.max(outputs, dim=1)\n",
        "\n",
        "      loss = loss_fn(outputs, targets)\n",
        "\n",
        "      correct_predictions += torch.sum(preds == targets)\n",
        "      losses.append(loss.item())\n",
        "\n",
        "  return correct_predictions.double() / n_examples, np.mean(losses)"
      ],
      "execution_count": null,
      "outputs": []
    },
    {
      "cell_type": "markdown",
      "metadata": {
        "id": "a_rdSDBHhhCh"
      },
      "source": [
        "Using those two, we can write our training loop. We'll also store the training history:"
      ]
    },
    {
      "cell_type": "code",
      "metadata": {
        "id": "1zhHoFNsxufs",
        "colab": {
          "base_uri": "https://localhost:8080/"
        },
        "outputId": "d4f1737f-df77-41db-94bb-279b19f71b94"
      },
      "source": [
        "%%time\n",
        "\n",
        "history = defaultdict(list)\n",
        "best_accuracy = 0\n",
        "\n",
        "for epoch in range(EPOCHS):\n",
        "\n",
        "  print(f'Epoch {epoch + 1}/{EPOCHS}')\n",
        "  print('-' * 10)\n",
        "\n",
        "  train_acc, train_loss = train_epoch(\n",
        "    model,\n",
        "    train_data_loader,    \n",
        "    loss_fn, \n",
        "    optimizer, \n",
        "    device, \n",
        "    scheduler, \n",
        "    len(df_train)\n",
        "  )\n",
        "\n",
        "  print(f'Train loss {train_loss} accuracy {train_acc}')\n",
        "\n",
        "  val_acc, val_loss = eval_model(\n",
        "    model,\n",
        "    val_data_loader,\n",
        "    loss_fn, \n",
        "    device, \n",
        "    len(df_val)\n",
        "  )\n",
        "\n",
        "  print(f'Val   loss {val_loss} accuracy {val_acc}')\n",
        "  print()\n",
        "\n",
        "  history['train_acc'].append(train_acc)\n",
        "  history['train_loss'].append(train_loss)\n",
        "  history['val_acc'].append(val_acc)\n",
        "  history['val_loss'].append(val_loss)\n",
        "\n",
        "  if val_acc > best_accuracy:\n",
        "    torch.save(model.state_dict(), 'best_model_state7')\n",
        "    torch.save(model.state_dict(), 'best_model_state7.pth')\n",
        "    best_accuracy = val_acc"
      ],
      "execution_count": null,
      "outputs": [
        {
          "output_type": "stream",
          "name": "stdout",
          "text": [
            "Epoch 1/5\n",
            "----------\n"
          ]
        },
        {
          "output_type": "stream",
          "name": "stderr",
          "text": [
            "/usr/local/lib/python3.7/dist-packages/transformers/optimization.py:155: UserWarning: This overload of add_ is deprecated:\n",
            "\tadd_(Number alpha, Tensor other)\n",
            "Consider using one of the following signatures instead:\n",
            "\tadd_(Tensor other, *, Number alpha) (Triggered internally at  ../torch/csrc/utils/python_arg_parser.cpp:1050.)\n",
            "  exp_avg.mul_(beta1).add_(1.0 - beta1, grad)\n"
          ]
        },
        {
          "output_type": "stream",
          "name": "stdout",
          "text": [
            "Train loss 0.3243285980465321 accuracy 0.868446613878916\n",
            "Val   loss 0.23258200614867533 accuracy 0.9085208667177593\n",
            "\n",
            "Epoch 2/5\n",
            "----------\n",
            "Train loss 0.1904297859428406 accuracy 0.9317181429203757\n",
            "Val   loss 0.27088164726783587 accuracy 0.9154880512784784\n",
            "\n",
            "Epoch 3/5\n",
            "----------\n",
            "Train loss 0.13277402225856205 accuracy 0.9580546402400039\n",
            "Val   loss 0.35659008541502457 accuracy 0.9166724726538006\n",
            "\n",
            "Epoch 4/5\n",
            "----------\n",
            "Train loss 0.09515929566580553 accuracy 0.9734237446515516\n",
            "Val   loss 0.40184790236950935 accuracy 0.9198077057061241\n",
            "\n",
            "Epoch 5/5\n",
            "----------\n",
            "Train loss 0.06969448801848836 accuracy 0.9818460138690798\n",
            "Val   loss 0.43193390655254965 accuracy 0.9213404863094824\n",
            "\n",
            "CPU times: user 7h 36min 48s, sys: 1min 19s, total: 7h 38min 7s\n",
            "Wall time: 7h 36min 33s\n"
          ]
        }
      ]
    },
    {
      "cell_type": "markdown",
      "metadata": {
        "id": "4r8-5zWsiVur"
      },
      "source": [
        "Note that we're storing the state of the best model, indicated by the highest validation accuracy."
      ]
    },
    {
      "cell_type": "markdown",
      "metadata": {
        "id": "wLQf52c7fbzr"
      },
      "source": [
        "Whoo, this took some time! We can look at the training vs validation accuracy:"
      ]
    },
    {
      "cell_type": "code",
      "metadata": {
        "id": "-FWG7kBm372V",
        "colab": {
          "base_uri": "https://localhost:8080/",
          "height": 523
        },
        "outputId": "9f7bfb74-d8f7-46e8-b56a-4f7da16fa147"
      },
      "source": [
        "plt.plot(history['train_acc'], label='train accuracy')\n",
        "plt.plot(history['val_acc'], label='validation accuracy')\n",
        "\n",
        "plt.title('Training history')\n",
        "plt.ylabel('Accuracy')\n",
        "plt.xlabel('Epoch')\n",
        "plt.legend()\n",
        "plt.ylim([0, 1]);"
      ],
      "execution_count": null,
      "outputs": [
        {
          "output_type": "display_data",
          "data": {
            "image/png": "[encoded data removed]",
            "text/plain": [
              "<Figure size 864x576 with 1 Axes>"
            ]
          },
          "metadata": {
            "image/png": {
              "width": 732,
              "height": 506
            }
          }
        }
      ]
    },
    {
      "cell_type": "markdown",
      "metadata": {
        "id": "ZsHqkLAuf8pv"
      },
      "source": [
        "The training accuracy starts to approach 100% after 10 epochs or so. You might try to fine-tune the parameters a bit more, but this will be good enough for us.\n",
        "\n",
        "Don't want to wait? Uncomment the next cell to download my pre-trained model:"
      ]
    },
    {
      "cell_type": "code",
      "metadata": {
        "id": "IwKAWaMU75bN",
        "colab": {
          "base_uri": "https://localhost:8080/",
          "height": 523
        },
        "outputId": "a192d014-09db-4fbc-a6ff-e507eb7f4d29"
      },
      "source": [
        "plt.plot(history['train_loss'], label='train loss')\n",
        "plt.plot(history['val_loss'], label='validation loss')\n",
        "\n",
        "plt.title('Training history')\n",
        "plt.ylabel('Loss')\n",
        "plt.xlabel('Epoch')\n",
        "plt.legend()\n",
        "plt.ylim([0, 1]);"
      ],
      "execution_count": null,
      "outputs": [
        {
          "output_type": "display_data",
          "data": {
            "image/png": "[encoded data removed]",
            "text/plain": [
              "<Figure size 864x576 with 1 Axes>"
            ]
          },
          "metadata": {
            "image/png": {
              "width": 732,
              "height": 506
            }
          }
        }
      ]
    },
    {
      "cell_type": "code",
      "metadata": {
        "id": "zoGUH8VZ-pPQ"
      },
      "source": [
        "# !gdown --id 1V8itWtowCYnb2Bc9KlK9SxGff9WwmogA\n",
        "\n",
        "# model = SentimentClassifier(len(class_names))\n",
        "# model.load_state_dict(torch.load('best_model_state.bin'))\n",
        "# model = model.to(device)"
      ],
      "execution_count": null,
      "outputs": []
    },
    {
      "cell_type": "code",
      "metadata": {
        "id": "eeaD-4UPLILq",
        "colab": {
          "base_uri": "https://localhost:8080/"
        },
        "outputId": "1387fe22-7fc9-44c0-afba-f1852fd89fd1"
      },
      "source": [
        "print(history.keys())"
      ],
      "execution_count": null,
      "outputs": [
        {
          "output_type": "stream",
          "name": "stdout",
          "text": [
            "dict_keys(['train_acc', 'train_loss', 'val_acc', 'val_loss'])\n"
          ]
        }
      ]
    },
    {
      "cell_type": "markdown",
      "metadata": {
        "id": "U3HZb3NWFtFf"
      },
      "source": [
        "## Evaluation\n",
        "\n",
        "So how good is our model on predicting sentiment? Let's start by calculating the accuracy on the test data:"
      ]
    },
    {
      "cell_type": "code",
      "metadata": {
        "id": "jS3gJ_qBEljD",
        "colab": {
          "base_uri": "https://localhost:8080/"
        },
        "outputId": "471abf4d-bdbd-4895-fb92-dbee618589a4"
      },
      "source": [
        "test_acc, _ = eval_model(\n",
        "  model,\n",
        "  test_data_loader,\n",
        "  loss_fn,\n",
        "  device,\n",
        "  len(df_test)\n",
        ")\n",
        "\n",
        "test_acc.item()"
      ],
      "execution_count": null,
      "outputs": [
        {
          "output_type": "execute_result",
          "data": {
            "text/plain": [
              "0.9202257367797673"
            ]
          },
          "metadata": {},
          "execution_count": 53
        }
      ]
    },
    {
      "cell_type": "markdown",
      "metadata": {
        "id": "mdQ7-ylCj8Gd"
      },
      "source": [
        "The accuracy is about 1% lower on the test set. Our model seems to generalize well.\n",
        "\n",
        "We'll define a helper function to get the predictions from our model:"
      ]
    },
    {
      "cell_type": "code",
      "metadata": {
        "id": "EgR6MuNS8jr_"
      },
      "source": [
        "def get_predictions(model, data_loader):\n",
        "  model = model.eval()\n",
        "  \n",
        "  review_texts = []\n",
        "  predictions = []\n",
        "  prediction_probs = []\n",
        "  real_values = []\n",
        "\n",
        "  with torch.no_grad():\n",
        "    for d in data_loader:\n",
        "\n",
        "      texts = d[\"review_text\"]\n",
        "      input_ids = d[\"input_ids\"].to(device)\n",
        "      attention_mask = d[\"attention_mask\"].to(device)\n",
        "      targets = d[\"targets\"].to(device)\n",
        "\n",
        "      outputs = model(\n",
        "        input_ids=input_ids,\n",
        "        attention_mask=attention_mask\n",
        "      )\n",
        "      _, preds = torch.max(outputs, dim=1)\n",
        "\n",
        "      probs = F.softmax(outputs, dim=1)\n",
        "\n",
        "      review_texts.extend(texts)\n",
        "      predictions.extend(preds)\n",
        "      prediction_probs.extend(probs)\n",
        "      real_values.extend(targets)\n",
        "\n",
        "  predictions = torch.stack(predictions).cpu()\n",
        "  prediction_probs = torch.stack(prediction_probs).cpu()\n",
        "  real_values = torch.stack(real_values).cpu()\n",
        "  return review_texts, predictions, prediction_probs, real_values"
      ],
      "execution_count": null,
      "outputs": []
    },
    {
      "cell_type": "markdown",
      "metadata": {
        "id": "dkbnBTI7kd_y"
      },
      "source": [
        "This is similar to the evaluation function, except that we're storing the text of the reviews and the predicted probabilities (by applying the softmax on the model outputs):"
      ]
    },
    {
      "cell_type": "code",
      "metadata": {
        "id": "zHdPZr60-0c_"
      },
      "source": [
        "y_review_texts, y_pred, y_pred_probs, y_test = get_predictions(\n",
        "  model,\n",
        "  test_data_loader\n",
        ")"
      ],
      "execution_count": null,
      "outputs": []
    },
    {
      "cell_type": "markdown",
      "metadata": {
        "id": "gVwoVij2lC7F"
      },
      "source": [
        "Let's have a look at the classification report"
      ]
    },
    {
      "cell_type": "code",
      "metadata": {
        "id": "L8a9_8-ND3Is",
        "colab": {
          "base_uri": "https://localhost:8080/"
        },
        "outputId": "a005b860-604f-42b2-97c8-957665fbcf8c"
      },
      "source": [
        "print(classification_report(y_test, y_pred, target_names=class_names))"
      ],
      "execution_count": null,
      "outputs": [
        {
          "output_type": "stream",
          "name": "stdout",
          "text": [
            "              precision    recall  f1-score   support\n",
            "\n",
            "    negative       0.96      0.95      0.95      6972\n",
            "     neutral       0.87      0.86      0.86      2774\n",
            "    positive       0.90      0.91      0.90      4607\n",
            "\n",
            "    accuracy                           0.92     14353\n",
            "   macro avg       0.91      0.91      0.91     14353\n",
            "weighted avg       0.92      0.92      0.92     14353\n",
            "\n"
          ]
        }
      ]
    },
    {
      "cell_type": "markdown",
      "metadata": {
        "id": "rFAekw3mmWUi"
      },
      "source": [
        "Looks like it is really hard to classify neutral (3 stars) reviews. And I can tell you from experience, looking at many reviews, those are hard to classify.\n",
        "\n",
        "We'll continue with the confusion matrix:"
      ]
    },
    {
      "cell_type": "code",
      "metadata": {
        "id": "6d1qxsc__DTh",
        "colab": {
          "base_uri": "https://localhost:8080/",
          "height": 533
        },
        "outputId": "66d75a91-a7fa-4495-d9ec-21e956aae09d"
      },
      "source": [
        "def show_confusion_matrix(confusion_matrix):\n",
        "  hmap = sns.heatmap(confusion_matrix, annot=True, fmt=\"d\", cmap=\"Blues\")\n",
        "  hmap.yaxis.set_ticklabels(hmap.yaxis.get_ticklabels(), rotation=0, ha='right')\n",
        "  hmap.xaxis.set_ticklabels(hmap.xaxis.get_ticklabels(), rotation=30, ha='right')\n",
        "  plt.ylabel('True sentiment')\n",
        "  plt.xlabel('Predicted sentiment');\n",
        "\n",
        "cm = confusion_matrix(y_test, y_pred)\n",
        "df_cm = pd.DataFrame(cm, index=class_names, columns=class_names)\n",
        "show_confusion_matrix(df_cm)"
      ],
      "execution_count": null,
      "outputs": [
        {
          "output_type": "display_data",
          "data": {
            "image/png": "[encoded data removed]",
            "text/plain": [
              "<Figure size 864x576 with 2 Axes>"
            ]
          },
          "metadata": {
            "image/png": {
              "width": 733,
              "height": 516
            }
          }
        }
      ]
    },
    {
      "cell_type": "markdown",
      "metadata": {
        "id": "wx0U7oNsnZ3A"
      },
      "source": [
        "This confirms that our model is having difficulty classifying neutral reviews. It mistakes those for negative and positive at a roughly equal frequency.\n",
        "\n",
        "That's a good overview of the performance of our model. But let's have a look at an example from our test data:"
      ]
    },
    {
      "cell_type": "code",
      "metadata": {
        "id": "iANBiY3sLo-K"
      },
      "source": [
        "idx = 5\n",
        "\n",
        "review_text = y_review_texts[idx]\n",
        "true_sentiment = y_test[idx]\n",
        "pred_df = pd.DataFrame({\n",
        "  'class_names': class_names,\n",
        "  'values': y_pred_probs[idx]\n",
        "})"
      ],
      "execution_count": null,
      "outputs": []
    },
    {
      "cell_type": "code",
      "metadata": {
        "id": "-8D0rb1yfnv4",
        "colab": {
          "base_uri": "https://localhost:8080/"
        },
        "outputId": "95ac7e05-77f2-4202-b6fd-d6a7413f5372"
      },
      "source": [
        "print(\"\\n\".join(wrap(review_text)))\n",
        "print()\n",
        "print(f'True sentiment: {class_names[true_sentiment]}')"
      ],
      "execution_count": null,
      "outputs": [
        {
          "output_type": "stream",
          "name": "stdout",
          "text": [
            "obscurecem\n",
            "\n",
            "True sentiment: neutral\n"
          ]
        }
      ]
    },
    {
      "cell_type": "markdown",
      "metadata": {
        "id": "f7hj_IZFnn2X"
      },
      "source": [
        "Now we can look at the confidence of each sentiment of our model:"
      ]
    },
    {
      "cell_type": "code",
      "metadata": {
        "id": "qj4d8lZyMkhf",
        "colab": {
          "base_uri": "https://localhost:8080/",
          "height": 506
        },
        "outputId": "105c2ca8-388a-478b-9f8e-1455a0ced9d0"
      },
      "source": [
        "sns.barplot(x='values', y='class_names', data=pred_df, orient='h')\n",
        "plt.ylabel('sentiment')\n",
        "plt.xlabel('probability')\n",
        "plt.xlim([0, 1]);"
      ],
      "execution_count": null,
      "outputs": [
        {
          "output_type": "display_data",
          "data": {
            "image/png": "[encoded data removed]",
            "text/plain": [
              "<Figure size 864x576 with 1 Axes>"
            ]
          },
          "metadata": {
            "image/png": {
              "width": 779,
              "height": 489
            }
          }
        }
      ]
    },
    {
      "cell_type": "markdown",
      "metadata": {
        "id": "7WL5pDmvFyaU"
      },
      "source": [
        "### Predicting on Raw Text\n",
        "\n",
        "Let's use our model to predict the sentiment of some raw text:"
      ]
    },
    {
      "cell_type": "code",
      "metadata": {
        "id": "QEPi7zQRsDhH"
      },
      "source": [
        "review_text = \"Eu amo completamente este app! O melhor de todos sempre!\"\n",
        "#review_text = \"Eu quero ir para o outro mundo!\"\n",
        "#review_text = \"acabar por tirar a vida dele\""
      ],
      "execution_count": null,
      "outputs": []
    },
    {
      "cell_type": "markdown",
      "metadata": {
        "id": "GaN4RnqMnxYw"
      },
      "source": [
        "We have to use the tokenizer to encode the text:"
      ]
    },
    {
      "cell_type": "code",
      "metadata": {
        "id": "zA5Or4D2sLc9"
      },
      "source": [
        "encoded_review = tokenizer.encode_plus(\n",
        "  review_text,\n",
        "  max_length=MAX_LEN,\n",
        "  add_special_tokens=True,\n",
        "  return_token_type_ids=False,\n",
        "  pad_to_max_length=True,\n",
        "  return_attention_mask=True,\n",
        "  return_tensors='pt',\n",
        ")"
      ],
      "execution_count": null,
      "outputs": []
    },
    {
      "cell_type": "markdown",
      "metadata": {
        "id": "et8xlDrKpH60"
      },
      "source": [
        "Let's get the predictions from our model:"
      ]
    },
    {
      "cell_type": "code",
      "metadata": {
        "id": "Qr_t3rUksumr",
        "colab": {
          "base_uri": "https://localhost:8080/"
        },
        "outputId": "7bb9cfe0-5e54-4136-a67a-0760411fb4a1"
      },
      "source": [
        "input_ids = encoded_review['input_ids'].to(device)\n",
        "attention_mask = encoded_review['attention_mask'].to(device)\n",
        "\n",
        "output = model(input_ids, attention_mask)\n",
        "_, prediction = torch.max(output, dim=1)\n",
        "\n",
        "print(f'Review text: {review_text}')\n",
        "print(f'Sentiment  : {class_names[prediction]}')"
      ],
      "execution_count": null,
      "outputs": [
        {
          "output_type": "stream",
          "name": "stdout",
          "text": [
            "Review text: Eu amo completamente este app! O melhor de todos sempre!\n",
            "Sentiment  : positive\n"
          ]
        }
      ]
    },
    {
      "cell_type": "code",
      "metadata": {
        "colab": {
          "base_uri": "https://localhost:8080/",
          "height": 206
        },
        "id": "e1BnwML8dY-F",
        "outputId": "516f52c1-bdaf-4c22-df88-90562bb17b74"
      },
      "source": [
        "column = ['Sentence']\n",
        "#dfPT = pd.read_csv(\"/content/drive/MyDrive/Colab Notebooks/LREC2022/Datasets_samples_test/b2w-sampleTest.tsv\",sep=\"\\t\",header=None, names=column)\n",
        "#dfPT = pd.read_csv(\"/content/drive/MyDrive/Colab Notebooks/LREC2022/Datasets_samples_test/buscape-sampleTest.tsv\",sep=\"\\t\",header=None, names=column)\n",
        "#dfPT = pd.read_csv(\"/content/drive/MyDrive/Colab Notebooks/LREC2022/Datasets_samples_test/olist-sampleTest.tsv\",sep=\"\\t\",header=None, names=column)\n",
        "#dfPT = pd.read_csv(\"/content/drive/MyDrive/Colab Notebooks/LREC2022/Datasets_samples_test/utlc_apps-sampleTest.tsv\",sep=\"\\t\",header=None, names=column)\n",
        "dfPT = pd.read_csv(\"/content/drive/MyDrive/Colab Notebooks/LREC2022/Datasets_samples_test/utlc_movies-sampleTest.tsv\",sep=\"\\t\",header=None, names=column)\n",
        "\n",
        "dfPT.head()"
      ],
      "execution_count": null,
      "outputs": [
        {
          "output_type": "execute_result",
          "data": {
            "text/html": [
              "<div>\n",
              "<style scoped>\n",
              "    .dataframe tbody tr th:only-of-type {\n",
              "        vertical-align: middle;\n",
              "    }\n",
              "\n",
              "    .dataframe tbody tr th {\n",
              "        vertical-align: top;\n",
              "    }\n",
              "\n",
              "    .dataframe thead th {\n",
              "        text-align: right;\n",
              "    }\n",
              "</style>\n",
              "<table border=\"1\" class=\"dataframe\">\n",
              "  <thead>\n",
              "    <tr style=\"text-align: right;\">\n",
              "      <th></th>\n",
              "      <th>Sentence</th>\n",
              "    </tr>\n",
              "  </thead>\n",
              "  <tbody>\n",
              "    <tr>\n",
              "      <th>0</th>\n",
              "      <td>O inseto faz sons para tentar acasalar com a J...</td>\n",
              "    </tr>\n",
              "    <tr>\n",
              "      <th>1</th>\n",
              "      <td>Pode ser chamado também de estupro emocional</td>\n",
              "    </tr>\n",
              "    <tr>\n",
              "      <th>2</th>\n",
              "      <td>Mais uma ótima animação da DC, e que bom ver o...</td>\n",
              "    </tr>\n",
              "    <tr>\n",
              "      <th>3</th>\n",
              "      <td>Ohana E o melhor Elvis Cover da história do en...</td>\n",
              "    </tr>\n",
              "    <tr>\n",
              "      <th>4</th>\n",
              "      <td>Que filme/desfecho maravilhoso Um dos mais lin...</td>\n",
              "    </tr>\n",
              "  </tbody>\n",
              "</table>\n",
              "</div>"
            ],
            "text/plain": [
              "                                            Sentence\n",
              "0  O inseto faz sons para tentar acasalar com a J...\n",
              "1       Pode ser chamado também de estupro emocional\n",
              "2  Mais uma ótima animação da DC, e que bom ver o...\n",
              "3  Ohana E o melhor Elvis Cover da história do en...\n",
              "4  Que filme/desfecho maravilhoso Um dos mais lin..."
            ]
          },
          "metadata": {},
          "execution_count": 95
        }
      ]
    },
    {
      "cell_type": "code",
      "metadata": {
        "id": "tHBK7CzzdsID"
      },
      "source": [
        "def sentClassifier(input_text):\n",
        "\n",
        "  #model.eval()\n",
        "    \n",
        "  encoded_review = tokenizer.encode_plus(\n",
        "    input_text,\n",
        "    max_length=MAX_LEN,\n",
        "    add_special_tokens=True,\n",
        "    return_token_type_ids=False,\n",
        "    pad_to_max_length=True,\n",
        "    return_attention_mask=True,\n",
        "    return_tensors='pt'\n",
        "  )\n",
        "\n",
        "    \n",
        "  input_ids = encoded_review['input_ids'].to(device)\n",
        "  attention_mask = encoded_review['attention_mask'].to(device)\n",
        "  #input_ids, attention_mask\n",
        "\n",
        "  output = model(input_ids, attention_mask)\n",
        "  _, prediction = torch.max(output, dim=1)\n",
        "\n",
        "  print(f\"Review text: {input_text}, Sentiment  : '{class_names[prediction]}'\")\n",
        "\n",
        "  return class_names[prediction]"
      ],
      "execution_count": null,
      "outputs": []
    },
    {
      "cell_type": "code",
      "metadata": {
        "colab": {
          "base_uri": "https://localhost:8080/"
        },
        "id": "XfxL210pdy4k",
        "outputId": "0fcf9ae6-d046-424e-a8be-a367154840a4"
      },
      "source": [
        "dfTest = dfPT\n",
        "dfTest.shape"
      ],
      "execution_count": null,
      "outputs": [
        {
          "output_type": "execute_result",
          "data": {
            "text/plain": [
              "(384, 1)"
            ]
          },
          "metadata": {},
          "execution_count": 97
        }
      ]
    },
    {
      "cell_type": "code",
      "metadata": {
        "colab": {
          "base_uri": "https://localhost:8080/"
        },
        "id": "fvQfOgVMd2Z9",
        "outputId": "0ebb5e87-0229-4a3b-fd2a-79f81703fb61"
      },
      "source": [
        "dfTest['Sentiment'] = dfTest.Sentence.apply(lambda x: sentClassifier(x))"
      ],
      "execution_count": null,
      "outputs": [
        {
          "output_type": "stream",
          "name": "stdout",
          "text": [
            "Review text: O inseto faz sons para tentar acasalar com a Jennifer Connelly heuheuheuehuheuheuheuheuótimo filme, Sentiment  : 'positive'\n",
            "Review text: Pode ser chamado também de estupro emocional, Sentiment  : 'neutral'\n",
            "Review text: Mais uma ótima animação da DC, e que bom ver o foco em outro personagem no caso aqui, o Flash , ao invés de Batman e Superman Algumas mudanças em relação à boa obra original, mas nada que incomode Curti o tom mais violento também, mas só não leva mais pontos pela arte, que é muito ruim, às vezes os personagens pareciam deformados E continuo insistindo As animações da DC qualquer filme live action da Marvel, Sentiment  : 'positive'\n",
            "Review text: Ohana E o melhor Elvis Cover da história do entretenimento, Sentiment  : 'positive'\n",
            "Review text: Que filme/desfecho maravilhoso Um dos mais lindos e emocionantes que já vi, e um dos mais justos também Cada um mereceu o desfecho que foi dado, exceto aos que morreram Que foi um dos motivos que me fez ter amor e ódio por esse filme amor, porque tudo na trilogia é fora de série; ódio, porque muitos personagens se foram em consequência de decisões burras de outréns Uma das melhores coisas da trilogia é que apesar de você esperar que algo meio óbvio aconteça em certas cenas, a seguinte sempre possui algo que surpreende Só a expressão do Frodo, aquela de espanto misturado com choro, pode me definir agora com o término da saga, Sentiment  : 'positive'\n",
            "Review text: Eu estava tão ansiosa por esse filme que olha, depois que assisti não tem outra coisa pra dizer que decepção, mas é aquela coisa, temos que levar em consideração ao menos as atuações porque olha até os cortes ficaram horríveis Por fim, nem vale a pena estender tanto a crítica porque o filme me cansou demais já, Sentiment  : 'negative'\n",
            "Review text: Não espere por algo grandioso no decorrer das duas horas e meia de Os Maridos De grande, mesmo, apenas as peculiaridades do fazer cinema de Cassavetes No início do filme, enquanto observamos fotos descontraídas de quatro amigos ao lado das esposas e filhos, pensei que o meu DVD estivesse arranhado Estranha introdução É curioso observarmos como o alto astral presente naquelas fotografias desparece logo em seguida, na sequência do velório Além disso, é melancólico percebemos que, mesmo tentando resgatar vivências da juventude, os três maridos já foram vencidos pelo passar do tempo Ben Gazzara, Peter Falk e, principalmente, John Cassavetes são os principais responsáveis por sustentar essa aventura cinematográfica Mais do que cinema experimental, é cinema experiência de vida Basta assistirmos os depoimentos do pessoal envolvido na produção para concluir o quão marcante foram as filmagens para eles, Sentiment  : 'positive'\n",
            "Review text: que peso na alma dá assistir esse filme PQP eu terminei o filme e me senti na bad depois que acabou A primeira parte do filme é um drama familiar extremamente pesado e chocante, já a segunda que o filme mais escancaradamente incorpora o elemento sobrenatural é um filme de terror bastante competente e os 20 minutos finais desse filme, cruzes que coisa do capiroto Bom filme de terror e como é bom ver um filme de horror sem jumpscares baratos e que foca na trama e no horror psicológico, Sentiment  : 'positive'\n",
            "Review text: Adorei Principalmente as cenas do spa haha, Sentiment  : 'positive'\n",
            "Review text: O título é um spoiler, ou seja, ele já conta o fim, então, do filme só resta muita angústia e muita claustrofobia, para quem sofre destes males não convém assisti-lo, mesmo já conhecendo o fim, Sentiment  : 'negative'\n",
            "Review text: Lindo, ainda mais em 3D, Sentiment  : 'positive'\n",
            "Review text: Não há palavras e nem lágrimas pra descrever esse filme Amei, Sentiment  : 'positive'\n",
            "Review text: Começou interessante e se desenvolveu de forma infantil Não consegui me apegar a nenhuma personagem, as cenas de ação pareciam fases de um jogo qualquer, o dono do hospício me pareceu um vilão genérico Sessão da tarde + Echi, Sentiment  : 'neutral'\n",
            "Review text: Um pequeno clássico da minha infância, Sentiment  : 'positive'\n",
            "Review text: Magnífico maravilhoso perfeito nossa sem comentários muito bom mesmo Todos os heroes tiveram seu tempo e espaço para nos surpreenderem incrível ainda quero assistir mais vezes no cinema, Sentiment  : 'positive'\n",
            "Review text: Se você tiver coração, e principalmente se tiver um animal de estimação, o choro já está garantido, Sentiment  : 'positive'\n",
            "Review text: Excelente, Sentiment  : 'positive'\n",
            "Review text: Por que as pessoas boas escolhem as pessoas erradas -A gente aceita o amor que acha que merece Me identifiquei com o Charlie em algumas situações Adorei a homenagem ao clássico The Rocky Horror Picture Show O trio Emma Watson , Logan Lerman e Ezra Miller me conquistou E Heroes do camaleão David Bowie na trilha sonora De arrepiar e flutuar ouvindo esse clássico Lembrando que The Smiths é outra banda citada no filme , tudo muito lindo, Sentiment  : 'positive'\n",
            "Review text: adorei esse filme, Sentiment  : 'positive'\n",
            "Review text: O filme tem seus altos e baixos, coisa que não posso negar Faltaram partes que eu realmente senti falta tanto do filme original, quando da versão de 2002 e do livro do King e por vezes senti que existia um ar muito crepúsculo graças, acredito eu, a fotografia A aclamada Chloe não é uma atriz ruim, só que não consegui colocar na minha cabeça que ela era a Carrie White, mesmo envolta com olheiras e cabelos desarrumados Sim, a Sissy Spacek era loira e alta, mas quando li o livro nunca imaginei ela com os padrões atuais Acredito que a versão de 2002 ganha no quesito escolha de atriz Como imaginava os efeitos especiais foram muito melhores do que os originais, um ponto para a cena da morte da Chris que foi estranhamente violenta e mais um para a cena que Sue descobre sua gravidez A falta da cena de destruição da cidade me fez muita falta, com tantos efeitos especiais imaginava que iria ficar perfeita Por fim, valeu a tentativa Mas não tentem novamente, Sentiment  : 'positive'\n",
            "Review text: Achei muito melhor que o primeiro que aliás nem gostei muito vilão péssimo, roteiro meia-boca e nem as piadas achei tão boas assim Mas neste, o roteiro é melhor, o vilão é melhor nada demais, porém do primeiro filme é muito ruim e tem piadas bem melhores, algumas são impagáveis, Sentiment  : 'positive'\n",
            "Review text: Tinha esquecido o quanto esse filme é bonito A naturalidade das cenas, a trilha, o roteiro Gosto dos diálogos ou, talvez, dos não diálogos, eles são reais O final é desses que você sai com um sorriso leve dentro de si Nada muito sensacional, é apenas a manifestação da vida na tela E como o Linklater sabe fazer isso, e como, Sentiment  : 'positive'\n",
            "Review text: Ruim, Sentiment  : 'negative'\n",
            "Review text: Daqueles que rendem lágrimas, rs, Sentiment  : 'positive'\n",
            "Review text: Ate Que Gostei Mas a Musica e sempre mesma isso ja ta irritando ;-;, Sentiment  : 'positive'\n",
            "Review text: WHY SO SERIOOUS Que filme fuderoso Heath Ledger tava incrível Fora os diálogos repletos de filosofia e introspectividade, fudendo sua mente sem dó Entra pro hall dos favoritos Á propósito, sem dúvida nenhuma posso afirmar DOS HERÓIS BATMAN É O MELHOR O MELHOR, Sentiment  : 'positive'\n",
            "Review text: Quando li o livro, há alguns anos, senti falta de algo a mais é uma historia bonita é, mas acaba não tendo um final decente nem aprofundamento dos outros personagens Via, youdeserved more, honey, Sentiment  : 'negative'\n",
            "Review text: Tim Burton no fim de sua genialidade, Sentiment  : 'neutral'\n",
            "Review text: disney passa la que passa todo dia se duvidar, Sentiment  : 'negative'\n",
            "Review text: Na minha opinião foi o melhor filme que Louis Garrel atuou, esse é o filme que irei levar pra vida toda ♥, Sentiment  : 'positive'\n",
            "Review text: Estava observando o perfil das pessoas que deram meia estrela, e notas baixíssimas, aqui no Filmow São pessoas que marcaram poucos filmes como vistos aqui no site Até parece que fizeram uma conta no Filmow só para negativar BvS Nunca vi haters tão engajados em negativar ou falar mal de um filme geralmente sem tê-lo visto Do que será que eles têm medo Será que temem que a Marvel acabe perdendo público Gente, parem com isso A Marvel não tem essa insegurança com relação ao seu universo cinematográfico As pessoas vão continuar assistindo aos filmes Marvel/Disney normalmente BvS pode fazer sucesso e no dia seguinte o mundo vai estar funcionando normalmente Relaxem É ótimo que haja diversidade na abordagem de filmes de quadrinhos Imagina que chato seria se fosse tudo igual Tentar trazer novidade nesse gênero é o que pode garantir uma vida mais longa aos filmes de super-heróis Podem ter certeza que se a gente ficar mais tempo vendo longas com a mesma pegada Marvel, logo o mercado se satura Então, BvS deve mesmo se diferenciar, mesmo estando no mesmo ramo É um bom jeito das pessoas não cansarem e continuarem pagando para ver mais filmes de HQ no cinema, Sentiment  : 'positive'\n",
            "Review text: Embora tenha sido um filme um pouco tedioso as vezes Eu Gosteii, Sentiment  : 'positive'\n",
            "Review text: Um filme que tinha tudo para ser muito bom, mas é apenas razoável, apesar do grande elenco, falhou por inúmeros motivos, um deles, o roteiro, que é precário, Sentiment  : 'negative'\n",
            "Review text: Apenas maravilhoso Sem mais palavras capazes de descrever, Sentiment  : 'positive'\n",
            "Review text: FILMÃO DA PORRA Ação e MUITOS effectsToooooooop Vejam, Sentiment  : 'positive'\n",
            "Review text: bah, me tirou o fôlegoótimo observar o comportamento em grupo, Sentiment  : 'positive'\n",
            "Review text: Não fosse a atuação super canastra do Ashton Kutcher, Sentiment  : 'negative'\n",
            "Review text: É visivelmente um filme picotado e por isso acabou ficando cansativo pq nao conseguiu ter uma fluidez na estória A parte da ação é boa Gostei bastante do flash apesar de achar meio forçadas algumas piadas Enfim, no geral é bom pra passar o tempo, Sentiment  : 'negative'\n",
            "Review text: ótimo e isso não tem como discutir, revolucionário em termos de criatividade não-apelativa, Sentiment  : 'positive'\n",
            "Review text: Magnifico, brilhante Uma perfeição Se existe filme que merece levar o Oscar, esteé Hugo O roteiro, os atores, a fotografia tudo P S eu acho que vi um erro de continuidadenão levei muito em consideração por ter acontecido no sonho dele,mas me incomodou o fato de quando ele olhou pra chave na linha do trem, ela estar entre as pedras, quando ele desce, a chave tá em cima de uma das madeiras eu acheium pouco grave, mas enfim, nada que tire o brilhantismo do filme, Sentiment  : 'positive'\n",
            "Review text: Comédia simples e divertida, além de conter uma bonita mensagem Atuação perfeita do Paulo Gustavo, deu um verdadeiro show, Sentiment  : 'positive'\n",
            "Review text: Não esperava muito do filme, me surpreendeu Não esperava esse final, Sentiment  : 'positive'\n",
            "Review text: Excelente filme Realmente muito tenso e verdadeiro Assisti ontem e estou impressionado com o sangue frio dele Ele está de parabéns por viver e saber viver O filme é esplendido, Sentiment  : 'positive'\n",
            "Review text: Ótimo Nota 10/10, Sentiment  : 'positive'\n",
            "Review text: É bem bacana Como é comédia, tem muito de superficial em alguns personagens e no roteiro Um cara que morre durante uma sugestão hipnótica ok Mostra de maneira bem didática o que é How not to give a fuck Em uma adaptação, seria talvez Não dar bola, ou pouco se Tudo aquilo que seria prioritário para você, merece um fuck Se não, guarde Mas tenha noção de que tem uma quantidade finita, e não tão abundante, de quantos fucks podemos dar O protagonista passou a não se importar se o chefe mala dele o respeitava, se a futura ex namorada estava puta ou não com ele Ele obteve uma clareza de pensamento incrível Não pense, contudo, que ele se tornou alguém apático, que não liga para nada no mundo Ele dá muita importância para a pescaria, por exemplo E para ter uma boa visão, a partir de seu local de trabalho Por isso, que ele desparafusou uma de suas paredes A relação dele com o trabalho foi alterada Antes, ele agia muitas vezes contra a vontade dele E nem ligava para isso Antes ele tinha medo de perder o emprego dele Agora, justamente por não se importar em estar empregado ou não, ele foi até promovido É uma noção passada em alguns contos gregos De que, de tão apegados à algo externo a nós, caminhamos justamente na direção para perder isso, Sentiment  : 'positive'\n",
            "Review text: Muito bom, adorei os efeitos, Sentiment  : 'positive'\n",
            "Review text: Basta apenas fechar os olhos e sentir, filme clássico, Sentiment  : 'positive'\n",
            "Review text: Depois de ler a sinopse, eu fiquei me perguntando o porque desse filme ser tão bom, o que poderia acontecer em uma história onde o marido é o principal suspeito do desaparecimento da esposa, e depois que assisti o filme, eu fiquei completamente chocada Eles transforam esse filme em uma grande obra eu nunca imaginei que poderia sair tanta coisa boa desse filme A história é realmente muito boa, e as atuações também E apesar de ser um filme longo, não achei cansativo Vale muito apena assistir, Sentiment  : 'positive'\n",
            "Review text: Alguem assistiu em 4DX, Sentiment  : 'neutral'\n",
            "Review text: Um dos melhores filmes que já vi Simplesmente fantástico, Sentiment  : 'positive'\n",
            "Review text: Drama romântico musical que teve 8 indicações ao Oscar; 5 nomeações ao Globo de Ouro, vencendo o de melhor canção original; 7 indicações ao BAFTA; ganhou o Smithers Foundation Award no Festival de Veneza; além de vários outros festivais que participou Foi Lady Gaga quem convenceu Bradley Cooper a não dublar as canções do filme durante as gravações cantando ao vivo todas elas A artista disse que odeia quando os atores de musicais não sincronizam a dublagem corretamente Isso fez com que Cooper tivesse mais aulas de canto para aumentar sua extensão vocal O filme terminou e cortou para o preto e o teatro estava completamente escuro e silencioso porque estava tão bom e da parte de trás distante do teatro um gay emocionado invisível para nós soltou um gemido yes Gaga Achei muita ousadia para refilmar este 4° remake de uma estória manjada com a idéia de tentar dizer algo original e autêntico na arte e, em seguida, ter quase nada de novo ou fresco para realmente dizer Mesmo assim, o diretor estreante Bradley Cooper surpreende com notáveis recursos técnicos e com grande sensibilidade e precisão, tendo uma excepcional primeira hora Lady Gaga é uma incrível atriz de vôo longo Será que ela vai arriscar a continuar nessa nova carreira O filme, Sentiment  : 'negative'\n",
            "Review text: Muito bom Garantiu muitas risadas Vale muito a pena assistir, Sentiment  : 'positive'\n",
            "Review text: O melhor filme sobre DITADURAS sul americanas feito nos últimos anos Grande sacada do diretor em optar pelo vídeo e sua resolução televisiva Filmaço, Sentiment  : 'positive'\n",
            "Review text: Olha, eu acho que eu só não gargalhei mais no cinema pq não tava cheião, e não tinha aquela risada comunitária que faz com q vc ria mais ainda Mas puta filme bom meeeesmo Depois de a minha mãe, q raramente gosta dos mesmos filmes q eu ter gostado, agora posso dizer com todas as letras RECOMENDO PRA TODO MUNDO, SEM EXCEÇÃO Impossível não gostar mas definitivamente as melhores histórias são as mais curtas, Sentiment  : 'positive'\n",
            "Review text: PERFEITO PERFEITO PERFEITO Top Five, Sentiment  : 'positive'\n",
            "Review text: um filme sobre desistir e deixar ir magnolia é uma flor que só vive quanto todas as petalas estão juntas quando a primeira cai, todas caem, para renascer de novo enfim, exodo 8 2, Sentiment  : 'neutral'\n",
            "Review text: Um show de frases de efeito Por baixo dessa mascara não há só carne, há idéias e idéias são à prova de balas O homem que se vangloria não tem seu mérito reconhecido O país não precisa de um prédio, ele precisa de esperança Os artistas usam a mentira para revelar a verdade, enquanto os políticos usam a mentira para esconde-la Ele era Edmont Dantes, era meu pai, minha mãe, meu irmão, meu amigo Ele era eu, era você, era todos nós Além de diversas outras lançadas pelo misterioso V Inclusive a gente pode acabar se perdendo um pouco nas falas dele, caso não prestemos atenção, Sentiment  : 'positive'\n",
            "Review text: porra, summer, Sentiment  : 'negative'\n",
            "Review text: Um obra prima, Sentiment  : 'positive'\n",
            "Review text: Não mais do que isso Diversão para passar o tempo, Sentiment  : 'positive'\n",
            "Review text: Clássico Efeitos incríveis para a época E o reconhecimento de voz do computador dele é melhor do que o do meu celular |, Sentiment  : 'positive'\n",
            "Review text: @Gabriel Dominato Sério mesmo, não sei como alguém diz que tem tendência a não gostar de blockbusters e ainda os vê Você diz que é forma de entretenimento, mas está fugindo do real significado da palavra, pois detestar está longe de entreter ,ou seja, gostar Outro ponto que deve ser tocado é a falta de consideração aos novos diretores, fazendo comparações nada a ver, claro que a Origem não é um Bergman, Godard ou Fellini São filmes diferentes e o legal do cinema é sua diversidade Fico de cara como tem gente que faz questão de fazer essas comparações sem lógica e preconceituosas, Sentiment  : 'negative'\n",
            "Review text: Acho que já vi este filme umas vinte e vezes e sempre choro hahahaa, Sentiment  : 'positive'\n",
            "Review text: Galera que já assistiu compensa o 3D, Sentiment  : 'positive'\n",
            "Review text: Minha Infância, Sentiment  : 'positive'\n",
            "Review text: Lendo os comentários achei que ia ser um lixo, mas o bom de ter expectativas baixas é que você se surpreende, filme sensível, muito leve, gostei, Sentiment  : 'positive'\n",
            "Review text: Filme muito fraco, as vítimas são muito inocentes e burras, a única coisa que ainda salva esse filme é o vilão No mais, achei uma perda de tempo, Sentiment  : 'negative'\n",
            "Review text: Um clássico um lindo clássico em que transitam personagens maravilhosos, vivendo na cinematografia uma História de preconceitos, de heróis cotidianos, sem grandes feitos, mas heróis que fazem diferença em uma sociedade Recomendo, Sentiment  : 'positive'\n",
            "Review text: Neste Domingo 05/10 as 0h25 na Sessão de Gala da Globo, Sentiment  : 'neutral'\n",
            "Review text: Antes de tudo esse é um filme de roteiro alternativo, é um filme indie Não se deve assisti-lo esperando uma grande obra de ficção e saturado de efeitos especiais Do recurso de câmera tremidinha aos diálogos curtos, mas que sintetizam muito bem o propósito filosófico, como na passagem em que a personagem fala sobre o mito da caverna de Platão Talvez boa parte do público que assisti-lo estranhe esse longa justamente pq estamos mais acostumados a ver filmes de grande produção e pouco conteúdo Aqui se vê o contrário, Sentiment  : 'positive'\n",
            "Review text: Não se engane achando que vai ver um filme de extrema complexidade e inteligência de roteiro Se você espera um denso e dramático O Grande Truque você vai se decepcionar Na verdade, a genialidade ou não de Now You See Me está justamente no truque que o Louis Leterrier utiliza Ele brinca sim com a prestidigitação básica da mágica, mas também usa muita pirotecnia e distrações visuais para esconder a verdade O filme não pretende ser nada super inteligente e não se compromete em nenhum momento com o realismo É diversão pura e simples, sem personagens complexos demais e pouca profundidade dramática não que não exista A direção funciona muito bem, apesar de nos deixar tontos com tanto movimento é o Leterrier ne O elenco estelar está bem, os efeitos são deslumbrantes e o roteiro não tem furos e tem um ritmo ágil mas também não é o maior exemplo de roteiro bem escrito do mundo Porém, seus defeitos não apagam o brilho do filme, já que no fim das contas ele cumpre bem o papel a que se propôs, que numa citação BEM livre de uma das personagens é basicamente entreter o público com um pouco de mágica Não é ser enganado, é se divertir, Sentiment  : 'positive'\n",
            "Review text: Bom filme Crítica social e ficção científica juntos como poucas vezes visto no cinema, Sentiment  : 'positive'\n",
            "Review text: Esse filme é ótimo Gostei, principalmente, dos efeitos especiais do filme que dá um toque especial e também da fotografia que estava impecável, Sentiment  : 'positive'\n",
            "Review text: Além de um excelente roteiro, a trilha sonora é impecável Nem vi o tempo passar ADOREI, Sentiment  : 'positive'\n",
            "Review text: A trama, até perto do final, estava muito interessante O problema foi a viagem ao além do personagem de Patrick Wilson em busca do filho Em seguida os fantasmas que de lá saíram parecendo atores do clipe Thriller de Michael Jackson Minha nota é pelo filme até o ponto que relatei, Sentiment  : 'negative'\n",
            "Review text: Perfeito, maravilhoso,explendido, sensacional, Sentiment  : 'positive'\n",
            "Review text: Tu vuò fa l americano mmericano mmericano Ótimoo filme ótimas atuações, Tom Ripley é um dos personagens mais frustrados q eu ja vi I always found it better to be a fake somebody than a real nobody, Sentiment  : 'positive'\n",
            "Review text: Gostei do retrato cotidiano da classe industriária pra mim foi uma nostalgia, bem bacana esse tipo de identificação para um determinado público Como já disseram nos comentários abaixo o filme é isso, um pouco da vida cotidiana de Elias, e o ambiente no qual ele esta inserido Filme gostosinho de assistir, não vi o tempo passar E adorei o diálogo/cena final Vc não vai trabalhar amanhã Eu sei, mas não vou não E a cena final Elias lá na praia de molho, quem não se identifica O roteiro me lembrou um pouco os filmes Mãe só há uma, e Fala comigo, ambos possuem um pouco da vida dos personagens do dia a dia sem dar um final concluso, Sentiment  : 'positive'\n",
            "Review text: Uma ótima conclusão da franquia Opinando aqui sobre os dois últimos filmes Engraçado como o 1º adaptação de 24 capítulos do último livro é mais lento, e esse adaptação dos restantes 13 capítulos é corrido Porém, os 4 últimos filmes e 3 últimos livros são os melhores pra mim por causa de toda a elaboração e conhecimento da história dos personagens Com relação ao filme, os efeitos são ótimos, e as lembranças do Snape são as melhores cenas acho que de toda a série; queria que tivessem mostrado um pouco mais da história do Dumbledore, mas isso ficará para a franquia Animais Fantásticos Bom rever os filmes e reler os livros tantos anos após eu ter lido pela primeira vez ❤️, Sentiment  : 'positive'\n",
            "Review text: Quero uma linha temporal em que o Jared Leto case comigo, Sentiment  : 'neutral'\n",
            "Review text: Galera reclamando da história e achando confusa totalmente sem noção né Totalmente simples e necessária, não da pra fechar uma trilogia sem uma história maior O filme é bem blockbuster e bem feito, é longo mas não cansativo E Leonard Nimoy citando Spock foi demais D, Sentiment  : 'positive'\n",
            "Review text: Um filme espetacular Fiquei impressionado com a direção de arte, com a edição de som e com a fotografia do filme Ótimo roteiro Esplêndido filme de guerra, Sentiment  : 'positive'\n",
            "Review text: Direção magistral de Mario Bava baseada num conto do gênio ucraniano Gogol, chamado The Viy, que também deu origem a outro filme com o mesmo nome Viy 5 estralas e favorito, nada menos, Sentiment  : 'positive'\n",
            "Review text: UM PUTA FILME tô sem fôlego que nem o Andrew ou não, Sentiment  : 'negative'\n",
            "Review text: É hipster, mas é bom Um bom filme hipster, Sentiment  : 'positive'\n",
            "Review text: Finalmente temos Julia Roberts atuando em um filme, falta agora atuar bem, Sentiment  : 'positive'\n",
            "Review text: Filme fantástico, apesar do roteiro simplesinho, mostra que não é necessário uma história mirabolante quando as coisas dão certo Nota 9,0 1, Sentiment  : 'positive'\n",
            "Review text: Segue a mesma linha dos seus antecessores Bons efeitos visuais Vale a pena ver Já vi todos eles, Sentiment  : 'positive'\n",
            "Review text: SENSACIONAL, Sentiment  : 'positive'\n",
            "Review text: Até então o melhor filme que vi nesse ano Espetacular clap clap, Sentiment  : 'positive'\n",
            "Review text: é bom apesar de ser esteticamente muito transformers, de thor parecer um playboyzinho, e de a viúva negra e o gavião arqueiro ficarem muito em segundo plano desconfio de que eu vá esquecer a história toda daqui a uns três dias tbm mas é bom, Sentiment  : 'positive'\n",
            "Review text: Revi ao filme Um Sonho de Liberdade há poucos dias porque minha memória o confundia com A espera de um milagre Sempre que me descreviam os filmes eu associava os títulos incorretamente Não sei explicar bem o motivo, acho que quando eu os vi pela primeira vez, devo ter alugado os dois títulos juntos Enfim A imagem da bíblia recortada no formato do martelo é uma das imagens mais marcantes em filmes que ficaram em minha cabeça Acho genial e tive enorme prazer ao rever É uma obra em que a límpida qualidade dos elementos como roteiro, direção, fotografia, locações, interpretações, entre muitos outros, fazem a história emergir e tornar-se tão envolvente que ficamos quase incapazes de atentarmo-nos a possíveis falhas Penso que devam existir, mas pra mim passam irrelevantes É uma obra memorável, Sentiment  : 'positive'\n",
            "Review text: Uma história singela, em um animê com ótimo visual e trilha sonora adequada Uma boa pedida pra quem quer dar um relax, Sentiment  : 'positive'\n",
            "Review text: Bem estilizado, beirando o caricato, possivelmente consequência da HQ do qual é adaptado que eu ainda não li Mas é um bom filme de ação, Sentiment  : 'positive'\n",
            "Review text: Esse desenho é o terror dos orelhudos mas o desenho e muito melhor o plot twist dele voando e super sem graça, não tem o rato, adultos sem graças e infelizmente uma das melhores cenas doa corvos não poderia ter obviamente porque dizem ter conotação racista nos EUA, Sentiment  : 'negative'\n",
            "Review text: Edward é sensível e engraçado ao mesmo tempo A quebra de padrões socias e culturais pode ser vista de perto nessa obra dirigida por Tim Burton, Sentiment  : 'positive'\n",
            "Review text: Direção de arte fabulosa, trilha sonora impecável, mas uma edição de som lamentável HAha, até me inspirei a finalizer meu curta-metragem depois de ver o quanto o audio desse filme é ruim e ele ainda consegue ser bom, Sentiment  : 'negative'\n",
            "Review text: Chorei demais com esse filme, Sentiment  : 'positive'\n",
            "Review text: Cara que coisa linda muito bom mesmo acabei de assistir a versão estendida, Sentiment  : 'positive'\n",
            "Review text: bom filme so isso embora tenha que analisar bem ne, Sentiment  : 'positive'\n",
            "Review text: Fantástico Filme com belas reviravoltas, Sentiment  : 'positive'\n",
            "Review text: Depois de assistir Saving Mr Banks, fiquei com uma incontrolável vontade de rever esse clássico E revê-lo foi supercalifragilisticexpialidocious, Sentiment  : 'positive'\n",
            "Review text: Uma agradável surpresa nacional, com ótimas atuações e certa dose de emoção, Sentiment  : 'positive'\n",
            "Review text: O livro é sempre melhor que o filme, né Muitos detalhes ficaram de fora e Miley Cyrus não merecia esse papel, Sentiment  : 'neutral'\n",
            "Review text: Pena que a trilha sonora é péssima, Sentiment  : 'negative'\n",
            "Review text: Se você ainda não viu esse filme e teve a sorte de ninguém te contar o final dele antes de você vê-lo, vá assisti-lo imediatamente, Sentiment  : 'positive'\n",
            "Review text: Aqueles filmes que dão vontade de aplaudir quando vc termina Tudo aqui é perfeito Movimentação de câmera precisa e incrivelmente bem coreografada, com direito a alguns dos planos sequência mais brilhantes que eu já vi em qualquer filme Muita influência Hitchcockiana na forma como o diretor resume muitos detalhes da narrativa com simples passadas de câmera por fotografias ou objetos do cenário, uma trilha sonora e mixagem de som que imerge o espectador dentro das batalhas, de maneira que vc sinta e ouça tudo aquilo que o protagonista ouve Além disso, um dos roteiros de ficção cientifica mais bem elaborados do cinema recente, discute inúmeros temas importantes mas sem perder o charme ou a grandeza dramática da obra Além disso, essa é uma das distopias mais viscerais e bem construídas do cinema Locações em ruínas, sensação de abandono e perigo iminente Me lembrou uma mistura da melancolia noir de Blade Runner com o caos de Mad Max Filmaço, Sentiment  : 'positive'\n",
            "Review text: apesar de não ser fã da tematica gay, adorei o filme mto linda a atuação de Heath Ledge, como eh dificil se aceitar ainda mais na epoca que se passa, uma historia de amor de verdade contra tudo e contra todos, Sentiment  : 'positive'\n",
            "Review text: Um marco da época do cine trash, Sentiment  : 'neutral'\n",
            "Review text: Se pararmos para pensar melhor, no fundo, grande parte das tensões bélicas existentes podem ser sintetizadas através da incrível alegoria política Planeta dos Macacos E pensar que foi tudo por causa de um maldito piloto que poderia ter pego um táxi, Sentiment  : 'neutral'\n",
            "Review text: classe, sexualidade, maternidade e intolerância, Sentiment  : 'neutral'\n",
            "Review text: Umas das melhores trilogias que ja assisti, Sentiment  : 'positive'\n",
            "Review text: Deveria se chamar OS VENCEDORES, Sentiment  : 'neutral'\n",
            "Review text: 12 ANOS DE ESCRAVIDÃO Steve McQueen não aquele assumiu a cadeira de direção aqui E foi tão bem que levou a estatueta de melhor filme no Oscar em 2013 daquela vez sem trocas de envelopes A história real de um homem confundido com um escravo já é impressionante o bastante, mas eis que uma tal de Lupita Nyong´o aparece e rouba a cena com poucas falas, mas um olhar dos mais expressivos Estatueta pra ela também Mais BLOG ZED IS DEAD, BABY, Sentiment  : 'positive'\n",
            "Review text: O que mais me surpreendeu foi que, mesmo depois de décadas, o filme ainda causa tensão, surpresa e medo Tudo é muito bem feito, intenso e impactante, Sentiment  : 'positive'\n",
            "Review text: Take my breath away, Sentiment  : 'neutral'\n",
            "Review text: posso ter ou posso não ter acordado umas pessoas da casa chorando, Sentiment  : 'negative'\n",
            "Review text: belo filme, super atualizado, com temáticas voltadas para vários assuntos do cotidiano europeu IMIGRAÇÃO a ida dos ex-colonizados saídos da africa para tentar a vida na Europa XENOFOBIA preconceito dos franceses contra os imigrantes SOCIAL desemprego, subemprego, moradia em subúrbios, vulnerabilidade dos imigrantes que vivem dos benefícios sociais como seguro desemprego e outros, exposição ao trafico de drogas e a marginal CULTURA FATOR AGREGADOR quanto maior acesso e consumo a cultura artes, musica, dança, culinária mais valores e conhecimento o ser humano agrega ao seu dia a dia, abre portas e oportunidades na vida como um todo EMPREENDEDORISMO MERCADO DE TRABALHO não só um bom currículo lhe garante um emprego, ter disposição para novas formas de trabalho cuidar de idoso, babá, etc ser empreendedor ter seu próprio negocio ser seu chefe, fazer seus horários E não tem como não apreciar do ponto de vista da performasse do ator François Cluzet Felipe o cara realmente parecia um tetraplégico Enfim percebesse que há vida fora dos filmes de HOLLYWOOD onde os efeitos especiais e as mega produções que ditam as regras, Sentiment  : 'positive'\n",
            "Review text: Esperava mais As cenas de ação são boas, mas o desenvolvimento do filme é muito arrastado, achei o final sem graça, Sentiment  : 'negative'\n",
            "Review text: é Verdade Isabela a trilha sonora é excelente Gostei da historia tbm pena que no final moçinho se dá bem e o bandido se dá mal odeio final feliz forçado, Sentiment  : 'positive'\n",
            "Review text: Louca comédia Cada uma dessas mulheres tem um motivo para estar à beira de um ataque de nervos Novamente Almodóvar injeta drama e suspense na comédia e o resultado dá super certo, isso por que ele é um mestre Como é bom ver em cena a maravilhosa Carmem Maura, a minha atriz preferida dos filmes de Almodóvar E como é deliciosa a exótica presença de Rossy de Palma, Sentiment  : 'positive'\n",
            "Review text: Pesado É aquela necessidade do individuo de ser menos em detrimento do seu parceiro, Sentiment  : 'neutral'\n",
            "Review text: Acaba de ganhar o Oscar de Roteiro Original, Sentiment  : 'positive'\n",
            "Review text: Clint Eastwood sabe melhor do que ninguém como contar uma historia, Sentiment  : 'positive'\n",
            "Review text: Wolverine/Jean, Sentiment  : 'neutral'\n",
            "Review text: o lado heróico e americano da coisa +1 mas foi bem feito, Sentiment  : 'negative'\n",
            "Review text: aplausos para Sarandon, Stanley e a novata Saoirse e alías assistam com essa garota a CIDADE DAS SOMBRAS, muito legalzinho, Sentiment  : 'positive'\n",
            "Review text: E aqui eu me apaixonei pela tal Sandra que sorriso é esse, Sentiment  : 'positive'\n",
            "Review text: Como ser tão perfeito Perfeito em cada cena, cada diálogo, cada detalhe Um filme tocante que gera um mix de sentimentos, impossível de descrever Faz você refletir sobre a vida em inúmeros aspectos, simplesmente maravilhoso I'm sending you love, Sentiment  : 'positive'\n",
            "Review text: Essa refilmagem perde um pouco da graça pela mudança de cenário Para nós, brasileiros, aquela questão de incomucabilidade existente no original os personagens secundários eram franceses não se repete aqui porque agora o idioma é fácil de ser compreendido para aqueles que tem o português como língua nativa Por outro lado, o ritmo conferido a narrativa é de longe mais eficiente do que no filme de 1970, Sentiment  : 'positive'\n",
            "Review text: Filme genial, me surpreendi totalmente Quando acabou eu queria mais, já quero uma série sobre esse filme Muito bem produzido, com o toque de Almodôvar é claro Ricardo Darín sempre ótimo Mas Érica Rimas como a noiva terminou com chave de ouro, Sentiment  : 'positive'\n",
            "Review text: O jeito agora é esperar a segunda parte, Sentiment  : 'neutral'\n",
            "Review text: Um bom suspense,mas muito cliche noa traz nada de inedito, Sentiment  : 'positive'\n",
            "Review text: Excelente, Sentiment  : 'positive'\n",
            "Review text: Bixo, esse filme é do caralho Uma comédia meio diferente, mas é muito bom e muito engraçado Tá louco Até dessa vez achei bom a nota baixa pois assisti sem expectativa E outra coisa, pra quem critica que as relações carecem de humanidade, recomendo sair da tela do computador pra conhecer alguém de verdade Provocações a parte Muito bom filme, Sentiment  : 'positive'\n",
            "Review text: Bacana, mas não sei, fiquei com a impressão de que era muito barulho pra nada S, Sentiment  : 'negative'\n",
            "Review text: é o fúria da note Fantástico, recomendo á todos, Sentiment  : 'positive'\n",
            "Review text: Esse filme é muito iraaaaaaaaado, Sentiment  : 'negative'\n",
            "Review text: Um marco na minha infância, Sentiment  : 'positive'\n",
            "Review text: Um filme maravilhoso, uma atuação perfeita de Marion,e uma história emocionante, Sentiment  : 'positive'\n",
            "Review text: Nada de mais para um suspense, Sentiment  : 'neutral'\n",
            "Review text: Almodóvar já vinha ensaiando isso antes esse cume, esse ápice de criação pro seu cinema, que já é tão característico Sempre ao assistir um filme seu, eu trazia de leve essa expectativa, de que com tantos roteiros fodas, uma hora um transcenderia os limites de vez foi essa a sensação, pelo menos A Pele que Habito se auto-define um abuso genial, Sentiment  : 'positive'\n",
            "Review text: Muito fraquinho, Sentiment  : 'negative'\n",
            "Review text: Fraco Draminha mais ou menos pra se assistir em uma crise de dor de cotovelo, Sentiment  : 'negative'\n",
            "Review text: Se nada acontece nesse filme É sinal que nada acontece na vida de vocês, Sentiment  : 'negative'\n",
            "Review text: Estamira teve o corpo, a fé e o emocional violados, sua mente também foi violada e mesmo assim trouxe com suas falas, que inicialmente pareciam sem sentido, uma sabedoria imensa, Sentiment  : 'neutral'\n",
            "Review text: O filme é fantástico Uma comédia com muito humor negro, um personagem bem construído e extremamente bem interpretado Nunca fui muito chegada aos trabalhos do Leonardo DiCaprio, mas esse Oscar seria muito merecido, apesar de ter o coração dividido por ele e Mathew Scorsese detonou demais, Sentiment  : 'positive'\n",
            "Review text: É um filme vibrante, uma boa ação Nunca vi filmes de zumbi acho, esse é o primeiro e não gosto do genero, Sentiment  : 'positive'\n",
            "Review text: Razoável, Sentiment  : 'positive'\n",
            "Review text: Faço parte daqueles que assistiu de novo pra ver o 3 agora É bom mesmo, tem dose certa de suspense e curiosidade, não envelheceu mal, Naomi Watts tá bem no papel Mas nada espetacular, Sentiment  : 'positive'\n",
            "Review text: Se vc espera se assustar, esqueça kkEsse filme pode ser classificado como terror, mas não vai além de um drama, um bom drama,um pouco clichê , mas com figurinos e cenários maravilhosos, sem contar o elenco prendeu a minha atenção, pela história e contexto, mas os fantasmas são claramente baratos kk e algumas vezes até irrelevantes , mas é uma boa trama, Sentiment  : 'positive'\n",
            "Review text: Dei 2 estrelas pela atuação do Nicholson, mas ele atua sozinho praticamente A história é tão zzzzzzzzzzz, enredo fraco, Sentiment  : 'negative'\n",
            "Review text: Que suspensão sensacional, Sentiment  : 'positive'\n",
            "Review text: Bem, para falar do filme, é preciso fazer um preâmbulo a maioria dos estadunidenses e gosto de chamá-los assim, porque, afinal de contas, americanos nós também somos realmente acredita que os EUA são o umbigo do mundo Assim sendo, a maioria deles tem pouco ou nenhum conhecimento sobre a história e a cultura de outros países, mas acham que todo mundo tem a obrigação de conhecer a história do país deles A despeito da inegável influência cultural e econômica dessa nação, sobretudo a partir do período pós-guerra, o fato é que a maioria dos habitantes da Terra não conhece profundamente a história dos EUA Nesse sentido, fiquei bastante decepcionado com o filme, já que ele foi feito quase que exclusivamente para os estadunidenses Quem não tiver um mínimo de conhecimento sobre a Guerra Civil nos EUA vai ter bastante dificuldade para compreender o filme, que, em nenhum momento, se preocupou em situar o expectador nos acontecimentos históricos Não digo que eles deveriam ter contado toda a história da Guerra Civil num único filme, mas poderiam, pelo menos, ter adicionado um texto explicativo no início e no fim do filme, para que todas as tramóias descritas na obra pudessem ser mais bem compreendidas pelo público em geral Engraçado, Sentiment  : 'negative'\n",
            "Review text: Bom filme mas ñ é o melhor, Sentiment  : 'positive'\n",
            "Review text: Poderia ter sido melhor Final péssimo, Sentiment  : 'negative'\n",
            "Review text: A primeira temporada foi legal, depois começou a palhaçada de cem novos Pokémons aqui, 200 ali e acabou a graça Os filmes são todos bem chatinhos, Sentiment  : 'negative'\n",
            "Review text: Os diálogos são ótimos, a história é legalzinha, mas Allen já fez coisa muito melhor Stanley é um dos personagens mais chatos que já vi, meu deeus, Sentiment  : 'negative'\n",
            "Review text: Ainda não creio que demorei tanto tempo pra ver esse clássico tão divertido Empolgante do início ao fim, não perde o tom em nenhum momento Melhor ainda foi ter as surpresas de ver Kirsten Dunst e Bebe Neuwirth de antigamente ♥♥, Sentiment  : 'positive'\n",
            "Review text: Não achei tão bom assim Acho o Swayze muito inexpressivo, e a Demi Moore me parece até um pouco convincente caramba, ela tá muito linda Pra mim, é a Whoopi Goldberg quem salva e torna o filme assistível, Sentiment  : 'negative'\n",
            "Review text: Caramba, fazia tempo que não curtia tanto uma animação O ar sombrio do filme é muuito o estilo Tim Burton Amei, sem mais, Sentiment  : 'positive'\n",
            "Review text: Adoro esse filme, um clássico, muito divertido, Sentiment  : 'positive'\n",
            "Review text: Resumo do filme Diana quer matar alguém Steve não deixa Diana quer salvar as pessoas afetadas pela guerra Steve não deixa Diana quer entrar na festa e matar o cara numa tentativa de acabar com a guerra mais rápido Steve não deixaA pessoa fica o filme inteiro impedindo uma amazona< de fazer as coisas E EM ALGUMAS OCASIÕES ELA OUVE, Sentiment  : 'negative'\n",
            "Review text: O capítulo com Uma Thurman é a pérola desse volume, Sentiment  : 'positive'\n",
            "Review text: Confuso e cansativo, Sentiment  : 'negative'\n",
            "Review text: Não muito longe do nosso tempo a condição vivida lá, Sentiment  : 'neutral'\n",
            "Review text: Filme cool e diferente de tudo que eu já vi, saímos do filme meio que maravilhado Torcendo sempre pra que o herói consiga salvar o mundo como se tivéssemos vendo um desenho animado muito bem elaborado ou uma história em quadrinhos É divertido, é violento, é jovem, porém maduro Excelente pedida de entretenimento e envolvente do começo ao fim Pra relaxar, parecendo uma paródia dos filmes de espionagem mas com muita propriedade e características únicas Cão bonito Como se chama JB Iniciais de James Bond Não Jason Bourne Não Jack Bauer Ahhhhhh HAHAHAHAHAHAHHAHAHA, Sentiment  : 'positive'\n",
            "Review text: Eu me sinto ridícula por ter assistido só agora e não ter assistido nos cinemas Nunca chorei tanto na minha vida /, Sentiment  : 'negative'\n",
            "Review text: Vai depender do espectador Se você é do tipo que gosta de roteiros rocambolescos, de coincidências inacreditáveis acontecendo a todo momento e de planos ultramegamirabolantes que dão certo e de personagens quase irreais de tão burros ou de tão fodásticos então esse é seu filme Se você gosta, mesmo numa ficção, de um minimo de bom senso ou de situações que tenham um minimo de base na realidade e personagens mais humanos no sentido de reais passe longe, Sentiment  : 'negative'\n",
            "Review text: A história do filme é muito boa, bem como as atuações, cenários, fotografia, enfim A parte que eu achei mais fraca foi o fim, a cena final foi muito estranha, ao meu ver Não necessariamente pelo o que aconteceu, mas acho que o final poderia ser mais elaborado De todo modo, vale muito a pena assistir, Sentiment  : 'positive'\n",
            "Review text: Perfeitamente um Trash, Sentiment  : 'positive'\n",
            "Review text: A história é legalzinha, mas valeu mais pela ação, Sentiment  : 'neutral'\n",
            "Review text: Gostei bastante, o filme conseguiu sair da mesmice que os filmes de vampiro tem O desenvolvimento dos personagem é super interressante Eu super indico, Sentiment  : 'positive'\n",
            "Review text: You must close your eyes Otherwise, you won't see anything Essa é, sem dúvidas, a melhor adaptação da obra de Lewis Carroll Tudo aqui é característico de Jan e talvez por isso eu nem tenha me importado muito com as mudanças no roteiro As aventuras surreais de Alice retratadas da forma mais estranhamente bonita possível, Sentiment  : 'positive'\n",
            "Review text: Uma grande produção; se os atores não falassem francês pareceria um daqueles melodramas hollywoodianos de intenso sofrimento e superação final Mas como é dirigido por Jacques Audiard, um diretor com filmes quase sempre acima da média caso deste também então temos uma história longa, é verdade, mas que prende o interesse a maior parte do tempo Desempenhos excepcionais do casal principal Marion e Mathias Muito bom, Sentiment  : 'positive'\n",
            "Review text: Jamais vou esquecer da amizade entre o Leon e Mathilda Natalie Portman dando seus primeiros passos no cinema, já chamava a atenção Agora, a atuação de Gary Oldman como um policial viciado é de tirar o chapel, Sentiment  : 'positive'\n",
            "Review text: Muito Bom, Sentiment  : 'positive'\n",
            "Review text: De Volta para o Futuro 3 é de fato uma terceira parte de uma trilogia de sucesso possíveis spoilers a partir daqui O seu maior mérito é fechar as pontas soltas, resolvendo o arco dramático principal da vida de Marty McFly Chega a ser engraçado que o Dr Emmett Brown fale tanto dos problemas que podem ocorrer caso mude o futuro, mas toda a trilogia funcione para melhorar a vida do garoto e sua família Seu pai deixou de ser um babaca dominado por Biff, sua mãe, seus irmãos estão melhores e ele aprendeu muito com as experiências, não irá mais cometer os erros que cometeria tendo um futuro aparentemente brilhante pela frente Não deixa de ser uma grande história Um marco para toda a vida Encerra a trilogia de forma perfeita, sendo outro também excelente filme, Sentiment  : 'positive'\n",
            "Review text: Tô super apaixonado pela Rachel McAdams após assistir Questão de Tempo O filme pode ser inverossímil, mas é muito gostoso de acompanhar e o final faz você refletir bem sobre como você lida com a sua vida Um filme bem despretensioso, gostei bastante, Sentiment  : 'positive'\n",
            "Review text: O enredo não é mil maravilhas, mas explorou tudo que dava para ser explorado, fotografia, efeitos, trilha sonora tudo perfeito Me arrependi de não ter visto ele no cinema, Sentiment  : 'positive'\n",
            "Review text: Inesquecível esse filme, muito bom Quem não viu não sabe oq está perdendo, Sentiment  : 'positive'\n",
            "Review text: Simplesmente D+ o jeito que as historias vao se ligando imperdivel, Sentiment  : 'positive'\n",
            "Review text: Depois de muito orgulho e negação, acabei vendo ao chegar bêbado em casa Não surpreende, é um filme imbecil, mas é engraçado Não sou muito fã de filme de heroi, e depois de O Cavaleiro das Trevas, acho que posso considerar esse um dos melhores, Sentiment  : 'positive'\n",
            "Review text: Quero muito muito ver, Sentiment  : 'neutral'\n",
            "Review text: Achei show Como já havia assistido o original, estava aguardando ansiosa este remake E achei que ficou super dentro do proposto mistura de suspense, drama e comédia Estou aguardando a continuação, Sentiment  : 'positive'\n",
            "Review text: LINDO FILME A HISTÓRIA É EMOCIONANTE E A FOTOGRAFIA UM ESPETACULO JULIE WALTERS ATUA COMO NINGUÉM LINDO, ESTUPENDO, Sentiment  : 'positive'\n",
            "Review text: Gosto desses filmes sobrenaturais simples, com atmosfera, mas esse aqui poderia ser um pouco melhor Acho que ele peca um pouco no desenvolvimento, pois a coisa demora a engrenar Ainda sim é bacaninha e vale uma conferida -A cena onde a menina se esconde na floresta e a bruxa se contorce é muito boa Agora é que ela vai sofrer mesmo Matou a própria mãe, Sentiment  : 'negative'\n",
            "Review text: Ótimo, para animação, Sentiment  : 'positive'\n",
            "Review text: Muito foda, honrra literalmente o nome, Sentiment  : 'positive'\n",
            "Review text: Lembrei deste filme ao comentar Gravidade, alguem la sugeriu um final que me trouxe até aqui Em comum os dois tem a mensagem tanto no espaço quanto no mar se vc brincar e não tiver sorte, morre, Sentiment  : 'positive'\n",
            "Review text: Simplesmente o maior filme de faroeste da história e um dos maiores de todos os tempos, entre todos os gêneros de filmes, Sentiment  : 'positive'\n",
            "Review text: superou o primeiro em história Final muito surpreendente, Sentiment  : 'positive'\n",
            "Review text: Se você em 2003 eu daria 4 estrelas, Sentiment  : 'positive'\n",
            "Review text: Faz tudo certinho, tem boas reviravoltas algumas previsíveis , traz elementos novos apesar da similaridade do tema com o antecessor, mas sua maior marca é pavimentar o caminho para definir toda a história que permeia a franquia desde os anos 60 Leia a crítica completa e várias curiosidades na seção de Notícias do Filmow, Sentiment  : 'positive'\n",
            "Review text: Legal o filme, Sentiment  : 'positive'\n",
            "Review text: Hello stranger, Sentiment  : 'negative'\n",
            "Review text: Esse filme é o melhor nacional Num sei, só sei que foi assim DIUSAHDIAUSHDIUASHDIUSADSA, Sentiment  : 'positive'\n",
            "Review text: Me surpreendeu muito Estava com a expectativa bem baixa para esse filme, mas todas as metáforas muito bem colocadas e a maneira de contá-las foram muito boas Ang Lee e a equipe merecem os parabéns, Sentiment  : 'positive'\n",
            "Review text: Tenho que admitir que demorei pra entender e ver a beleza da história Esses últimos minutos são simplesmente a alma do filme e provavelmente vai permanecer na minha de agora em diante Acho fantástico como eles conseguiram fazer com que a cor azul virasse uma alusão a melancolia de Julie Misturando isso, com a trilha sonora, PIMBA , paixão na certa A cena do versículo acabou comigo Um filme difícil Um filme pra poucos, Sentiment  : 'positive'\n",
            "Review text: Meu filho adolescente tinha um trabalho escolar para entrega e o filme O Patriota, era uma referência ao qual ele precisava para fazer o trabalho, aproveitei e compartilhei esse momento com ele e ambos, amamos a história do filme A coragem, a ousadia e o amor que Benjamin Martin, teve por seus filhos, por sua pátria e por sua vida, foi muito gratificante de se ver Nota 9 0 Ótimo Data 17/08/2015 ás 19hs 26min, Sentiment  : 'positive'\n",
            "Review text: esse filme mostra o que é Força de Vontade 2, Sentiment  : 'neutral'\n",
            "Review text: Confesso que esperava um pouco mais do filme, mas eu gostei sim muito bom de assistir Maravilhosa interpretação da Saoirse, Sentiment  : 'positive'\n",
            "Review text: Tóxico, clinicamente preciso, melancólico e belo Estou extasiado A Amy Adams foi assaltada pela academia em 2017, Sentiment  : 'positive'\n",
            "Review text: Outro que morri de chorar, Sentiment  : 'negative'\n",
            "Review text: Tirando a parte de o príncipe ser um extrema idiota, gostei muito, Sentiment  : 'positive'\n",
            "Review text: Assisti uns 30 minutos e achei um saco e mudei de canal Uma musica ou outra é legal, vou tentar assistir inteiro pra ver se mudo de idéia, mas confesso que acho muito difícil isso acontecer, Sentiment  : 'negative'\n",
            "Review text: Que final FDP Terminou o filme e ficou todo mundo sem saber o que vai acontecer Isso é injusto hahaha, Sentiment  : 'negative'\n",
            "Review text: O filme é genial O elenco é perfeito, roteiro de mestre Um filme bastante complexo, a ideia de ter um sonho dentro de outro é impressionante Os efeitos especiais colaboram muito para as 2 30 passarem rapida e proveitosamente Muito bom mesmo uma criação de genio, Sentiment  : 'positive'\n",
            "Review text: Achei a fotografia muito linda e o final tão maravilhoso, Sentiment  : 'positive'\n",
            "Review text: BELÍSSIMA PELÍCULA UM ENREDO INCRIVELMENTE ESPETACULAR UM ROTEIRO BEM INTRICADO 1 CAST IMPECÁVEL ENFIM UMA NARRATIVA FENOMENAL POREM FANTÁSTICA ORA ENIGMATICA ORA OBSCURA REPLETA DE MAGIA SENSUALIDADE E SEDUÇÃO POREM AO MEMO TEMPO FEITA SOB MIDIDA PARA TODA hÀ FAMILIA ISSO SEM FALAR NA DIREÇÃO DE ARTE EXCEPCIONALMENTE MAGISTRAL NA FOTOUGRAFIA FABULUZA TRILHA SONORA PRIMOUROZÍSSIMA ENFIM UMA PRODU~ÇAO FEITA SOB MIDIDA PARA TODA A FAMILIA, Sentiment  : 'positive'\n",
            "Review text: Por queTobey Maguire e Kirsten Dunst não serão mais os protagonistas, Sentiment  : 'neutral'\n",
            "Review text: Olha eu aqui favoritando mais um filme de romance quem diria porém este não é só mais um filme de romance, Simplesmente Acontece vai muito além de uma simples história de amor Diferente do livro que conta a história em 45 anos este conta em 12 anos, com total excelência pois um dos pontos fortes do filme é o roteiro que conseguiu ter começo, meio e fim, muito bem executados e com um elenco lindo O que me deixou fascinado no filme Muitas coisas, como por exemplo; Amizades que surgem em momentos inesperados com pessoas que não tem nada haver; Planos da juventude mudados a força com decisões que mechem com qualquer ser humano e muda completamente a vida de quem passa por isso Rosie Lily Collins experimenta do mau ao pior durante o longa e brilha estupendamente nos momentos lindos e bons do filme que não é só tragédia claro, é como uma montanha russa que te levasse várias emoções a todo instante O filme ensina tanta coisa como já disse, perdas, ganhos e o amadurecimento interno que temos ao longo da vida, o crescimento externo etc As oportunidades de sermos felizes que desperdiçamos é o tema principal e as consequências que fugir do nosso destino pode trazer também nada irreversível, tudo plausível, com um propósito, como peças de Lego sendo montadas sem nenhuma, Sentiment  : 'positive'\n",
            "Review text: Cuidado com a garra galera, Sentiment  : 'neutral'\n",
            "Review text: Desde as primeiras informações, desde as primeiras imagens, os primeiros teasers, eu venho contando cada segundo para ver este q seria o primeiro Western de fato de Tarantino quem o acompanha sabe que o estilo é uma forte influencia em sua forma de fazer cinema, além de filmes chineses de porradaria Django Livre, não é livre a toa Ele é um western, mas é um western aos modos de Tarantino se ele mudou a história da segunda guerra mundial, colocando judeus enchendo Hitler de bala, why not dar seu pitaco no velho oeste Christoph Waltz, DiCaprio, Samuel L Jackson e Jamie Foxx PRECISA DIZER MAIS ALGUMA COISA Christoph Waltz mais uma vez rouba o filme pra si enquanto está em cena Um personagem mto malandro, convencendo a todos com historias q ninguem pode confirmar, DiCaprio cada vez mais insano nos filmes q vem fazendo, nesse, chega a dar medo de sua vilania, Samuel L Jackson está cabulosamente divino em sua interpretação Jamie Foxx HUMILHA na pele de Django O filme conta com uma trilha sonora mto foda, mtas vezes desencontra com o visual do filme, mas é Tarantino, vc entende a insanidade ^^Sangue é o que não falta nesse filme tbm, vc vai checar sua roupa pra ver se não ficou melado, fico imaginando se fosse 3D hahahahahahaSe vc curte o trabalho do diretor, Sentiment  : 'positive'\n",
            "Review text: Tenso até chorei James Franco simplesmente arrasou, Sentiment  : 'neutral'\n",
            "Review text: quando o filme foi chegando no final eu nao queria que acabasse nunca e quando acabou, fiquei olhando os créditos subirem pensando em como existem filmes fodas que valem muito a pena assistir, Sentiment  : 'positive'\n",
            "Review text: Maravilhosa, deixa o primeiro pra traz com toda certeza, o filme me encantou com os efeitos especiais que me fez virar fã do diretor, que venha o 3° então né kkkk, Sentiment  : 'positive'\n",
            "Review text: Filme sensacional com uma mescla de elementos e imagens incríveis Filme de reflexão com uma abordagem completamente diferente, de uma sensibilidade fantástica, Sentiment  : 'positive'\n",
            "Review text: muito bom como é gostoso ver um filme dos coen essa fluidez narrativa característica deles combinou com o conceito só queria que fosse tudo mais longo, Sentiment  : 'positive'\n",
            "Review text: Simplesmente lindo, Sentiment  : 'positive'\n",
            "Review text: Chorei uma cascata, daria pra matar a sede do nordeste inteiro, se a lágrima não fosse salgada, Sentiment  : 'negative'\n",
            "Review text: Esse roteiro é maravilhoso, agora entendo porque Bette ficou apaixonada por ele Talvez porque seja algo que comumente acontece na vida de grandes estrelas como ela a amizade por interesses, Sentiment  : 'positive'\n",
            "Review text: Melhor referência de Chaplin Ele fez da alienação da Revolução Industrial uma coisa brilhante, Sentiment  : 'positive'\n",
            "Review text: Muito fofo, mas continuo preferindo o primeiro, Sentiment  : 'positive'\n",
            "Review text: Quando a genialidade de Kubrick se encontra com o razoavel talento de Spielberg Uma especie de conto de fadas moderno, emocionante em algumas partes mas em sumo, peca pela longa duração e por dar muitas voltas em torno de si mesmo mas ainda sim é um bom filme, Sentiment  : 'positive'\n",
            "Review text: 3d vale a pena galera, Sentiment  : 'positive'\n",
            "Review text: quero muito ver, Sentiment  : 'positive'\n",
            "Review text: Sensacional Espetacular Emocionante Além do mais, ver o Jackman atuando, não é nada ruim hehe, Sentiment  : 'positive'\n",
            "Review text: Meu filme favorito, Sentiment  : 'positive'\n",
            "Review text: Gostei muito, li o livro primeiro e achei o filme bem fiel, é um caso raro em que não mudaram totalmente a história, Sentiment  : 'positive'\n",
            "Review text: Usuário temporariamente bloqueado por infringir os termos de uso do Filmow, Sentiment  : 'neutral'\n",
            "Review text: Magnífico, lindo, contagiante Cura até tristeza crônica, Sentiment  : 'positive'\n",
            "Review text: Paul Dano nasceu pra se fuder em todo filme, o coitado ahhahaha filmaço, só pelas atuações espetaculares merece reconhecimento Voce sente o desespero angustiante de um pai que pode OU não ter perdido a filha roteiro muito bem escrito e muito bem aproveitado, realmente merecia mais indicações, Sentiment  : 'positive'\n",
            "Review text: Não gosteiiiiii, Sentiment  : 'negative'\n",
            "Review text: na verdade eu vi mais ou menos, porque dormi mas o que eu consegui ver, achei bacana, Sentiment  : 'positive'\n",
            "Review text: Excelente animação, pouquíssimas falas no mesmo estilo de Bicicletas de Belleville e o Meu Tio que é homenageado na cena do cinema Mas fiquei com a sensação de que é um curta gigante, não sei bem explicar isso Talvez o motivo seja que o roteiro é muitíssimo simples e passa suas mensagens apenas pelas imagens, igual a diversos curtas de animação Não tem tantas situações nonsense igual o Bicicletas de Belleville, também tem situações engraçadas mas é muitíssimo mais triste, bastante melancólico, porém cativante Indico pra qualquer um que realmente gosta de animações tirando as crianças, Sentiment  : 'positive'\n",
            "Review text: Eu adoro a Vera Farmiga, já é um bom motivo pra assistir Sou bem suspeita também, porque acho divertido filmes desse tipo, por mais clichê que seja Todo mundo sabe que quando o clichê é bem trabalhado, o filme sai bom, Sentiment  : 'positive'\n",
            "Review text: Filme que já vi várias vezes, e que é sempre bom rever Pra mim o melhor filme de guerra ainda To na espera ainda de algum superá-lo, tem sido difícil Fora que o elenco é sensacional também, Sentiment  : 'positive'\n",
            "Review text: We are the filthiest people alive, Sentiment  : 'positive'\n",
            "Review text: Já assisti 4 vezes e cada vez eu choro mais Depois do filme, normalmente, fico com dor de cabeça e eu vou tomar banho e choro durante o banho inteiro É uma coisa de louco, Sentiment  : 'positive'\n",
            "Review text: Fiquei uma semana falando desse filme sem parar, Sentiment  : 'neutral'\n",
            "Review text: É um filme sobre escolhas Fica fácil de entender se vc presta atenção na explicação sobre a Teoria das Cordas, o Big Bang, logo no início do filme A história mostra todas as possibilidades de realidade diante de uma escolha no caso do personagem principal era escolher se ficaria com o pai ou com a mãe após a separação Vale a pena ver, até porque a trilha sonora é bem legal, Sentiment  : 'positive'\n",
            "Review text: Falar que os efeitos são bons é chover no molhado Filme bem legal, Sentiment  : 'positive'\n",
            "Review text: Gostei mas, poderia ser melhor, Sentiment  : 'positive'\n",
            "Review text: Um amor de filme Senti como se a blake fosse feita pro papel e bem gostoso de assistir, Sentiment  : 'positive'\n",
            "Review text: Se o objetivo era deixar minha mente perturbada, o diretor teve exito Percebi também que o filme contém uma riqueza de símbolos sutis que contam sua própria história, o que deixa tudo ainda mais apavorante Então o Black Philip na verdade era o satanás, e fez tudo aquilo com a família para conseguir a alma da Thomasin Talvez isso seja a unica coisa que não me agradou muito, a maior parte do tempo do filme o diretor trabalha com a sugestão, deixando os telespectadores loucos, sem saber se tudo aquilo era loucura ou algo sobrenatural Mas não que isso tenha diminuído a qualidade da obra, Sentiment  : 'positive'\n",
            "Review text: Eu gostei do filme, entregaram o que era esperado, mas não mais que isto Porém faltou a musiquinha da mulher maravilha no momento de ação dela no começo do filme Gostei do Flash, merece um filme solo Aquaman inútil no filme, mas é lindão , e o Batman é só rico mesmo rs, Sentiment  : 'positive'\n",
            "Review text: Cá temos um filme médio de Tim Burton Um cara com uma excelente média, mas com alguns furos brabos na carreira Neste aqui parece que vemos o Burton de sempre, com seus trejeitos de Direção Uma história interessante, mas que acaba sendo um filme mais ou menos N˜åo li o livro ainda, quem leu fala que não houve muita fidelidade com o material original Interessante Terei na minha Coleção, mas não esperarei o lançamento ansioso, Sentiment  : 'negative'\n",
            "Review text: Obra fantástica, não é de admirar que Stephen King seja a mente brilhante da história E lembrar que um clássico desses e eu ainda não havia assistido Valeu a pena ter acompanhado antes de morrer, pq afinal as vezes a morte é o melhor, Sentiment  : 'positive'\n",
            "Review text: 5 estrelas pela maneira divertida e musical que a história é contada, fora que eu gosto muito das músicas desse desenho D, Sentiment  : 'positive'\n",
            "Review text: Como ação é 10 Como história é 2, Sentiment  : 'neutral'\n",
            "Review text: Acho que faltou mais batalhas no filme, Sentiment  : 'negative'\n",
            "Review text: Nada pior do que o poder do jovem Nelson conta em várias colunas suas que mães são espancadas pelos filhos, num claro excesso estilístico, comum em sua obra, que visa descrever um evento moderno a razão da idade Os jovens sempre têm razão porque são jovens, e com isso se destrói a própria possibilidade da juventude, que é se enganar e pedir desculpas pela falta de experiência de vida De Nelson para cá a situação só piorou Psicólogos, sociólogos, filósofos, pais e mães, padres, todos temem o jovem Justificam-no em sua ignorância normal de jovem Mães que querem aprender com as filhas, deixando estas ao sabor do desespero do envelhecimento Toda mãe que quer parecer a filha mata o futuro da filha, mostrando que ela será uma ridícula como a mãe o é agora O discurso da morte da família é o discurso da morte da juventude A invenção do direito de ser jovem inaugura o direito da imaturidade como lei no mundo A única possibilidade de alguém ser jovem é que alguém o diga que está errado, que nada sabe Por isso, Nelson repete várias vezes que, quando indagado sobre o que teria a dizer aos mais jovens, ele dizia envelheçam Mas quando envelhecer é apodrecer como em nossa época, em que todos querem ser jovens para sempre , não há futuro para os mais jovens Na verdade, Sentiment  : 'neutral'\n",
            "Review text: GENIAL, Sentiment  : 'neutral'\n",
            "Review text: O filme é ótimo, tem um bom ritmo, surpresas, reviravoltas, um thriller básico com um terror muito inteligente Não precisa ser fantasma, encosto, demônio ou qualquer coisa sobrenatural para ser terror, mas basta apenas mostrar o lado sórdido e sombrio de um humano para ser um dos melhores filmes do gênero na última década pelo menos, Sentiment  : 'positive'\n",
            "Review text: Fui sem expectativa nenhuma assistir Guardiões da Galáxia Não conhecia nada dos personagens apesar de já ter lido muita coisa do Universo Marvel nem do mote da história Conhecia apenas sua trilha sonora, não por causa do filme, mas sim por já conhecê-las e gostar delas Era a única parte que desejava que o filme não pecasse sua trilha sonora Não podiam estragar músicas tão boas E a trilha é a parte mais sensacional do filme Funcionam perfeitamente com os momentos, te animam e auxiliam na construção dos personagens e de suas relações Mesmo assim, Guardiões da Galáxia sofreu de um problema que a maior parte dos outros filmes da Marvel também pecou, pelo menos para mim ele não consegue fazer você entrar na história Você não fica imerso naquele mundo que é sensacional e muito bem construído E isso é algo péssimo para um filme Você se diverte, entende a história, gosta dos personagens mas não entra naquele mundo O tempo todo você tem noção de que está diante de uma televisão ou uma tela de cinema, que quando o filme acabar basta desligar a televisão ou levantar da poltrona e ir embora Ele não te tira da realidade e te transporta para outro universo como deveria fazer O que me fez gostar mais de Guardiões da Galáxia foi que , diferente dos outros filmes como, Sentiment  : 'positive'\n",
            "Review text: Com todo respeito a todas as pessoas que não gostaram do filme porque acharam FRACO DEMAIS Jesus indiquem uns melhores por favor Tipo, sou fã de filmes de terror, e se tem algo melhor que Shutter por favor FALEM, Sentiment  : 'positive'\n",
            "Review text: Essa água salgada nos meus olhos me fez chorar, Sentiment  : 'neutral'\n",
            "Review text: Muito bom Ótimas atuações, muito bem produzido e é bem fiel ao livro, sem contar que garante algumas risadas, Sentiment  : 'positive'\n",
            "Review text: A musiquinha, a musiquinhaaaaaaa Quando Maria Elena é que o filme começa mesmo Acho que foi a primeira vez que vi um filme do Woddy Allen, talvez Meu primeiro filme sem legendas \\o/, Sentiment  : 'positive'\n",
            "Review text: lindo, Sentiment  : 'positive'\n",
            "Review text: O filme é praticamente um diário de um personagem deplorável e infelizmente bastante humano Os monólogos do protagonista são odiosos mas representam fielmente o pensamento de muitas pessoas Além de seus conflitos serem muito bem explorados e desenvolvidos Enfim, gostei mas confesso que esperava mais por gostar tanto do cinema visceral de Gaspar Noé, Sentiment  : 'positive'\n",
            "Review text: As letras na placa do carro ELX, Sentiment  : 'neutral'\n",
            "Review text: Onde acho pra baixar O melhor da telona nao ta funcionando o link, Sentiment  : 'neutral'\n",
            "Review text: Alguns dizem Não gostei da violência ou Não gosto de filme brasileiro , se esquecendo de ver e avaliar primeiro, a violência foi o tema forte pra chamar atenção e ter roteiro e que roteiro , fotografia e iluminação concisa pra um filme que não é só brasileiro e de violência, mas deve ser reconhecido como um exímio trabalho cinematográfico, Sentiment  : 'positive'\n",
            "Review text: Oohh Que final trágico, Sentiment  : 'negative'\n",
            "Review text: melhor filme da minha vida, Sentiment  : 'positive'\n",
            "Review text: A crítica que a disney fez com as próprias princesas foi demais, Sentiment  : 'neutral'\n",
            "Review text: Não Teve um Filme que Já Me Fez Chorar Alguma VezMas Esse Pela Primeira Vez Coseguiu Chorei Muito , Principalmente no Final, Sentiment  : 'neutral'\n",
            "Review text: Viggo Mortensen recebeu merecidamente sua segunda indicação ao Oscar de melhor ator neste grandioso e criativo filme independente, uma das melhores produções americanas de 2016 Ele faz um pai libertário, que abandonou a cidade para viver de forma primitiva na floresta, onde cria seus seis filhos, de idades bem distintas Isolados do contato humano exceto da própria família, eles possuem nomes diferentes, uma mistura de apropriação indígena com mitologia nórdica Bodevan, Kielyr, Vespyr, Zaja, por exemplo e praticam rituais de passagem para a vida adulta, como comer o fígado de animais que caçam no mato O pai ensina os filhos na defesa pessoal, treinamentos para escalar montanhas, proteção uns aos outros, todos são expert em caça, plantio e cultivo, com mínimos traços de consumo como um rádio na cabana onde vivem e livros técnicos Fechados como um clã, são críticos ferrenhos ao American Way of Life e ao capitalismo Ele adultiza os filhos, fala abertamente sobre sexo, política, teorias de Física, e no seio do ambiente familiar, as três crianças e os três jovens aprendem e reproduzem, ou seja, o pai desperta neles o senso crítico, de autovigia e autoavaliação para argumentar e refletir qualquer assunto que esteja presente no cotidiano da floresta Esta é uma das, Sentiment  : 'positive'\n",
            "Review text: Fragmentado é a prova definitiva que Shyamalan é um bom diretor Atuação primorosa do McAvoy O modo como interpreta as diferentes personalidades, os trejeitos, a voz, postura Só mesmo um grande ator para dar conta da tarefa, difícil, aliás Outro destaque é Anya Taylor-Joy vindo do ótimo A Bruxa , que consegue subverter o papel de mocinha , o que gera grandes embates e um jogo de quebra-cabeça Split é o que melhor representa no cinema do diretor uma premissa simples transformada em um grande filme Porque no fundo, M Night sempre foi um bom contador de histórias deixado bem claro pelo próprio diretor, fã do Steven Spielberg , que no caminho pode ter derrapado por ele mesmo, inclusive por não conseguir transpor as suas ideias do papel para as telonas A Dama na Água e Fim dos Tempos são os maiores exemplos , acarretando filmes bem pensados mas mal executados Aqui, até comete alguns deslizes pequenos, como a falta de time por ex porém transforma pequenas ambientações e poucos personagens há durante quase todo filme no máximo 5 personas em cena em algo maior do que si E no fundo, o longa trata sobre isso ser maior do que se é É sim até certo ponto previsível, mas engana-se quem espera ou esperava ao menos reviravoltas, um dos melhores suspense lançado nos últimos, Sentiment  : 'positive'\n",
            "Review text: Toda vez que eu vejo, eu choro E toda oportunidade que eu tenho também faço outra pessoa chorar, Sentiment  : 'negative'\n",
            "Review text: Uma sucessão de erros Todos estão errados Não vamos falar quem está mais ou menos errado Um trágico desfecho Muito triste ver que anos se passaram e não consegui ver melhora alguma em ambos os lados Até onde vamos parar Essa pergunta sempre me dá medo, Sentiment  : 'negative'\n",
            "Review text: aff John e George devem ter se revirado no túmulo Nâo sei onde Paul e Ringo estavam com a cabeça quando liberaram os direitos Pelo amor Esse filme é tudo que os Beatles não são Tosco, brega e previsível Destaque para aquele final sem noção de todos cantando all you need is love e comovendo os guardas Lembro que quando assisti, o cinema inteiro riu nessa parte, Sentiment  : 'negative'\n",
            "Review text: Gente, me faltam palavras para descrever esse filme, uma verdadeira obra prima Me atreveria dizer que é o único filme que eu já assisti que retratar o verdadeiro amor E que me perdoe a Jennifer Lawrence, mas quem sabe a hora dela ainda esteja por vir, mas pra mim o Oscar de melhor atriz esse ano deveria ser merecidamente da Emmanuelle Riva, QUE ATUAÇÃO Não sei se leva melhor filme na minha opinião porque ainda me falta assistir dois dessa categoria O filme é maravilhoso, transborda arte, emoção e amor Fiquei pensando durante o filme em como a vida é, quando se é jovem tudo que temos é os nossos pais e depois tudo que temos e o nosso companheiro esposo ou esposa daí a importância de saber a definição de amor e ter o privilégio de saber escolher aquele que vai dividir uma vida com você Que história maravilhosa, estou encantada e ainda digerindo o filme ♥, Sentiment  : 'positive'\n",
            "Review text: Filme tão criticado, não entendo por que, prende e diverte do início ao fim, Sentiment  : 'positive'\n",
            "Review text: Básico uma frase Ja vi isso em algum outro filme, Sentiment  : 'neutral'\n",
            "Review text: Ao final da sessão as crianças saindo risonhas e os pais pensativos A crítica à sociedade retratada no filme é muito inteligente, a temática sobre racismo e questões de gênero veio muuuuito a calhar Por mais animações assim, Sentiment  : 'positive'\n",
            "Review text: A tribo de ursos de pelúcia a melhor adição do filme aaaa Não sabia que o darth vader morria e nem que ele tinha um momento de bondade no fim da vida, isso, felizmente, eu não tido lido por aí Eu amo esses androides demaissss jasdajwafj alívio cômico de star wars junto com o chewbacca, Sentiment  : 'positive'\n",
            "Review text: um filme Perfeito bem simples e muito emocionante e triste ao mesmo tempo, Sentiment  : 'positive'\n",
            "Review text: Se você quiser manter sua sanidade, não assista a esse filme sobre a influencia de psicoativos pesados Sozinho trancado no seu quarto você encarna o papel de Pink e tudo mais ou menos, Sentiment  : 'neutral'\n",
            "Review text: Melhor filme que já vi, Sentiment  : 'positive'\n",
            "Review text: A voz de Cate consegue ser tão maravilhosa que arrepia a alma Tão maravilhosa quanto sua atuação Muito ansiosa para assistir a este filme, Sentiment  : 'positive'\n",
            "Review text: Essa risada no final do Trailer, MUA HA HA HA HA, Sentiment  : 'positive'\n",
            "Review text: Kubrick insano e ousado, essa é a definição deste filme Tudo é muito louco personagens, linguagem, ambientes, figurino, história, etc Imagino como este filme deva ter chocado o publico na década de 70 muita nudez feminina, sexo, quadros e objetos eróticos, etc Assistindo em 2014 muita coisa aparece como trash, usando as palavras do protagonista, um horrorshow E as mulheres de cabelo colorido E o método Ludovico E aquele olho colado na manga do cara Muita insanidade num filme só Talvez se eu tivesse visto em 1971 eu tivesse outra impressão, a impressão da ousadia 3,5 pela ousadia e não pelo filme em si, Sentiment  : 'negative'\n",
            "Review text: Estou simplesmente apaixonado por esse filme Um total feel good movie Adorei o fato que exploraram a condição do Trevor de forma bastante divertida Os personagens são maravilhosamente humanos Você consegue se identificar com cada um deles e as situações que estão passando Achei aquela cena do parto muito linda e poética O nascimento do bebê, foi de certa forma uma maneira do Ben deixar o seu passado para trás, toda a tragédia que passou com o seu filho Uma nascimento, um recomeço Tenho que expressar aqui como estou orgulhoso da Selena Sou fã dela tem muitos anos e sempre acreditei no potencial dela Dot foi a melhor personagem/atuação de sua carreira Torço para que ela continue fazendo boas escolhas de filmes You know what you are Handsome and cool, Sentiment  : 'positive'\n",
            "Review text: Fantástico,bem mais assustador que o ramake, Sentiment  : 'positive'\n",
            "Review text: Um filme de esporte que tem um bom drama baseado em fatos reais com boa atuação de Denzel Washington, Sentiment  : 'positive'\n",
            "Review text: Me deu sono não consegui terminar, Sentiment  : 'negative'\n",
            "Review text: Gente, que filme perfeito Estou apaixonada, somente, Sentiment  : 'positive'\n",
            "Review text: apesar de não ser cem porcento fiel ao livro, e de ter uma falha ou outra no enredo, foi o desfecho que todo mundo esperava não tem como não se emocionar e não pensar nesses 10 anos em meio a livros e filmes e trocas de diretores não tem como não lembrar daquele harry do chris columbus encantando olhando pela primeira vez o beco diagonal não tem como não lembrar de todas as idas aos cinemas, as vezes que passamos noites e mais noites devorando os livros é o fim de um ciclo na vida de muita gente Pra sempre Potter Generation, Sentiment  : 'neutral'\n",
            "Review text: Vi esse no cinema Marcou minha infância, Sentiment  : 'positive'\n",
            "Review text: Se arrependimento matasse Estou aqui me perguntando o motivo de ter esperado quase sete anos após o lançamento desse maravilhoso Wall E para conferir o filme E meu Deus, posso dizer que estou apaixonado Maravilhoso do começo ao fim Wall E me conquistou já em sua primeiríssima aparição, muito dócil, muito inocente É incrível como a Disney/Pixar consegue criar personagens e sequências iniciais que rapidamente nos fazem babar por eles E eu adoro isso Em seguida, surge a Eva e fica ainda melhor Não consegui conter a ansiedade com o excesso de fofura do Wall E tentando chamar a atenção dela E isso sem falar uma frase completa É de se admirar A história do filme é muito boa também Uma crítica ao consumismo muito bem aplicada, e que, infelizmente, está cada vez mais predominante É até um choque ver os humanos conversando por telas quando estão a menos de um metro de distância um do outro Só está faltando isso acontecer mesmo O final foi lindinho Eu já estava com lágrimas nos olhos por Wall E retornar sem ser aquela criatura adorável que tinha criado consciência anteriormente Fiquei até arrepiado quando ele finalmente reconheceu a Eva Sério, lindo, lindo, muito lindo Direção ótima, roteiro maravilhoso praticamente sem diálogos e uma trilha sonora excepcional Wall, Sentiment  : 'positive'\n",
            "Review text: muita sacanagem os diálogos em alemão, nunca vou saber se perdi algo importanteé bem diferente do original, nem considero remakeem geral gostei muito, mas o que me incomodou é que muitas cenas ritualísticas do trailer não tiveram desenvolvimento, foram só flashs rápidos em sonhos /, Sentiment  : 'positive'\n",
            "Review text: Comecei a assistir, me assustei com essas 2h10m, Sentiment  : 'neutral'\n",
            "Review text: Engraçado a galera colocando a regua anos 2000 em um filme dos anos 80, época que as pessoas tinham outra mentalidade e não faziam a minima noção , zero, zero noção de como as coisas seriam hoje, Sentiment  : 'negative'\n",
            "Review text: Alguém sabe aonde posso encontrar outros filmes desses diretores para assistir ou baixar Gostei bastante de Good Time, mas percebi que é difícil encontrar os outros filmes dos irmãos Para não violar qualquer termo, podem enviar inbox pelo Facebook Obrigado desde já, Sentiment  : 'positive'\n",
            "Review text: A liberdade é azul, Sentiment  : 'positive'\n",
            "Review text: Em essência, é um filme bem humorado com bons atuares e atuações -principalmente mirins e com tendências a lição de vida, a partir dos principais temas comuns, da família, da amizade e da descoberta de seu verdadeiro eu, visto que, de forma mais original e universal, sobre assuntos de inclusão, igualdade e bondade, o filme nunca consegue sair do espaço genérico que já vimos tantas vezes antes no cinema Então, agora você deve estar se pensando Mas isso torna esse filme tão ruim Cara, este filme é carregado com canais de produtos Apenas assistindo uma vez, tentando aproveitá-lo, encontrei 6 tipos Da Nintendo, Mojang, Microsoft, Acer, Google e Apple Se eles se importassem com a conscientização sobre o fato de que todos são iguais, eu acho eles não lambuzariam o filme com propagandas pagas Como se não bastasse, cada momento sincero ou sério é insensivelmente arruinado por uma piada tosca Todos são iguais, Beleza vai mais fundo do que a superfície, ou o tão clássico nunca julgar um livro por sua capa A mensagem está muito obscurecida Quem foi intimidado sabe que este é um melodrama irrealista, Sentiment  : 'negative'\n",
            "Review text: Caramba gostei muito desse filme, não assisti as outras adaptações e nem li o livro talvez por isso tenha gostado tanto O elenco é perfeito, mas pena que não dão espaço para o desenvolvimento de todos, eu gostei da atuação pequena de Johnny Depp, ele tirou um pouco aquela atuação dos filmes de Tim Burton e se saiu bem, Daisy Ridley tá perfeita como sempre, aah e o que falar de Michelle Pfeiffer S2, e Kenneth Branagh também está perfeito tanto como ator e diretor, os outros integrantes do elenco estão bem mas não recebem tanto destaque Eu acabei me sentindo um pouco entediado na metade do filme, mas me surpreendi com o final Merece ser visto, Sentiment  : 'positive'\n",
            "Review text: A história a princípio é muito boa, porém foi mal executada, Sentiment  : 'negative'\n",
            "Review text: O visual é lindo, mas como o ineditismo da história morreu para mim no livro, não sobrou muito além do visual adorável Eu tinha uma expectativa monstro, devido a tantas pessoas que o indicaram, não ao livro, que não foi cumprida Sim, são obras, mídias e visões diferentes, mas tem tanta gente falando no final clichê, que não posso deixar de achar que pecaram bastante neste sentido no filme, em não peitar o final estupendo do livro não que o livro seja muito melhor, começa brilhantemente, mas aí descamba de um jeito quando a família começa a ser influenciada pelo Alan, fica um horror até o final, que redime um pouco Amo musicais, mas achei as músicas tão chatinhas, desinteressantes, não acrescentaram nada É um tema que foi inicialmente tratado de forma tão original, pena não terem mantido a originalidade, Sentiment  : 'negative'\n",
            "Review text: jessica é uma chata, mas sacudiu a vida da val, entao que bom que a personagem dela existiu nessa historia e o legal é justamente isso todos têm lá seus montes de defeitos e virtudes, Sentiment  : 'positive'\n",
            "Review text: Achei clichê, meio Nicholas Sparks, bem problemático, Sentiment  : 'negative'\n",
            "Review text: gente tô MUITO curiosa, Sentiment  : 'positive'\n",
            "Review text: O filme não me despertou emoção alguma É bem bolado, mas não achei de forma alguma esse fenômeno todo, Sentiment  : 'negative'\n",
            "Review text: Very good, Sentiment  : 'positive'\n",
            "Review text: Gostei,mas eu esperava um final diferente e melhor, Sentiment  : 'positive'\n",
            "Review text: Adoreei Fantástico e envolvente Foi muito bem desenvolvido esse mundo dos vídeos games deles, um mundo totalmente novo A forma como eles vão de um jogo para o outro é ótima haha, Sentiment  : 'positive'\n",
            "Review text: Esperava mais, Sentiment  : 'positive'\n",
            "Review text: ver esse filme me deu vontade de arrumar um Clyde e sair por aí roubando bancos, Sentiment  : 'negative'\n",
            "Review text: na real, forrest era mais inteligente que qualquer outro no filme, Sentiment  : 'positive'\n",
            "Review text: Um dos melhores filmes do ano Vale muito a pena, sério Deu até vontade de ser um vingador Pena que vamos ter que esperar até 2018 pra ver o próximo, Sentiment  : 'positive'\n",
            "Review text: Não consegui descrever os meus sentimentos depois de assistir esse filme, Sentiment  : 'positive'\n",
            "Review text: Começo e final do filme são muito bons a ironia presente em seu desfecho é ótima , mas Spielberg e Tom Cruise embaçam o meio-campo 5/10 www monocineblog blogspot com, Sentiment  : 'negative'\n",
            "Review text: Como pude demorar tanto para assistir esse filme Acabei de assistir Estou encantado Dizer que o destaque fica por conta da BELÍSSIMA direção de arte, talvez fosse diminuir a grandiosidade do filme como um todo Alguém aí atrás fez um paralelo desse filme com um outro grande clássico do cinema e eu tive de concordar DOUTOR JIVAGO é E o Vento Levou russo Desesperadora a cena em que Yuri, dentro do bonde, vê Lara caminhando pela rua Deu vontade de também gritar pela Lara para que ela se virasse PS Não fazia ideia que a famosa canção Lara's Theme havia sido composta exclusivamente filme Tão linda quanto o filme e personagem título, Sentiment  : 'positive'\n",
            "Review text: Não gosto de filmes de terror em geral, porque costumam ser muito ruins, e, principalmente com uma temática mais sobrenatural aí que acho ruim mesmo Mas esse filme ficou bem feito, gostei das atuações, dos efeitos especiais, da relação de amizade das crianças e dos dramas pessoais Já assisti o antigo anos atrás e acredito que esse foi uma boa adaptação, Sentiment  : 'positive'\n",
            "Review text: Quase chorei várias vezes, o filme passa uma mensagem muito importante a vida é o que acontece enquanto estamos planejando o futuro Lindo, melancólico e engraçado Não é um humor obrigatório, é uma distração, até porque essa não é a premissa do filme, ri quem quer Delicado demais, Sentiment  : 'positive'\n",
            "Review text: Seth Rogen é o cara Uma das melhores comédias dos últimos tempos A prova de que toda menina, no fundo, ama um nerd hahaha, Sentiment  : 'positive'\n",
            "Review text: Ahh como eu amo filmes assim, Sentiment  : 'positive'\n",
            "Review text: é um filme com inicio chato,depois fica mais estranho com cenas bizarras,por mais que alguns falam que é cheio de metáforas,eu não gostei,agora atriz Jennifer Lawrence deu um Show, Sentiment  : 'negative'\n",
            "Review text: Doeu meu coração quando A Samantha falava com várias pessoas ao mesmo tempo e foi embora É um filme que nos mostra como temos tudo na palma da mão, o futuro que vemos ali é um futuro fácil e prático, onde perdemos o menor tempo possível em tudo Filme lindo com frases inspiradoras, Sentiment  : 'positive'\n",
            "Review text: AAAAAAAAAAAAAAAAAAAAAAAAAAAAAAAAAAAAAAAAAAAAAAAAAAAAAAAAAAAAAAAAAAAAAAAAAAAAAAAAAAAAAAAAAAAAAAAAAAAAAAAAAAAAAAAAAAAAAAAAAAAAAAAAAAAAAAAAAAAAAAAAAAAAAAAAAAAAAAAAAAAAAAAAAAAAAAAAA AAAAAAAAAAAAAAAAAAAAAAA AAAAAAAAAAAAAAAAAAAAAAAAAAAAAAAAAAAAAAAAAAAAAAAAAAAAAAAAAAAAAAAAAAAAAAAAAAAAAAAAAAAAAAAAAAAAAAAAAAAAAAAAAAAAAAAAAAAAAAAAAAAAAAAAAAAAAAAAAAAAAAAAAAAAAAAAAAAAAAAAAAAAAAAAAAAAAAAAAAAAAAAAAAAAAAAAAAAAAAAAAAAAAAAAAAAAAAAAAAAAAAAAAAAAAAAAAAAAAAAAAAAAAAAAAAAAAAAAAAAAAAAAAAAAAAAAAAAAAAAAAAAAAAAAAAAAAAAAAAAAAAAAAAAAAAAAAAAAAAAAAAAAAAAAAAAAAAAAAAAAAAAAAAAAAAAAAAAAAAAAAAAAAAAAAAAAAAAAAAAAAAAAAAAAAAAAAAAAAAAAAAAAAAAAAAAAAAAAAAAAAAAAAAAAAAAAAAAAAAAAAAAAAAAAAAAAAAAAAAAAAAAAAAAAAAAAAAAAAAAAAAAAAAAAAAAAAAAAAAAAAAAAAAAAAAAAAAAAAAAAAAAAAAAAAAAAAAAAAAAAAAAAAAAAAAAAAAAAAAAAAAAAAAAAAAAAAAAAAAAAAAAAAAAAAAAAAAAAAAAAAAAAAAAAAAAAAAAAAAAAAAAAAAAAAAAAAAAAAAAAAAAAAAAAAAAAAAAAAAAAAAAAAAAAAAAAAAAAAAAAAAAAAAAAAAAAAAAAAAAAAAAAAAAAAAAAAAAAAAAAAAAAAAAAAAAAAAAAAAAAAAAAAAAAAAAAAAAAAAAAAAAAAAAAAAAAAAAAAAAAAAAAAAAAAAAAAAAAAAAAAAAAAAAAAAAAAAAAAAAAAAAAAAAAAAAAAAAAAAAAAAAAAAAAAAAAAAAAAAAAAAAAAAAAAAAAAAAAAAAAAAAAAAAAAAAAAAAAAAAAAAAAAAAAAAAAAAAAAAAAAA se vc nao gostou sua opinião é irrelevante e vc é chato ninguem te suporta, Sentiment  : 'negative'\n",
            "Review text: Esse filme é um dos meus filmes mais queridos É inteligente e sutil em analisar as emoções, em passá-las para quem tá assistindo Aquela cena Expectations X Reality encanta O filme mostra que como e com o tempo o amor e as nossas crenças nele mudam, passam e que nem tudo é tão ruim que não faça um bem E tudo isso acompanhado de uma trilha sonora perfeita, Sentiment  : 'positive'\n",
            "Review text: A prova de que até Guilhermo del Toro erra, Sentiment  : 'neutral'\n",
            "Review text: gostei, Sentiment  : 'positive'\n",
            "Review text: Gravity primeiramente é um espetáculo visual É um filme que eu diria finalmente acharam o 3D Embora o fato de tudo no cenário estar bem longe dos personagens, o efeito é bem melhor aproveitado por isso Mesmo assim, não desmerece em nada o trabalho de Cuarón, porque o susto que eu levei quando destroços do satélite russo vieram de encontro a tela, não foi pequeno RISOS Apesar de ser um filme que se passa no espaço, não vi mais nenhum elemento que o caracterizasse como ficção científica, como é classificado Li uma crítica muito boa sobre o filme, que diz que ele fala de perdão Acho que todo mundo ficou preso à ideia de superação, de não desistir, etc Mas acho que a ideia do perdão engrandece o filme e muito Na prática é um filme bem simples em se tratando de roteiro Acho que tem bastante clichês, mas eu gosto de como eles foram trabalhados, isso fez toda a diferença Mas a história da mãe que perdeu um filho e se culpa por isso até encontrar um cara gente boa que dá uma lição de vida, eu diria que é bem batido Só que a ambientação, os diálogos e a trilha sonora, transformaram esse clichê numa história emocionante como se ela nunca tivesse sido contada Curti demais Agora vamos para meu momento chata-do-pão sorry Cuarón, eu amo você, Sentiment  : 'positive'\n",
            "Review text: Não basta terem estragado o final da série, estragaram o filme também O filme teve algumas partes interessantes como o relacionamento da George com a Reggie depois de 5 anos, mas fora isso, eles estragaram completamente o filme O sumiço do Rube e a troca de atriz da Daisy foram as piores partes do filme, Sentiment  : 'negative'\n",
            "Review text: Bom, é um ótimo filme, e de fato é a primeira princesa que não se casa no final, mas pelo trailer eu esperava um pouco mais de ação, tem poucas cenas de arco e flecha, pouca sena de combate que parecia ser um dos principais aspectos do filme, fora isso é ótimo, com personagens engraçados e bem inseridos na estória a bruxa artesã que usa alargadores é ótima Recomendado, Sentiment  : 'positive'\n",
            "Review text: São coelhos de verdade, manipulados por fios de nylon, Sentiment  : 'neutral'\n",
            "Review text: O melhor de todos, Sentiment  : 'positive'\n",
            "Review text: Único como a autora, Sentiment  : 'neutral'\n",
            "Review text: Raso e apelativo como poucos Poucos de que, por acaso, gosto muito, Sentiment  : 'positive'\n",
            "Review text: Incrível A Pixar se supera a cada filme Tão bom quanto Toy Story 2, o 3º filme é, além de engraçado, muito comovente principalmente para os fãs dos clássicos de 1996 e 1998 Um roteiro mais que exelente e a perfeição nos detalhes marca da Pixar completam esse longa candidatíssimo ao Oscar 2010 de Melhor Animação, Sentiment  : 'positive'\n",
            "Review text: e como o amigo disseou você ama, ou você odeiaconfesso que fiquei perdido no começo do filme até as historias se instabilizarem e começarem a fazer sentidomais e muito legal e vale realmente a pena ver, Sentiment  : 'positive'\n",
            "Review text: dos filmes do herói, certamente é o melhor, Sentiment  : 'positive'\n",
            "Review text: O filme foi bom, apenas a motivação final do porque a Segunda fez tudo aquilo que achei que fez perder um pouco no roteiro, ficou meio forçado, Sentiment  : 'positive'\n",
            "Review text: Fiquei assistindo e havia momentos em que eu tava com um sorriso estampado no rosto, olhando pra tela e completamente envolvida pela magia que ele tem É um filme que conquista fácil, é cativante todo esse esplendor, essa beleza da música e o modo como os atores estavam em perfeita sintonia É muito legal, gente, Sentiment  : 'positive'\n",
            "Review text: As escolhas estéticas dos três segmentos funcionam muito bem Não sei de qual gostei mais, mas o tom de filme B do Horror é tão bem feito que é quase impossível não acabar tendendo a ele A parte do documentário é lindamente irônica, e o segmento Homo é o mais poético, mas não exatamente o mais bonito As frases que aparecem durante o filme são outro ponto positivo, Sentiment  : 'positive'\n",
            "Review text: Muito bom Como ainda temos que evoluir quanto a aceitar o outro Porque foi tão recente Ótima lição de vida Ótimo filme, Sentiment  : 'positive'\n",
            "Review text: Depois de uma imensa frustração com esse final, acredito que consegui compreender pelo menos alguma das mensagens que o diretor quis passar com esse filme Acho que fiquei tão frustrada com esse final porque eu queria ter continuado gostando do Seligman Porque eu confiei nele Então depois daquilo, eu senti que, de certo modo, o ponto de Joe é apenas reforçado Eu também me senti enganada Afinal de contas, Joe sempre esteve certa em sua perspectiva sobre a vida, pelo menos na realidade toda que ela presenciou, dentro do repertório dela, não é possível confiar Apresentar suas fraquezas ao outro é permitir que o outro se aproveite delas, não é possível se abrir para este outro e confiar Não é seguro confiar em ninguém No fundo eu acho que esperava um pouco de romance fictício, esperava uma realidade paralela onde é possível encontrar a bondade nas pessoas e é possível em algum momento confiar nelas, mas o que esse filme traz é justamente uma perspectiva cruel e muito realista Definitivamente, é um belo de um tapa na cara, Sentiment  : 'positive'\n",
            "Review text: Queria ter descoberto esse filme com 13 anos, Sentiment  : 'neutral'\n",
            "Review text: Quem não chorou não tem coração, ok, Sentiment  : 'neutral'\n",
            "Review text: Atemporal define, Sentiment  : 'neutral'\n",
            "Review text: Difícil não lembrar de Túmulo Sinistro 1963 que o mesmo Corman dirigiu,sendo que aqui há presença hipnótica de Bábara Steele e uma arrepiante reviravolta no desfecho nesta adaptação d+um conto de Edgar Allan Poe Só aos apreciadores do gênero, Sentiment  : 'positive'\n",
            "Review text: Super amei o filme, Sentiment  : 'positive'\n",
            "Review text: Primeiro ato é ótimo, mas do meio para o fim fica uma bagunça, Sentiment  : 'neutral'\n",
            "Review text: Charles Bronson foi o melhor gaitista-matador-vingador-pistoleiro-dono de tiradas geniais enquanto corre o risco de morrer que cinema do faforeste italiano já viu, Sentiment  : 'neutral'\n",
            "Review text: Filme foda demais, um ótimo drama O mais marcante do filme é a visão inocente e pura que o menino tem sobre a guerra e seu pai, Sentiment  : 'positive'\n",
            "Review text: Gosto de artes marciais e dos filmes do Jackie Chan e esse filhinho do Will Smith é um fofo com certeza, quero assistir, Sentiment  : 'positive'\n",
            "Review text: Filmão indo e voltando, pare tudo e assista agora, Sentiment  : 'neutral'\n",
            "Review text: Puta filme, pqp, Sentiment  : 'negative'\n",
            "Review text: qual cinema q já ta passando PQP aki em São José dos Campos n ta ainda, Sentiment  : 'neutral'\n",
            "Review text: Um dos meus filmes favoritos Produção impecável, atuações excelentes, roteiro bem desenvolvido Mas não é melhor que o original de 78, época em que as produções eram regadas a décadas de perversão represada Desaconselhável para quem não gosta de ver sangue e violência nua e crua, Sentiment  : 'positive'\n",
            "Review text: gostei muito, Sentiment  : 'positive'\n",
            "Review text: Uma agradável descoberta, Sentiment  : 'positive'\n",
            "Review text: LA LA LAND EU TE VENERO gente eu não esperava nada, pensava que era um puta oscar bait mas que filme lindo e tão real também pode vim pegar todos os oscars, Sentiment  : 'positive'\n",
            "Review text: eu adoro filme de julgamento e odeio filme de terror, mas resolvi dar uma olhada nesse aqui tirando a trilha sonora durante as cenas dos ataques que, como em todo filme de terror, visam te assustar, o filme é bem legalzinho o problema aqui é q vc é induzido a acreditar na versão sobrenatural dos fatos o tempo todo inclusive eu acho que seria mto melhor se durante tais cenas, ficasse só o audio do julgamento, por exemplo, a imagem da garota se debatendo com os olhos revirados, com todo aquele clima sombrio da cena, naturalmente já evocaria a possibilidade de possessão, mas sem o audio assustador, só a voz do médico falando se tratar de uma convulsão, ficaria mais a cargo do espectador decidir a verdade o que, ao meu ver, é essencial num filme de julgamento ou a gente torce pro mocinho q n é o caso aqui ou a gente fica em dúvida e se deixa convencer pelo melhor argumento, Sentiment  : 'negative'\n",
            "Review text: Muito Bom O filme já começa foda ao som de Blue Da Ba Dee , do Eiffel 65 e a partir daí não para mais Tony Stark mais humano do que nunca e ainda assim, continua com suas ótimas fanfarronices Personagens bacanas como o menininho lá , Stan Lee em uma cena piscou perdeu , Pepper Gwyneth Paltrow simplesmente badass, sequencias maravilhosas de ação e um bom desfecho pra trilogia iniciada em 2008 Além disso, temos Tony Stark em seus momentos alá Jason Bourne e 007, gostei de vê-lo assim em ação por alguns minutos Vibrei ao ver a armadura Hulk Blind Master em ação no final, com as demais armaduras A única coisa que deslizaram feio foi o fato de repetirem o mesmo erro de O Cavaleiro das Trevas Ressurge apresentar um vilão foda, estiloso e ameaçador e depois simplesmente desmerece-lo Ridicularizaram o personagem Mandarim, que nos quadrinhos, além de ser chinês e descendente de Genghis Khan, foi ranqueado como o 81º maior vilão de quadrinhos de todos os tempos e inclusive é um dos grandes vilões dos Vingadores nos HQ’s Mas mesmo assim, o filme é tão bom que nos faz ignorar esse detalhe Senti falta de AC/DC na trilha sonora como de praxe Sim, não é melhor que o primeiro mas é bem superior ao segundo filme isso todo mundo já comentou aqui, Sentiment  : 'positive'\n",
            "Review text: Parabéns, Marvel Studios, por se reinventar e de um jeito muito positivo Capitão América 2 O Soldado Invernal se diferencia não apenas dos filmes da fase 2 do Marvelverso como da própria fórmula da Marvel usada até aqui Ele se permite ter um roteiro mais complexo, sem se levar a sério demais Não apela pra carnificina gratuita, mas não é mais tão politicamente correto em relação a cenas violentas Tem seus momentos de humor típicos dos filmes da Marvel, mas não se apoia nisso pra ser um filme bacana de se ver Eu me tornei um fã do Capitão graças ao primeiro filme Agora sou mais fã ainda e torço pra que essa leve dose de ousadia de O Soldado Invernal não se perca nas futuras continuações, Sentiment  : 'positive'\n",
            "Review text: Um ótimo filme, Sentiment  : 'positive'\n",
            "Review text: Ignorarei tais comentários abaixo, Sentiment  : 'neutral'\n",
            "Review text: Muito fofo, pensei que ia ser bem bestinha, mas é realmente bom, Sentiment  : 'positive'\n",
            "Review text: Depois de ver Kill Bill e À porva de Morte, Tarantino me apresenta mais uma obra prima, além do trabalho sensacional de Christoph Waltz e Brad Pitt Não me perdoo por ter demorado tanto pra assistir, Sentiment  : 'positive'\n",
            "Review text: I saved Latin What did you ever do, Sentiment  : 'neutral'\n",
            "Review text: Sinceramente, nunca na minha vida fiquei tão deprê após assistir um filme Depressão pós filme + lista de favoritos, sem mais, Sentiment  : 'neutral'\n",
            "Review text: Lembo de quando era criança, chorei muito na hora em que ela quer por os óculos nele, Sentiment  : 'neutral'\n",
            "Review text: Um pouco menos de pólvora e mais neurônios deixariam o filme melhor, Sentiment  : 'neutral'\n",
            "Review text: e a velha batalha entre o bem e o mal Na própria sinopse do filme diz que é clichê HUEHUAUHHUEA, Sentiment  : 'neutral'\n",
            "Review text: profano kkkk, Sentiment  : 'neutral'\n",
            "Review text: É divertido, mas bem fraco em comparação aos primeiros Acho que já chega de Piratas do Caribe né Assistível uma vez, Sentiment  : 'positive'\n",
            "Review text: Você gosta de alguém porque E ama alguém apesar de, Sentiment  : 'positive'\n",
            "Review text: A interpretação de Christoph Waltz Walter Keane está fantástica, principalmente na cena do tribunal, Sentiment  : 'positive'\n",
            "Review text: Um dos clássicos mais fodas, Sentiment  : 'positive'\n",
            "Review text: Longo, cansativo e chato, Sentiment  : 'negative'\n",
            "Review text: fui assistir com as expectativas lá em baixo, então ele cumpriu seu papel de distração a única parte realmente boa pra mim é a citação de Breakfast Club huahauhauhaua, Sentiment  : 'negative'\n",
            "Review text: Um filme genial, impecável Tanto a parte técnica quanto a artística são excelentes, como a violenta cena no início onde o famigerado CGI foi utilizado inteligentemente por Noé As atuações não são menos que viscerais, o uso do câmera é espetacular, bem como o recurso da cronologia inversa, criando uma perfeita des construção de personagens Porém devido ao seu conteúdo é obviamente não recomendado para pessoas mais sensíveis, eu mesmo virava o rosto em alguns momentos Mas isso não desmerece em nada essa obra-prima, pelo contrário, tais cenas foram absolutamente necessárias para que o filme atingisse o espectador 10/10, Sentiment  : 'positive'\n",
            "Review text: O filme é muito lindinho e traz uma bela lição do que realmente importa, e como em todas as animações a mensagem chega a ser mais brutal do que muitos filmes em live action O Touro Ferdinando tem aquela bela lição sobre quem é o mais cruel na história, obviamente o ser humano, mostrando a bela faceta dos animais e sua inocência As touradas sempre foram algo que me incomodaram muito e me causaram grande tristeza, e a forma como o filme aborda essa atrocidade é tão singela e ao mesmo tempo tão pesada que te mantém grudado na tela o tempo todo, e ao final dá vontade de aplaudir O Ferdinando é uma graça, eu achei ele tão fofo e os outros personagens também são incríveis, a Lupe também é uma graça e ela falando sobre amor ao final foi muito lindo Enfim, amei o filme e achei merecida a indicação ao Oscar, não chega a ser melhor que Viva mas também tem seu valor e é muito bom e válido, Sentiment  : 'positive'\n",
            "Review text: Nunca entendi o motivo de não gostarem do final desse filme, é simplesmente incrível e inesperado, me surpreendeu muito A trama foi muito bem desenvolvida e um mistério muito bem construído, Sentiment  : 'positive'\n",
            "Review text: Entendi nada e gostei de tudo, Sentiment  : 'positive'\n",
            "Review text: Gostei bastante Ótimo suspense Final imprevisível Vale a pena assistir, Sentiment  : 'positive'\n",
            "Review text: PERFEITO, Sentiment  : 'positive'\n",
            "Review text: A cena do Oskar saindo da piscina é muito boa, o sorriso que ele dá é realmente lindo, Sentiment  : 'positive'\n",
            "Review text: Hitchcock e sua habilidade em criar situações de tensão Filme muito bom, mas prefiro aqueles em que existe suspense e o romance está como pano de fundo o que, em muitos momentos, não é o caso desse Sobre o cenário Política da Boa Vizinhança rules , Sentiment  : 'positive'\n"
          ]
        }
      ]
    },
    {
      "cell_type": "code",
      "metadata": {
        "colab": {
          "base_uri": "https://localhost:8080/",
          "height": 424
        },
        "id": "yA9ChuE0eW1n",
        "outputId": "fd336135-34a0-4b6c-af85-4332dd6102a8"
      },
      "source": [
        "dfTest"
      ],
      "execution_count": null,
      "outputs": [
        {
          "output_type": "execute_result",
          "data": {
            "text/html": [
              "<div>\n",
              "<style scoped>\n",
              "    .dataframe tbody tr th:only-of-type {\n",
              "        vertical-align: middle;\n",
              "    }\n",
              "\n",
              "    .dataframe tbody tr th {\n",
              "        vertical-align: top;\n",
              "    }\n",
              "\n",
              "    .dataframe thead th {\n",
              "        text-align: right;\n",
              "    }\n",
              "</style>\n",
              "<table border=\"1\" class=\"dataframe\">\n",
              "  <thead>\n",
              "    <tr style=\"text-align: right;\">\n",
              "      <th></th>\n",
              "      <th>Sentence</th>\n",
              "      <th>Sentiment</th>\n",
              "    </tr>\n",
              "  </thead>\n",
              "  <tbody>\n",
              "    <tr>\n",
              "      <th>0</th>\n",
              "      <td>O inseto faz sons para tentar acasalar com a J...</td>\n",
              "      <td>positive</td>\n",
              "    </tr>\n",
              "    <tr>\n",
              "      <th>1</th>\n",
              "      <td>Pode ser chamado também de estupro emocional</td>\n",
              "      <td>neutral</td>\n",
              "    </tr>\n",
              "    <tr>\n",
              "      <th>2</th>\n",
              "      <td>Mais uma ótima animação da DC, e que bom ver o...</td>\n",
              "      <td>positive</td>\n",
              "    </tr>\n",
              "    <tr>\n",
              "      <th>3</th>\n",
              "      <td>Ohana E o melhor Elvis Cover da história do en...</td>\n",
              "      <td>positive</td>\n",
              "    </tr>\n",
              "    <tr>\n",
              "      <th>4</th>\n",
              "      <td>Que filme/desfecho maravilhoso Um dos mais lin...</td>\n",
              "      <td>positive</td>\n",
              "    </tr>\n",
              "    <tr>\n",
              "      <th>...</th>\n",
              "      <td>...</td>\n",
              "      <td>...</td>\n",
              "    </tr>\n",
              "    <tr>\n",
              "      <th>379</th>\n",
              "      <td>Entendi nada e gostei de tudo</td>\n",
              "      <td>positive</td>\n",
              "    </tr>\n",
              "    <tr>\n",
              "      <th>380</th>\n",
              "      <td>Gostei bastante Ótimo suspense Final imprevisí...</td>\n",
              "      <td>positive</td>\n",
              "    </tr>\n",
              "    <tr>\n",
              "      <th>381</th>\n",
              "      <td>PERFEITO</td>\n",
              "      <td>positive</td>\n",
              "    </tr>\n",
              "    <tr>\n",
              "      <th>382</th>\n",
              "      <td>A cena do Oskar saindo da piscina é muito boa,...</td>\n",
              "      <td>positive</td>\n",
              "    </tr>\n",
              "    <tr>\n",
              "      <th>383</th>\n",
              "      <td>Hitchcock e sua habilidade em criar situações ...</td>\n",
              "      <td>positive</td>\n",
              "    </tr>\n",
              "  </tbody>\n",
              "</table>\n",
              "<p>384 rows × 2 columns</p>\n",
              "</div>"
            ],
            "text/plain": [
              "                                              Sentence Sentiment\n",
              "0    O inseto faz sons para tentar acasalar com a J...  positive\n",
              "1         Pode ser chamado também de estupro emocional   neutral\n",
              "2    Mais uma ótima animação da DC, e que bom ver o...  positive\n",
              "3    Ohana E o melhor Elvis Cover da história do en...  positive\n",
              "4    Que filme/desfecho maravilhoso Um dos mais lin...  positive\n",
              "..                                                 ...       ...\n",
              "379                      Entendi nada e gostei de tudo  positive\n",
              "380  Gostei bastante Ótimo suspense Final imprevisí...  positive\n",
              "381                                           PERFEITO  positive\n",
              "382  A cena do Oskar saindo da piscina é muito boa,...  positive\n",
              "383  Hitchcock e sua habilidade em criar situações ...  positive\n",
              "\n",
              "[384 rows x 2 columns]"
            ]
          },
          "metadata": {},
          "execution_count": 99
        }
      ]
    },
    {
      "cell_type": "code",
      "metadata": {
        "id": "Vcdpi7RqfEi1"
      },
      "source": [
        "#dfTest.to_csv('/content/drive/MyDrive/Colab Notebooks/LREC2022/b2wSentPT9_predict.tsv', sep = '\\t', index=False)\n",
        "#dfTest.to_csv('/content/drive/MyDrive/Colab Notebooks/LREC2022/buscapeSentPT9_predict.tsv', sep = '\\t', index=False)\n",
        "#dfTest.to_csv('/content/drive/MyDrive/Colab Notebooks/LREC2022/olistSentPT9_predict.tsv', sep = '\\t', index=False)\n",
        "#dfTest.to_csv('/content/drive/MyDrive/Colab Notebooks/LREC2022/utlc_appsSentPT9_predict.tsv', sep = '\\t', index=False)\n",
        "dfTest.to_csv('/content/drive/MyDrive/Colab Notebooks/LREC2022/utlc_moviesSentPT9_predict.tsv', sep = '\\t', index=False)"
      ],
      "execution_count": null,
      "outputs": []
    }
  ]
}